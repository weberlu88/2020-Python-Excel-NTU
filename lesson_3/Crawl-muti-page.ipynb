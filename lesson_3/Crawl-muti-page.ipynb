{
 "cells": [
  {
   "cell_type": "markdown",
   "metadata": {},
   "source": [
    "## 如果要爬蟲多支股票的資料\n",
    "* 鴻海   https://tw.stock.yahoo.com/q/q?s=2317\n",
    "* 台積電 https://tw.stock.yahoo.com/q/q?s=2330"
   ]
  },
  {
   "cell_type": "code",
   "execution_count": 4,
   "metadata": {},
   "outputs": [],
   "source": [
    "from bs4 import BeautifulSoup\n",
    "import requests\n",
    "import time\n",
    "import xlwings as xw\n",
    "\n",
    "def yahoo_stock_crawler(stock_id):\n",
    "    \n",
    "    doc = requests.get(f\"https://tw.stock.yahoo.com/q/q?s={stock_id}\")\n",
    "    html = BeautifulSoup(doc.text, 'html.parser')\n",
    "    # 搜尋整個網頁裡，內容為 '個股資料' 的 html 標籤, 關聯到 table 最外層\n",
    "    table = html.findAll(text=\"個股資料\")[0].parent.parent.parent\n",
    "    # 找尋 table 裡第二個 tr 標籤內所有的 td 標籤\n",
    "    data_row = table.select(\"tr\")[1].select(\"td\")\n",
    "    # 截取當日的交易價格(OHLC)，以及昨日收盤價\n",
    "    last_close = data_row[7].text\n",
    "    open_price = data_row[8].text\n",
    "    high_price = data_row[9].text\n",
    "    low_price  = data_row[10].text\n",
    "    close_price = data_row[2].text\n",
    "    \n",
    "    return {\n",
    "        \"open\": open_price,\n",
    "        \"high\": high_price,\n",
    "        \"low\" : low_price,\n",
    "        \"close\": close_price,\n",
    "        \"lastClose\": last_close\n",
    "    }"
   ]
  },
  {
   "cell_type": "code",
   "execution_count": 5,
   "metadata": {
    "collapsed": true
   },
   "outputs": [
    {
     "data": {
      "text/plain": [
       "{'open': '82.5',\n",
       " 'high': '83.4',\n",
       " 'low': '82.3',\n",
       " 'close': '82.5',\n",
       " 'lastClose': '82.2'}"
      ]
     },
     "execution_count": 5,
     "metadata": {},
     "output_type": "execute_result"
    }
   ],
   "source": [
    "# Test Foxconn\n",
    "yahoo_stock_crawler(2317)"
   ]
  },
  {
   "cell_type": "code",
   "execution_count": 6,
   "metadata": {
    "collapsed": true
   },
   "outputs": [
    {
     "data": {
      "text/plain": [
       "{'open': '329.5',\n",
       " 'high': '331.0',\n",
       " 'low': '329.0',\n",
       " 'close': '329.5',\n",
       " 'lastClose': '327.5'}"
      ]
     },
     "execution_count": 6,
     "metadata": {},
     "output_type": "execute_result"
    }
   ],
   "source": [
    "# Test TSMC\n",
    "yahoo_stock_crawler(2330)"
   ]
  },
  {
   "cell_type": "code",
   "execution_count": 9,
   "metadata": {},
   "outputs": [
    {
     "name": "stdout",
     "output_type": "stream",
     "text": [
      "2884 {'open': '29.00', 'high': '29.15', 'low': '28.95', 'close': '28.95', 'lastClose': '28.85'}\n",
      "2330 {'open': '329.5', 'high': '331.0', 'low': '329.0', 'close': '330.0', 'lastClose': '327.5'}\n",
      "2317 {'open': '82.5', 'high': '83.4', 'low': '82.3', 'close': '82.5', 'lastClose': '82.2'}\n",
      "2454 {'open': '381.0', 'high': '390.5', 'low': '380.0', 'close': '384.5', 'lastClose': '381.0'}\n"
     ]
    }
   ],
   "source": [
    "# 玉山 TSMC Foxconn 聯發科\n",
    "stocks = [2884, 2330, 2317, 2454] \n",
    "\n",
    "for stock in stocks:\n",
    "    print(stock, yahoo_stock_crawler(stock))"
   ]
  },
  {
   "cell_type": "markdown",
   "metadata": {},
   "source": [
    "## 寫到excel裡"
   ]
  },
  {
   "cell_type": "code",
   "execution_count": 19,
   "metadata": {},
   "outputs": [],
   "source": [
    "# 單元測試\n",
    "\n",
    "wb = xw.Book(r\"tw_stock_portfolio.xlsx\")\n",
    "wb.sheets # lists of all sheets\n",
    "sheet = wb.sheets[\"TW2330\"] # open sheet = \"TW2330\"\n",
    "last_row = sheet.range(\"A1\").end(\"down\").row\n",
    "\n",
    "stock_data = yahoo_stock_crawler(2330)\n",
    "\n",
    "sheet.range(f\"A{last_row+1}\").value = time.strftime(\"%Y/%m/%d\")\n",
    "sheet.range(f\"B{last_row+1}\").value = stock_data['open']\n",
    "sheet.range(f\"C{last_row+1}\").value = stock_data['high']\n",
    "sheet.range(f\"D{last_row+1}\").value = stock_data['low']\n",
    "sheet.range(f\"E{last_row+1}\").value = stock_data['close']\n",
    "sheet.range(f\"F{last_row+1}\").value = stock_data['lastClose']"
   ]
  },
  {
   "cell_type": "code",
   "execution_count": 23,
   "metadata": {},
   "outputs": [
    {
     "name": "stdout",
     "output_type": "stream",
     "text": [
      "<Sheet [tw_stock_portfolio.xlsx]TW2884>\n",
      "26\n",
      "{'open': '29.00', 'high': '29.15', 'low': '28.95', 'close': '29.05', 'lastClose': '28.85'}\n",
      "---\n",
      "<Sheet [tw_stock_portfolio.xlsx]TW2330>\n",
      "26\n",
      "{'open': '329.5', 'high': '331.0', 'low': '329.0', 'close': '329.5', 'lastClose': '327.5'}\n",
      "---\n",
      "<Sheet [tw_stock_portfolio.xlsx]TW2317>\n",
      "26\n",
      "{'open': '82.5', 'high': '83.4', 'low': '82.3', 'close': '82.5', 'lastClose': '82.2'}\n",
      "---\n"
     ]
    }
   ],
   "source": [
    "# 利用函數寫入所有的sheet\n",
    "\n",
    "stocks = [2884, 2330, 2317] \n",
    "\n",
    "for stock in stocks:\n",
    "    sheet = wb.sheets[f\"TW{stock}\"]\n",
    "    print(sheet)\n",
    "    \n",
    "    last_row = sheet.range(\"A1\").end(\"down\").row\n",
    "    print(last_row)\n",
    "    \n",
    "    stock_data = yahoo_stock_crawler(stock)\n",
    "    print(stock_data)\n",
    "    \n",
    "    sheet.range(f\"A{last_row+1}\").value = time.strftime(\"%Y/%m/%d\")\n",
    "    sheet.range(f\"B{last_row+1}\").value = stock_data['open']\n",
    "    sheet.range(f\"C{last_row+1}\").value = stock_data['high']\n",
    "    sheet.range(f\"D{last_row+1}\").value = stock_data['low']\n",
    "    sheet.range(f\"E{last_row+1}\").value = stock_data['close']\n",
    "    sheet.range(f\"F{last_row+1}\").value = stock_data['lastClose']\n",
    "    print(\"---\")"
   ]
  },
  {
   "cell_type": "code",
   "execution_count": null,
   "metadata": {},
   "outputs": [],
   "source": []
  }
 ],
 "metadata": {
  "kernelspec": {
   "display_name": "Python 3",
   "language": "python",
   "name": "python3"
  },
  "language_info": {
   "codemirror_mode": {
    "name": "ipython",
    "version": 3
   },
   "file_extension": ".py",
   "mimetype": "text/x-python",
   "name": "python",
   "nbconvert_exporter": "python",
   "pygments_lexer": "ipython3",
   "version": "3.7.4"
  }
 },
 "nbformat": 4,
 "nbformat_minor": 2
}
