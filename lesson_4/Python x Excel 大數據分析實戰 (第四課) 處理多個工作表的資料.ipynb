{
 "cells": [
  {
   "cell_type": "code",
   "execution_count": 1,
   "metadata": {
    "scrolled": true
   },
   "outputs": [],
   "source": [
    "import xlwings as xw\n",
    "import time\n",
    "\n",
    "# 以我們上一堂課的 Excel 檔案爲例，打開你的 stock_portfolio_backtest.xlsx 檔案\n",
    "wb = xw.Book(r\"stock_portfolio_backtest.xlsx\")"
   ]
  },
  {
   "cell_type": "markdown",
   "metadata": {},
   "source": [
    "# 動態截取所有的工作表\n",
    "\n",
    "wb.sheets 可以搜尋出該工作簿底下所有的工作表，注意它是以 List 的方式回傳：\n",
    "```python\n",
    "Sheets([<Sheet [20180915_tw_stock_portfolio.xlsx]TW2882>, <Sheet [20180915_tw_stock_portfolio.xlsx]TW2454>, <Sheet [20180915_tw_stock_portfolio.xlsx]TW2330>])\n",
    "```"
   ]
  },
  {
   "cell_type": "markdown",
   "metadata": {},
   "source": [
    " ```python\n",
    "# 選擇單一試算表，將該試算表物件存入 sheet 變數\n",
    "sheet = wb.sheets[\"TW2330\"]\n",
    "\n",
    "# sheet.activate 代表在 Excel 應用程式上開啓 sheet 函數所代表的試算表物件\n",
    "sheet.activate()\n",
    "```"
   ]
  },
  {
   "cell_type": "code",
   "execution_count": 4,
   "metadata": {
    "scrolled": true
   },
   "outputs": [],
   "source": [
    "# 透過 wb.sheets 截取到該工作簿/Excel檔案下所有的試算表\n",
    "sheet = wb.sheets[\"TW2330\"]\n",
    "sheet.activate()"
   ]
  },
  {
   "cell_type": "markdown",
   "metadata": {},
   "source": [
    "接下來我們就可以用一個 for 迴圈開啓每一個試算表：\n",
    "\n",
    "```python\n",
    "for sheet in wb.sheets:\n",
    "    # 每迭代到一個試算表，就把它開啓\n",
    "    sheet.activate()\n",
    "    # 隔兩秒後，迭代到下一個試算表\n",
    "    time.sleep(2)\n",
    "```"
   ]
  },
  {
   "cell_type": "code",
   "execution_count": 7,
   "metadata": {},
   "outputs": [
    {
     "name": "stdout",
     "output_type": "stream",
     "text": [
      "<Sheet [stock_portfolio_backtest.xlsx]Portfolio>\n",
      "<Sheet [stock_portfolio_backtest.xlsx]範例>\n",
      "<Sheet [stock_portfolio_backtest.xlsx]TW2454>\n",
      "<Sheet [stock_portfolio_backtest.xlsx]TW2330>\n",
      "<Sheet [stock_portfolio_backtest.xlsx]TW2884>\n"
     ]
    }
   ],
   "source": [
    "for sheet in wb.sheets:\n",
    "    # 每迭代到一個試算表，就把它開啓\n",
    "    print(sheet)\n",
    "    sheet.activate()\n",
    "    # 隔兩秒後，迭代到下一個試算表\n",
    "    time.sleep(2)"
   ]
  },
  {
   "cell_type": "markdown",
   "metadata": {},
   "source": [
    "## 整合一下我們目前學會的...\n",
    "\n",
    "針對多個試算表進行回測"
   ]
  },
  {
   "cell_type": "code",
   "execution_count": 8,
   "metadata": {
    "scrolled": true
   },
   "outputs": [],
   "source": [
    "# 定義一個 run_back_test 函數，處理單一試算表的股價回測\n",
    "def run_back_test(tsmc_sheet):\n",
    "    # 從 B1 儲存格開始，往下查找到最後一個有值的儲存格\n",
    "    last_cell = tsmc_sheet.range('A1').end('down')\n",
    "    # 截取該儲存格的 row 值\n",
    "    last_row = last_cell.row\n",
    "\n",
    "    # 設定我們的範例試算表上的名稱\n",
    "    tsmc_sheet.range('K2:K11').name = 'weight10d'\n",
    "    tsmc_sheet.range('K2:K6').name = 'weight5d'\n",
    "\n",
    "    # 5日加權移動平均計算\n",
    "    for i in range(6, last_row+1):\n",
    "        # 由於我們需要把兩個陣列相乘，因此這是一個 Excel 的陣列運算\n",
    "        formula = f\"=SUM(B{i-4}:B{i}*weight5d)/SUM(weight5d)\"\n",
    "        # 若一個 Excel 的公式使用到陣列運算，需要用 .formula_array 設定\n",
    "        tsmc_sheet.range(f\"C{i}\").formula_array = formula\n",
    "\n",
    "    # 10日加權移動平均計算\n",
    "    for i in range(11, last_row+1):\n",
    "        # 由於我們需要把兩個陣列相乘，因此這是一個 Excel 的陣列運算\n",
    "        formula = f\"=SUM(B{i-9}:B{i}*weight10d)/SUM(weight10d)\"\n",
    "        # 若一個 Excel 的公式使用到陣列運算，需要用 .formula_array 設定\n",
    "        tsmc_sheet.range(f\"D{i}\").formula_array = formula\n",
    "\n",
    "    # 計算第一天的交易 2017/10/20\n",
    "    tsmc_sheet.range(\"E11\").value = 1000\n",
    "    tsmc_sheet.range(\"F11\").value = 0\n",
    "    tsmc_sheet.range(\"G11\").value = 1000\n",
    "    tsmc_sheet.range(\"H11\").value = tsmc_sheet.range(\"L18\").value - tsmc_sheet.range(\"B11\").value * 1000\n",
    "    tsmc_sheet.range(\"I11\").value = tsmc_sheet.range(\"H11\").value +  tsmc_sheet.range(\"B11\").value * tsmc_sheet.range(\"G11\").value\n",
    "\n",
    "\n",
    "    # 實作交易策略\n",
    "    for i in range(12, last_row+1):\n",
    "        # 截取當天的 5日加權移動平均\n",
    "        short_term_ma = tsmc_sheet.range(f\"C{i}\").value\n",
    "        # 截取當天的 10日加權移動平均\n",
    "        long_term_ma = tsmc_sheet.range(f\"D{i}\").value\n",
    "        # 截取當天收盤價\n",
    "        price_today = tsmc_sheet.range(f\"B{i}\").value\n",
    "        # 若 5日 > 10日，而且我有足夠買入以今日收盤價計價的 1000 股的現金，就買入 1000 股（在 E 欄顯示 1000）\n",
    "        if (short_term_ma > long_term_ma) and (tsmc_sheet.range(f\"H{i-1}\").value > price_today * 1000):\n",
    "            tsmc_sheet.range(f\"E{i}\").value = 1000\n",
    "        else:\n",
    "            # 若上述條件不符和，就買入 0 股，（在 E 欄顯示 0）\n",
    "            tsmc_sheet.range(f\"E{i}\").value = 0\n",
    "        # 若 10日 > 5日，而且昨天的持有股數大於 1000 股，就賣出 1000 股\n",
    "        if (long_term_ma > short_term_ma) and (tsmc_sheet.range(f\"G{i-1}\").value >= 1000):\n",
    "            tsmc_sheet.range(f\"F{i}\").value = 1000\n",
    "        else:\n",
    "            tsmc_sheet.range(f\"F{i}\").value = 0\n",
    "        # 持有股數，算法是前一天的持有股數 + 今天的買入股數 - 今天的賣出股數\n",
    "        tsmc_sheet.range(f\"G{i}\").value = tsmc_sheet.range(f\"G{i-1}\").value + tsmc_sheet.range(f\"E{i}\").value - tsmc_sheet.range(f\"F{i}\").value\n",
    "        # 持有資金，算法是前一天的持有資金 + 今日收盤價 x (今天的賣出股數 - 今天的買入股數)\n",
    "        tsmc_sheet.range(f\"H{i}\").value = tsmc_sheet.range(f\"H{i-1}\").value + price_today * (tsmc_sheet.range(f\"F{i}\").value - tsmc_sheet.range(f\"E{i}\").value)\n",
    "        # 總資產則是持有股數 x 今日收盤價 + 今日持有資金\n",
    "        tsmc_sheet.range(f\"I{i}\").value = tsmc_sheet.range(f\"H{i}\").value + tsmc_sheet.range(f\"G{i}\").value * price_today\n",
    "\n",
    "    # 計算并且將總收益顯示在 L20\n",
    "    tsmc_sheet.range(\"L20\").value = tsmc_sheet.range(f\"I{last_row}\").value - tsmc_sheet.range(\"L18\").value"
   ]
  },
  {
   "cell_type": "code",
   "execution_count": 9,
   "metadata": {
    "scrolled": true
   },
   "outputs": [
    {
     "name": "stdout",
     "output_type": "stream",
     "text": [
      "TW2454\n",
      "TW2330\n",
      "TW2884\n",
      "投資組合收益： $126650.0\n"
     ]
    }
   ],
   "source": [
    "balance = 0\n",
    "\n",
    "for sheet in wb.sheets:\n",
    "    # 避免在 Portfolio 試算表上執行回測\n",
    "    if sheet.name not in [\"Portfolio\", \"範例\"]:\n",
    "        print(sheet.name)\n",
    "        sheet.activate()\n",
    "        run_back_test(sheet)\n",
    "        balance += sheet.range(\"L20\").value\n",
    "    \n",
    "print(\"投資組合收益： ${}\".format(balance))"
   ]
  },
  {
   "cell_type": "markdown",
   "metadata": {},
   "source": [
    "## 將我們上一課的爬蟲封裝成一個函數\n",
    "\n"
   ]
  },
  {
   "cell_type": "code",
   "execution_count": 10,
   "metadata": {
    "scrolled": true
   },
   "outputs": [],
   "source": [
    "import requests\n",
    "from bs4 import BeautifulSoup\n",
    "\n",
    "def yahoo_stock_crawler(stock_id):\n",
    "    doc = requests.get(f\"https://tw.stock.yahoo.com/q/q?s={stock_id}\")\n",
    "    html = BeautifulSoup(doc.text, 'html.parser')\n",
    "    # 搜尋整個網頁裡，內容為 '個股資料' 的 html 標籤, 關聯到 table 最外層\n",
    "    table = html.findAll(text=\"個股資料\")[0].parent.parent.parent\n",
    "    # 找尋 table 裡第二個 tr 標籤內所有的 td 標籤\n",
    "    data_row = table.select(\"tr\")[1].select(\"td\")\n",
    "\n",
    "    # 回傳一個字典\n",
    "    return {\n",
    "        \"open\": data_row[8].text,\n",
    "        \"high\": data_row[9].text,\n",
    "        \"low\": data_row[10].text,\n",
    "        \"close\": data_row[2].text,\n",
    "        \"lastClose\": data_row[7].text\n",
    "    }"
   ]
  },
  {
   "cell_type": "code",
   "execution_count": 11,
   "metadata": {},
   "outputs": [],
   "source": [
    "# \n",
    "import xlwings as xw\n",
    "from bs4 import BeautifulSoup\n",
    "import requests\n",
    "import time\n",
    "\n",
    "stocks = [2330, 2454, 2884]\n",
    "\n",
    "wb = xw.Book(r\"stock_portfolio_backtest.xlsx\")\n",
    "\n",
    "date = time.strftime(\"%Y/%m/%d\")\n",
    "\n",
    "for stock in stocks:\n",
    "    data = yahoo_stock_crawler(stock)\n",
    "    sheet = wb.sheets[\"TW{}\".format(stock)]\n",
    "    sheet.activate()\n",
    "    last_row = sheet.range(\"B1\").end(\"down\").row\n",
    "    sheet.range(f\"B{last_row+1}\").value = data[\"close\"]\n",
    "    sheet.range(f\"A{last_row+1}\").value = date\n",
    "    time.sleep(3)"
   ]
  },
  {
   "cell_type": "markdown",
   "metadata": {},
   "source": [
    "## 但是每一次要手動新增一個試算表很麻煩...\n",
    "\n",
    "我們希望能夠新增以下功能：\n",
    "\n",
    "1. 將需要關注的股票記錄在 Portoflio 試算表内\n",
    "2. 執行時，根據使用者填寫在在 **Portoflio** 試算表内的股票代號到 Yahoo 奇摩上截取該股票的收盤價\n",
    "3. 若需要多關注一支股票，只需要將股票代號填入 Portoflio 試算表上，讓程式自動建立試算表"
   ]
  },
  {
   "cell_type": "markdown",
   "metadata": {},
   "source": [
    "## 動態新增試算表\n",
    "\n",
    "可以在 `wb.sheets` 這個集合下使用 `.add()` 方法：\n",
    "\n",
    "```python\n",
    "wb.sheets.add(name=\"試算表名稱\", after=工作表物件, before=工作表物件)\n",
    "```\n",
    "**name**: 代表新建立的試算表名稱\n",
    "\n",
    "**before**/**after**: 代表新建立的試算表的順序是在某個試算表之前或之後"
   ]
  },
  {
   "cell_type": "code",
   "execution_count": 19,
   "metadata": {},
   "outputs": [],
   "source": [
    "# 新增一個名爲 TW2884 的試算表，放在最右邊\n",
    "# wb.sheets.add()\n",
    "sheet = wb.sheets.add(name=\"TW2882\", after=wb.sheets[-1])"
   ]
  },
  {
   "cell_type": "code",
   "execution_count": 20,
   "metadata": {},
   "outputs": [],
   "source": [
    "# 為新的試算表加上表頭，複製 A1:L20\n",
    "sheet.range(\"A1:L20\").value = wb.sheets[\"範例\"].range(\"A1:L20\").value"
   ]
  },
  {
   "cell_type": "markdown",
   "metadata": {},
   "source": [
    "## 問題是要如何判斷何時應該建立新的試算表？\n",
    "\n",
    "使用 `try...except`：\n",
    "\n",
    "```python\n",
    "try:\n",
    "    來嘗試執行一段程式碼...\n",
    "except:\n",
    "    若嘗試執行的程式碼出錯，就執行另一段程式碼\n",
    "```\n",
    "\n",
    "我們程式的流程就是：\n",
    "\n",
    "1. 用爬蟲截取資料\n",
    "2. 打開相對應的試算表，將寫入資料\n",
    "3. 若該試算表不存在，python 就會出錯\n",
    "4. 若出錯，就建立一個新的試算表，再將資料寫入"
   ]
  },
  {
   "cell_type": "code",
   "execution_count": null,
   "metadata": {},
   "outputs": [],
   "source": [
    "# 這段可以幫我們確保stocks[]中的sheet都存在\n",
    "import xlwings as xw\n",
    "from bs4 import BeautifulSoup\n",
    "import requests\n",
    "import time\n",
    "import numpy as np\n",
    "\n",
    "stocks = [2330, 2454, 2882, 2884]\n",
    "\n",
    "wb = xw.Book(r\"stock_portfolio_backtest.xlsx\")\n",
    "\n",
    "date = time.strftime(\"%Y/%m/%d\")\n",
    "\n",
    "for stock in stocks:\n",
    "    data = yahoo_stock_crawler(stock)\n",
    "    \n",
    "    try: \n",
    "        # 若有該試算表，就開啓它，並且寫入資料\n",
    "        sheet = wb.sheets[\"TW{}\".format(stock)]\n",
    "        sheet.activate()\n",
    "        last_row = sheet.range(\"B1\").end(\"down\").row\n",
    "        sheet.range(f\"B{last_row+1}\").value = data[\"close\"]\n",
    "        sheet.range(f\"A{last_row+1}\").value = date\n",
    "    except:\n",
    "        # if not exist,建立一個新的試算表\n",
    "        sheet = wb.sheets.add(name=\"TW{}\".format(stock), after=wb.sheets[-1])\n",
    "        # 將範例工作表内的表頭、權重等資料複製到新的工作表\n",
    "        sheet.range(\"A1:L20\").value = wb.sheets[\"範例\"].range(\"A1:L20\").value\n",
    "        # 寫入資料\n",
    "        sheet.range(\"B2\").value = data[\"close\"]\n",
    "        sheet.range(\"A2\").value = date\n",
    "    time.sleep(3)"
   ]
  },
  {
   "cell_type": "markdown",
   "metadata": {},
   "source": [
    "## 但是，我們把需要觀察的股票清單寫死在程式碼不是一件聰明的事\n",
    "\n",
    "意味著需要經常性的修改程式碼，增加程式出錯的風險\n",
    "\n",
    "我們乾脆就把要記錄的股票清單記錄在工作表内，讓 Python 每次在執行時會根據記錄在清單内的股票去爬取資料"
   ]
  },
  {
   "cell_type": "code",
   "execution_count": 23,
   "metadata": {},
   "outputs": [
    {
     "data": {
      "text/plain": [
       "[2330, 2454, 2884, 2317]"
      ]
     },
     "execution_count": 23,
     "metadata": {},
     "output_type": "execute_result"
    }
   ],
   "source": [
    "# 截取 portfolio 工作表下所有的股價代號\n",
    "port_sheet = wb.sheets[\"Portfolio\"]\n",
    "\n",
    "last_row = port_sheet.range(\"A3\").end(\"down\").row\n",
    "# 截取所有的股價代號 A2~Ax\n",
    "stocks = port_sheet.range(f\"A2:A{last_row}\").value\n",
    "# 使用串列表達式將所有的代號從浮點數轉換成整數 list comprehension\n",
    "stocks = [int(stock) for stock in stocks]\n",
    "stocks"
   ]
  },
  {
   "cell_type": "markdown",
   "metadata": {},
   "source": [
    "# 大量資料的運算\n",
    "\n",
    "爬下來的資料，總是需要做分析和運算\n",
    "\n",
    "意味著我們要學會如何有效的去處理資料\n",
    "\n",
    "---\n",
    "# 回顧一下串列\n",
    "\n",
    "之前我們學會了串列（List）\n",
    "\n",
    "今天若我需要對串列做 Element-wise（逐元）運算\n",
    "\n",
    "也就是將串列内的每一個元素都做一樣的運算或操作\n",
    "\n",
    "必須要用迴圈處理\n",
    "\n",
    "---\n",
    "# 範例\n",
    "\n",
    "將 `km_list` 内的每一個長度從公里換算成英里：\n",
    "\n",
    "```python\n",
    "km_list = [3, 5, 10, 21, 42.195]\n",
    "mile_list = []\n",
    "\n",
    "km_to_mile = 0.621371192\n",
    "\n",
    "for km in km_list:\n",
    "    mile_list.append(km * km_to_mile)\n",
    "\n",
    "print(mile_list)\n",
    "# [1.864113576, 3.10685596, 6.21371192, 13.048795032000001, 26.21875744644]\n",
    "```\n",
    "\n",
    "---\n",
    "# for 迴圈雖然可以幫我們做逐元運算\n",
    "\n",
    "但是程式碼還是過渡冗長...\n",
    "\n",
    "---\n",
    "# 串列生成式（List Comprehension）\n",
    "\n",
    "今天我們知道上述範例最後計算的結果會是一個串列（需要封裝多筆資料）\n",
    "\n",
    "因此，Python 就提供了串列生成式，允許開發者用簡單的程式碼做出逐元運算\n",
    "\n",
    "---\n",
    "# 串列生成式（List Comprehension）\n",
    "\n",
    "```python\n",
    "[運算式 for 項目 in 可迭代項目]\n",
    "```\n",
    "\n",
    "---\n",
    "# 串列生成式（List Comprehension）\n",
    "\n",
    "```python\n",
    "km_list = [3, 5, 10, 21, 42.195]\n",
    "km_to_mile = 0.621371192\n",
    "# 將 km_list 的每一筆資料逐個放入 km，在 for 左邊的運算式算出結果之後放入 mile_list\n",
    "mile_list = [km * km_to_mile for km in km_list]\n",
    "print(mile_list)\n",
    "# [1.864113576, 3.10685596, 6.21371192, 13.048795032000001, 26.21875744644]\n",
    "```\n",
    "\n",
    "---"
   ]
  },
  {
   "cell_type": "code",
   "execution_count": null,
   "metadata": {},
   "outputs": [],
   "source": []
  },
  {
   "cell_type": "markdown",
   "metadata": {},
   "source": [
    "## 接下來...\n",
    "\n",
    "請在 Portoflio 工作表内新增一筆股票：2882\n"
   ]
  },
  {
   "cell_type": "code",
   "execution_count": 24,
   "metadata": {},
   "outputs": [
    {
     "ename": "ValueError",
     "evalue": "Sheet named 'TW2882' already present in workbook",
     "output_type": "error",
     "traceback": [
      "\u001b[1;31m---------------------------------------------------------------------------\u001b[0m",
      "\u001b[1;31mcom_error\u001b[0m                                 Traceback (most recent call last)",
      "\u001b[1;32m<ipython-input-24-7fdc76c9d414>\u001b[0m in \u001b[0;36m<module>\u001b[1;34m\u001b[0m\n\u001b[0;32m     26\u001b[0m         \u001b[0mlast_row\u001b[0m \u001b[1;33m=\u001b[0m \u001b[0msheet\u001b[0m\u001b[1;33m.\u001b[0m\u001b[0mrange\u001b[0m\u001b[1;33m(\u001b[0m\u001b[1;34m\"B1\"\u001b[0m\u001b[1;33m)\u001b[0m\u001b[1;33m.\u001b[0m\u001b[0mend\u001b[0m\u001b[1;33m(\u001b[0m\u001b[1;34m\"down\"\u001b[0m\u001b[1;33m)\u001b[0m\u001b[1;33m.\u001b[0m\u001b[0mrow\u001b[0m\u001b[1;33m\u001b[0m\u001b[1;33m\u001b[0m\u001b[0m\n\u001b[1;32m---> 27\u001b[1;33m         \u001b[0msheet\u001b[0m\u001b[1;33m.\u001b[0m\u001b[0mrange\u001b[0m\u001b[1;33m(\u001b[0m\u001b[1;34mf\"B{last_row+1}\"\u001b[0m\u001b[1;33m)\u001b[0m\u001b[1;33m.\u001b[0m\u001b[0mvalue\u001b[0m \u001b[1;33m=\u001b[0m \u001b[0mdata\u001b[0m\u001b[1;33m[\u001b[0m\u001b[1;34m\"close\"\u001b[0m\u001b[1;33m]\u001b[0m\u001b[1;33m\u001b[0m\u001b[1;33m\u001b[0m\u001b[0m\n\u001b[0m\u001b[0;32m     28\u001b[0m         \u001b[0msheet\u001b[0m\u001b[1;33m.\u001b[0m\u001b[0mrange\u001b[0m\u001b[1;33m(\u001b[0m\u001b[1;34mf\"A{last_row+1}\"\u001b[0m\u001b[1;33m)\u001b[0m\u001b[1;33m.\u001b[0m\u001b[0mvalue\u001b[0m \u001b[1;33m=\u001b[0m \u001b[0mdate\u001b[0m\u001b[1;33m\u001b[0m\u001b[1;33m\u001b[0m\u001b[0m\n",
      "\u001b[1;32mC:\\ProgramData\\Anaconda3\\lib\\site-packages\\xlwings\\main.py\u001b[0m in \u001b[0;36mrange\u001b[1;34m(self, cell1, cell2)\u001b[0m\n\u001b[0;32m    838\u001b[0m             \u001b[0mcell2\u001b[0m \u001b[1;33m=\u001b[0m \u001b[0mcell2\u001b[0m\u001b[1;33m.\u001b[0m\u001b[0mimpl\u001b[0m\u001b[1;33m\u001b[0m\u001b[1;33m\u001b[0m\u001b[0m\n\u001b[1;32m--> 839\u001b[1;33m         \u001b[1;32mreturn\u001b[0m \u001b[0mRange\u001b[0m\u001b[1;33m(\u001b[0m\u001b[0mimpl\u001b[0m\u001b[1;33m=\u001b[0m\u001b[0mself\u001b[0m\u001b[1;33m.\u001b[0m\u001b[0mimpl\u001b[0m\u001b[1;33m.\u001b[0m\u001b[0mrange\u001b[0m\u001b[1;33m(\u001b[0m\u001b[0mcell1\u001b[0m\u001b[1;33m,\u001b[0m \u001b[0mcell2\u001b[0m\u001b[1;33m)\u001b[0m\u001b[1;33m)\u001b[0m\u001b[1;33m\u001b[0m\u001b[1;33m\u001b[0m\u001b[0m\n\u001b[0m\u001b[0;32m    840\u001b[0m \u001b[1;33m\u001b[0m\u001b[0m\n",
      "\u001b[1;32mC:\\ProgramData\\Anaconda3\\lib\\site-packages\\xlwings\\_xlwindows.py\u001b[0m in \u001b[0;36mrange\u001b[1;34m(self, arg1, arg2)\u001b[0m\n\u001b[0;32m    593\u001b[0m         \u001b[1;32melse\u001b[0m\u001b[1;33m:\u001b[0m\u001b[1;33m\u001b[0m\u001b[1;33m\u001b[0m\u001b[0m\n\u001b[1;32m--> 594\u001b[1;33m             \u001b[0mxl1\u001b[0m \u001b[1;33m=\u001b[0m \u001b[0mself\u001b[0m\u001b[1;33m.\u001b[0m\u001b[0mxl\u001b[0m\u001b[1;33m.\u001b[0m\u001b[0mRange\u001b[0m\u001b[1;33m(\u001b[0m\u001b[0marg1\u001b[0m\u001b[1;33m)\u001b[0m\u001b[1;33m\u001b[0m\u001b[1;33m\u001b[0m\u001b[0m\n\u001b[0m\u001b[0;32m    595\u001b[0m \u001b[1;33m\u001b[0m\u001b[0m\n",
      "\u001b[1;32mC:\\ProgramData\\Anaconda3\\lib\\site-packages\\xlwings\\_xlwindows.py\u001b[0m in \u001b[0;36m__call__\u001b[1;34m(self, *args, **kwargs)\u001b[0m\n\u001b[0;32m     62\u001b[0m             \u001b[1;32mtry\u001b[0m\u001b[1;33m:\u001b[0m\u001b[1;33m\u001b[0m\u001b[1;33m\u001b[0m\u001b[0m\n\u001b[1;32m---> 63\u001b[1;33m                 \u001b[0mv\u001b[0m \u001b[1;33m=\u001b[0m \u001b[0mself\u001b[0m\u001b[1;33m.\u001b[0m\u001b[0m__method\u001b[0m\u001b[1;33m(\u001b[0m\u001b[1;33m*\u001b[0m\u001b[0margs\u001b[0m\u001b[1;33m,\u001b[0m \u001b[1;33m**\u001b[0m\u001b[0mkwargs\u001b[0m\u001b[1;33m)\u001b[0m\u001b[1;33m\u001b[0m\u001b[1;33m\u001b[0m\u001b[0m\n\u001b[0m\u001b[0;32m     64\u001b[0m                 \u001b[0mt\u001b[0m \u001b[1;33m=\u001b[0m \u001b[0mtype\u001b[0m\u001b[1;33m(\u001b[0m\u001b[0mv\u001b[0m\u001b[1;33m)\u001b[0m\u001b[1;33m\u001b[0m\u001b[1;33m\u001b[0m\u001b[0m\n",
      "\u001b[1;32mC:\\ProgramData\\Anaconda3\\lib\\site-packages\\win32com\\client\\dynamic.py\u001b[0m in \u001b[0;36mRange\u001b[1;34m(self, Cell1, Cell2)\u001b[0m\n",
      "\u001b[1;31mcom_error\u001b[0m: (-2147352567, '發生例外狀況。', (0, None, None, None, 0, -2146827284), None)",
      "\nDuring handling of the above exception, another exception occurred:\n",
      "\u001b[1;31mValueError\u001b[0m                                Traceback (most recent call last)",
      "\u001b[1;32m<ipython-input-24-7fdc76c9d414>\u001b[0m in \u001b[0;36m<module>\u001b[1;34m\u001b[0m\n\u001b[0;32m     29\u001b[0m     \u001b[1;32mexcept\u001b[0m\u001b[1;33m:\u001b[0m\u001b[1;33m\u001b[0m\u001b[1;33m\u001b[0m\u001b[0m\n\u001b[0;32m     30\u001b[0m         \u001b[1;31m# 建立一個新的試算表\u001b[0m\u001b[1;33m\u001b[0m\u001b[1;33m\u001b[0m\u001b[1;33m\u001b[0m\u001b[0m\n\u001b[1;32m---> 31\u001b[1;33m         \u001b[0msheet\u001b[0m \u001b[1;33m=\u001b[0m \u001b[0mwb\u001b[0m\u001b[1;33m.\u001b[0m\u001b[0msheets\u001b[0m\u001b[1;33m.\u001b[0m\u001b[0madd\u001b[0m\u001b[1;33m(\u001b[0m\u001b[0mname\u001b[0m\u001b[1;33m=\u001b[0m\u001b[1;34m\"TW{}\"\u001b[0m\u001b[1;33m.\u001b[0m\u001b[0mformat\u001b[0m\u001b[1;33m(\u001b[0m\u001b[0mstock\u001b[0m\u001b[1;33m)\u001b[0m\u001b[1;33m,\u001b[0m \u001b[0mafter\u001b[0m\u001b[1;33m=\u001b[0m\u001b[0mwb\u001b[0m\u001b[1;33m.\u001b[0m\u001b[0msheets\u001b[0m\u001b[1;33m[\u001b[0m\u001b[1;33m-\u001b[0m\u001b[1;36m1\u001b[0m\u001b[1;33m]\u001b[0m\u001b[1;33m)\u001b[0m\u001b[1;33m\u001b[0m\u001b[1;33m\u001b[0m\u001b[0m\n\u001b[0m\u001b[0;32m     32\u001b[0m         \u001b[1;31m# 將範例工作表内的表頭、權重等資料複製到新的工作表\u001b[0m\u001b[1;33m\u001b[0m\u001b[1;33m\u001b[0m\u001b[1;33m\u001b[0m\u001b[0m\n\u001b[0;32m     33\u001b[0m         \u001b[0msheet\u001b[0m\u001b[1;33m.\u001b[0m\u001b[0mrange\u001b[0m\u001b[1;33m(\u001b[0m\u001b[1;34m\"A1:L20\"\u001b[0m\u001b[1;33m)\u001b[0m\u001b[1;33m.\u001b[0m\u001b[0mvalue\u001b[0m \u001b[1;33m=\u001b[0m \u001b[0mwb\u001b[0m\u001b[1;33m.\u001b[0m\u001b[0msheets\u001b[0m\u001b[1;33m[\u001b[0m\u001b[1;34m\"範例\"\u001b[0m\u001b[1;33m]\u001b[0m\u001b[1;33m.\u001b[0m\u001b[0mrange\u001b[0m\u001b[1;33m(\u001b[0m\u001b[1;34m\"A1:L20\"\u001b[0m\u001b[1;33m)\u001b[0m\u001b[1;33m.\u001b[0m\u001b[0mvalue\u001b[0m\u001b[1;33m\u001b[0m\u001b[1;33m\u001b[0m\u001b[0m\n",
      "\u001b[1;32mC:\\ProgramData\\Anaconda3\\lib\\site-packages\\xlwings\\main.py\u001b[0m in \u001b[0;36madd\u001b[1;34m(self, name, before, after)\u001b[0m\n\u001b[0;32m   2842\u001b[0m         \u001b[1;32mif\u001b[0m \u001b[0mname\u001b[0m \u001b[1;32mis\u001b[0m \u001b[1;32mnot\u001b[0m \u001b[1;32mNone\u001b[0m\u001b[1;33m:\u001b[0m\u001b[1;33m\u001b[0m\u001b[1;33m\u001b[0m\u001b[0m\n\u001b[0;32m   2843\u001b[0m             \u001b[1;32mif\u001b[0m \u001b[0mname\u001b[0m\u001b[1;33m.\u001b[0m\u001b[0mlower\u001b[0m\u001b[1;33m(\u001b[0m\u001b[1;33m)\u001b[0m \u001b[1;32min\u001b[0m \u001b[1;33m(\u001b[0m\u001b[0ms\u001b[0m\u001b[1;33m.\u001b[0m\u001b[0mname\u001b[0m\u001b[1;33m.\u001b[0m\u001b[0mlower\u001b[0m\u001b[1;33m(\u001b[0m\u001b[1;33m)\u001b[0m \u001b[1;32mfor\u001b[0m \u001b[0ms\u001b[0m \u001b[1;32min\u001b[0m \u001b[0mself\u001b[0m\u001b[1;33m)\u001b[0m\u001b[1;33m:\u001b[0m\u001b[1;33m\u001b[0m\u001b[1;33m\u001b[0m\u001b[0m\n\u001b[1;32m-> 2844\u001b[1;33m                 \u001b[1;32mraise\u001b[0m \u001b[0mValueError\u001b[0m\u001b[1;33m(\u001b[0m\u001b[1;34m\"Sheet named '%s' already present in workbook\"\u001b[0m \u001b[1;33m%\u001b[0m \u001b[0mname\u001b[0m\u001b[1;33m)\u001b[0m\u001b[1;33m\u001b[0m\u001b[1;33m\u001b[0m\u001b[0m\n\u001b[0m\u001b[0;32m   2845\u001b[0m         \u001b[1;32mif\u001b[0m \u001b[0mbefore\u001b[0m \u001b[1;32mis\u001b[0m \u001b[1;32mnot\u001b[0m \u001b[1;32mNone\u001b[0m \u001b[1;32mand\u001b[0m \u001b[1;32mnot\u001b[0m \u001b[0misinstance\u001b[0m\u001b[1;33m(\u001b[0m\u001b[0mbefore\u001b[0m\u001b[1;33m,\u001b[0m \u001b[0mSheet\u001b[0m\u001b[1;33m)\u001b[0m\u001b[1;33m:\u001b[0m\u001b[1;33m\u001b[0m\u001b[1;33m\u001b[0m\u001b[0m\n\u001b[0;32m   2846\u001b[0m             \u001b[0mbefore\u001b[0m \u001b[1;33m=\u001b[0m \u001b[0mself\u001b[0m\u001b[1;33m(\u001b[0m\u001b[0mbefore\u001b[0m\u001b[1;33m)\u001b[0m\u001b[1;33m\u001b[0m\u001b[1;33m\u001b[0m\u001b[0m\n",
      "\u001b[1;31mValueError\u001b[0m: Sheet named 'TW2882' already present in workbook"
     ]
    }
   ],
   "source": [
    "import xlwings as xw\n",
    "from bs4 import BeautifulSoup\n",
    "import requests\n",
    "import time\n",
    "import numpy as np\n",
    "\n",
    "# 開啓 Excel\n",
    "wb = xw.Book(r\"stock_portfolio_backtest.xlsx\")\n",
    "\n",
    "# 截取所有記錄在 Portfolio 試算表内的股票代號\n",
    "port_sheet = wb.sheets[\"Portfolio\"]\n",
    "last_row = port_sheet.range(\"A3\").end(\"down\").row\n",
    "stock_data = port_sheet.range(f\"A2:A{last_row}\").value\n",
    "stocks = [int(s) for s in stock_data]\n",
    "\n",
    "# 產生當日日期\n",
    "date = time.strftime(\"%Y/%m/%d\")\n",
    "\n",
    "for stock in stocks:\n",
    "    data = yahoo_stock_crawler(stock)\n",
    "    \n",
    "    try: \n",
    "        # 若有該試算表，就開啓它，並且寫入資料\n",
    "        sheet = wb.sheets[\"TW{}\".format(stock)]\n",
    "        sheet.activate()\n",
    "        last_row = sheet.range(\"B1\").end(\"down\").row\n",
    "        sheet.range(f\"B{last_row+1}\").value = data[\"close\"]\n",
    "        sheet.range(f\"A{last_row+1}\").value = date\n",
    "    except:\n",
    "        # 建立一個新的試算表\n",
    "        sheet = wb.sheets.add(name=\"TW{}\".format(stock), after=wb.sheets[-1])\n",
    "        # 將範例工作表内的表頭、權重等資料複製到新的工作表\n",
    "        sheet.range(\"A1:L20\").value = wb.sheets[\"範例\"].range(\"A1:L20\").value\n",
    "        # 寫入資料\n",
    "        sheet.range(\"B2\").value = data[\"close\"]\n",
    "        sheet.range(\"A2\").value = date\n",
    "    time.sleep(3)\n",
    "\n",
    "# 記錄總收益    \n",
    "balance = 0\n",
    "# 迭代試算表，針對每一個試算表進行回測，將每一個股票的總收益 (L20儲存格) 加總起來\n",
    "for sheet in wb.sheets:\n",
    "    sheet.activate()\n",
    "    last_row = sheet.range(\"B1\").end(\"down\").row\n",
    "    print(f\"{sheet.name} last row: {last_row}\")\n",
    "    run_back_test(sheet)\n",
    "    balance += sheet.range(\"L20\").value\n",
    "\n",
    "print(\"投資組合收益： ${}\".format(balance))"
   ]
  },
  {
   "cell_type": "markdown",
   "metadata": {},
   "source": [
    "## 我們的程式似乎發生了錯誤...\n",
    "\n",
    "原因是 `xlwings` 的 `.end()` 方法在偵測只有一到兩個 row 的資料工作表會偵測成 `1048576`\n",
    "\n",
    "![](https://www.dropbox.com/s/mzjuzfypnd7hb8i/end_no_last_row.PNG?dl=1)\n",
    "\n"
   ]
  },
  {
   "cell_type": "markdown",
   "metadata": {},
   "source": [
    "# 此時，我們的程式就需要一個錯誤處理的機制\n",
    "\n",
    "```python\n",
    "try...except\n",
    "```\n",
    "\n",
    "\n",
    "```python\n",
    "for stock in stocks:\n",
    "    closing_price = tw_stock_scraper(stock)\n",
    "    \n",
    "    try: \n",
    "        # 若有該試算表，就開啓它，並且寫入資料\n",
    "        sheet = wb.sheets[\"TW{}\".format(stock)]\n",
    "        sheet.activate()\n",
    "        last_row = sheet.range(\"B1\").end(\"down\").row\n",
    "        sheet.cells(last_row+1, \"B\").value = closing_price\n",
    "        sheet.cells(last_row+1, \"A\").value = date\n",
    "    except:\n",
    "        # 建立一個新的試算表\n",
    "        sheet = wb.sheets.add(name=\"TW{}\".format(stock), after=wb.sheets[-1])\n",
    "        # 為新的試算表加上表頭，複製 A1:I1\n",
    "        sheet.range(\"A1:I1\").value = wb.sheets[\"TW2330\"].range(\"A1:I1\").value\n",
    "        # 複製回測需要用的權重\n",
    "        sheet.range(\"K1:K11\").value = np.array(wb.sheets[\"TW2330\"].range(\"K1:K11\").value).reshape(11, 1)\n",
    "        # 寫入資料\n",
    "        sheet.cells(2, \"B\").value = closing_price\n",
    "        sheet.cells(2, \"A\").value = date\n",
    "    time.sleep(3)\n",
    "```"
   ]
  },
  {
   "cell_type": "code",
   "execution_count": 25,
   "metadata": {},
   "outputs": [
    {
     "name": "stdout",
     "output_type": "stream",
     "text": [
      "Portfolio last row: 1048576\n",
      "範例 last row: 1048576\n",
      "TW2454 last row: 21\n",
      "TW2454\n",
      "TW2330 last row: 39\n",
      "TW2330\n",
      "TW2884 last row: 29\n",
      "TW2884\n",
      "TW2317 last row: 3\n",
      "TW2882 last row: 2\n",
      "投資組合收益： $146350.0\n"
     ]
    }
   ],
   "source": [
    "import xlwings as xw\n",
    "from bs4 import BeautifulSoup\n",
    "import requests\n",
    "import time\n",
    "import numpy as np\n",
    "\n",
    "# 開啓 Excel\n",
    "wb = xw.Book(r\"stock_portfolio_backtest.xlsx\")\n",
    "\n",
    "# 截取所有記錄在 Portfolio 試算表内的股票代號\n",
    "port_sheet = wb.sheets[\"Portfolio\"]\n",
    "last_row = port_sheet.range(\"A3\").end(\"down\").row\n",
    "stock_data = port_sheet.range(f\"A2:A{last_row}\").value\n",
    "stocks = [int(s) for s in stock_data]\n",
    "\n",
    "# 產生當日日期\n",
    "date = time.strftime(\"%Y/%m/%d\")\n",
    "\n",
    "for stock in stocks:\n",
    "    data = yahoo_stock_crawler(stock)\n",
    "    \n",
    "    try: \n",
    "        # 若有該試算表，就開啓它，並且寫入資料\n",
    "        sheet = wb.sheets[\"TW{}\".format(stock)]\n",
    "        sheet.activate()\n",
    "        last_row = sheet.range(\"B1\").end(\"down\").row\n",
    "        sheet.range(f\"B{last_row+1}\").value = data[\"close\"]\n",
    "        sheet.range(f\"A{last_row+1}\").value = date\n",
    "    except:\n",
    "        # 建立一個新的試算表\n",
    "        sheet = wb.sheets.add(name=\"TW{}\".format(stock), after=wb.sheets[-1])\n",
    "        # 將範例工作表内的表頭、權重等資料複製到新的工作表\n",
    "        sheet.range(\"A1:L20\").value = wb.sheets[\"範例\"].range(\"A1:L20\").value\n",
    "        # 寫入資料\n",
    "        sheet.range(\"B2\").value = data[\"close\"]\n",
    "        sheet.range(\"A2\").value = date\n",
    "    time.sleep(3)\n",
    "\n",
    "# 記錄總收益    \n",
    "balance = 0\n",
    "# 迭代試算表，針對每一個試算表進行回測，將每一個股票的總收益 (L20儲存格) 加總起來\n",
    "for sheet in wb.sheets:\n",
    "    sheet.activate()\n",
    "    last_row = sheet.range(\"B1\").end(\"down\").row\n",
    "    print(f\"{sheet.name} last row: {last_row}\")\n",
    "    # 工作表名稱不是 \"Portfolio\" 或 \"範例\"，而且最後一行不是 1048576，也不能小於 11\n",
    "    if sheet.name not in [\"Portfolio\", \"範例\"] and (last_row != 1048576 and last_row > 11):\n",
    "        print(f\"{sheet.name}\")\n",
    "        run_back_test(sheet)\n",
    "        balance += sheet.range(\"L20\").value\n",
    "\n",
    "print(\"投資組合收益： ${}\".format(balance))"
   ]
  },
  {
   "cell_type": "markdown",
   "metadata": {},
   "source": [
    "## 小結\n",
    "\n",
    "1. 跨表格運算十分實用，可以透過工作表名稱去動態選擇一個工作表\n",
    "2. 爲了避免設定的參數被寫死在程式碼，可將**設定的參數（像是 fugle api key）填入工作表，動態的讓 Python 去截取資料，並且根據截取的參數進行運算**\n",
    "3. 動態新增試算表時，爲了避免出錯，可以使用 `try...except` 機制處理錯誤"
   ]
  },
  {
   "cell_type": "markdown",
   "metadata": {},
   "source": [
    "# 預告一下我們的課程内容：打造台股即時看板\n",
    "\n",
    "接下來我們就發揮我們在過去所學，利用 **Excel、Python**、以及股價 **Web API** 來打造一個及台股即時看板： \n",
    "\n",
    "完成品影片：https://youtu.be/Gd_bQTRUrzQ\n",
    "\n",
    "[![IMAGE ALT TEXT HERE](https://img.youtube.com/vi/Gd_bQTRUrzQ/0.jpg)](https://www.youtube.com/watch?v=Gd_bQTRUrzQ)"
   ]
  }
 ],
 "metadata": {
  "kernelspec": {
   "display_name": "Python 3",
   "language": "python",
   "name": "python3"
  },
  "language_info": {
   "codemirror_mode": {
    "name": "ipython",
    "version": 3
   },
   "file_extension": ".py",
   "mimetype": "text/x-python",
   "name": "python",
   "nbconvert_exporter": "python",
   "pygments_lexer": "ipython3",
   "version": "3.7.4"
  }
 },
 "nbformat": 4,
 "nbformat_minor": 2
}
