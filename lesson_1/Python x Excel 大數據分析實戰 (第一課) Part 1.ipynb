{
 "cells": [
  {
   "cell_type": "markdown",
   "metadata": {
    "colab_type": "text",
    "id": "TDIRRgZuGZl9"
   },
   "source": [
    "# 我們先復習一下 Excel\n",
    "\n",
    "---\n",
    "## Excel 是一個以**表格為單位的工具**\n",
    "\n",
    "---\n",
    "## 從結構化的角度來看 Excel\n",
    "\n",
    "![](https://drive.google.com/uc?export=download&id=1E1WKGkJ5Sdmm4hAT0Bd73rPu2aEps1Zo)\n",
    "\n",
    "**Application** (Excel 應用程式)\n",
    "\n",
    "**Workbook** (工作簿)\n",
    "\n",
    "**Worksheet** (工作表)\n",
    "\n",
    "**Range** (範圍)\n",
    "\n",
    "**Cell** (儲存格)\n",
    "\n",
    "由上往下的抽象層次**永遠是一對多的關係**\n",
    "\n",
    "例：\n",
    "\n",
    "**一個工作簿**内可以有**多個工作表**\n",
    "\n",
    "**一個工作表**只能屬於**一個工作簿**\n",
    "\n",
    "## Excel 基礎：儲存格（Cell）\n",
    "\n",
    "![](https://drive.google.com/uc?export=download&id=1RtD9pawZ2VA9KwdDxJPB5cQLOrVSTOOR)\n",
    "\n",
    "---\n",
    "## Excel 基礎：欄 (Column)\n",
    "\n",
    "![](https://drive.google.com/uc?export=download&id=1g_wiNtIMYIOMJ5tN8vHG0puw5LQh38rH)\n",
    "\n",
    "---\n",
    "## Excel 基礎：列（Row）\n",
    "\n",
    "![](https://drive.google.com/uc?export=download&id=11EZ4PRNXE139oiGqBgNFOQNVp2xOXQlG)\n",
    "\n",
    "---\n",
    "## Row vs Column\n",
    "\n",
    "Row 是**橫向**，Column 是**縱向**\n",
    "\n",
    "Row 是用**數字**表示，Column 是用**英文字母**表示\n",
    "\n",
    "---\n",
    "# 儲存格命名規則\n",
    "\n",
    "- 在 Excel 的工作表中，任何一個儲存格都有獨一無二的儲存格位置\n",
    "- 這個位置是以該儲存格在工作表中的欄名+列號組合而成\n",
    "- 儲存格是用該儲存格的Row值與Column值表示，就如同儲存格的地址一樣\n",
    "\n",
    "例：下圖被選擇的儲存格名稱是 B4\n",
    "\n",
    "![](https://drive.google.com/uc?export=download&id=1nWniiuVVREYH-VV_RewJ7NKrkaNW2UYg)\n",
    "\n",
    "---\n",
    "## Excel 公式（Formula）\n",
    "\n",
    "Excel 最核心的功能之一，容許使用者像寫數學公式一樣的\b在 Excel \b試算表上做數學運算\n",
    "\n",
    "---\n",
    "## Excel 公式基礎：數學公式\n",
    "\n",
    "\b今天若希望 \bExcel 能够做\b某一種數值運算，我們要如何在公式裡表達這個運算？\n",
    "\n",
    "---\n",
    "## 輸入 Excel 公式\n",
    "\n",
    "1. 先點選一個儲存格，讓其變成作用儲存格（Active Cell）\n",
    "\n",
    "![](https://drive.google.com/uc?export=download&id=1LuG7Z1C92LXLRETIZP9NaAtxETDcs-no)\n",
    "\n",
    "---\n",
    "## 輸入 Excel 公式\n",
    "\n",
    "\n",
    "2. 輸入符號「=」\n",
    "\n",
    "![](https://drive.google.com/uc?export=download&id=1SZWe2r2Bi9TLx_-riKJNFGeaJCa4xvjq)\n",
    "\n",
    "---\n",
    "## 輸入 Excel 公式\n",
    "\n",
    "3. 接下来請輸入 2 + 3\n",
    "\n",
    "![](https://drive.google.com/uc?export=download&id=1Dj5BDQkyovqyHrx0oRp0e29MzkOQhl9k)\n",
    "\n",
    "---\n",
    "## 輸入 Excel 公式\n",
    "\n",
    "4. Excel 在計算出公式的結果後，會將答案顯示在儲存格内\n",
    "\n",
    "![](https://drive.google.com/uc?export=download&id=185a8DvLN-VrjiOO_mbGRaXNXQE8gcrFH)\n",
    "\n",
    "---\n",
    "## 輸入 Excel 公式（例）\n",
    "\n",
    "![](https://drive.google.com/uc?export=download&id=1aLJrM3yIJTdNEO20lTmKcH3sT0VcvttG)\n",
    "\n",
    "---\n",
    "## 參照（Reference）\n",
    "\n",
    "在寫 Excel 公式時，其實可以輸入儲存格名稱，而 Excel 會帶入該儲存格内的資料\n",
    "\n",
    "![](https://drive.google.com/uc?export=download&id=10jT5fF0gQcbAjMsTmavF29jsKnCT0-l-)\n",
    "\n",
    "所以我們原本的公式就可以改成：\n",
    "\n",
    "![](https://drive.google.com/uc?export=download&id=1ifDiuIC5wwqKBBgtSX1dzNc9uiVr98aK)\n",
    "\n",
    "結果：\n",
    "\n",
    "![](https://drive.google.com/uc?export=download&id=1Con5Hqobe_QezIpj7kgTutxcJSeixJ1J)\n"
   ]
  },
  {
   "cell_type": "markdown",
   "metadata": {
    "colab_type": "text",
    "id": "ZpnBDqybGZmH"
   },
   "source": [
    "# 在開始 VBA 之前\n",
    "\n",
    "[下載範例 Excel 檔](https://www.dropbox.com/s/hkf2vtl41smb487/Lecture%201%20-%20S%26P%20500%20data.xlsx?dl=1)\n",
    "\n",
    "---\n",
    "# 練習一：計算股票的日報酬率\n",
    "\n",
    "```\n",
    "日報酬率 = (今日收盤價 - 昨日收盤價) / 昨日收盤價\n",
    "```\n",
    "\n",
    "---\n",
    "# 但是設想一下...\n",
    "\n",
    "若今天需要計算報酬率的股票有一百支...\n",
    "\n",
    "輸入公式與下拉就變成了一件重複又無聊的事\n",
    "\n",
    "---\n",
    "# Excel 錄製巨集\n",
    "\n",
    "一個實用的 Excel 功能，Excel 會把一連串使用者的操作都錄製下來\n",
    "\n",
    "![](https://drive.google.com/uc?export=download&id=1KFoLAc6VsDVkKwP6KQ6BEzGY13yPRrvv)\n",
    "\n",
    "---\n",
    "# 啟動開發人員選項\n",
    "\n",
    "檔案 -> 選項 -> 自訂功能區 -> 開發人員 -> 確認\n",
    "\n",
    "![](https://drive.google.com/uc?export=download&id=1m6FFb420PfmJe4aGz9IHYqdjF1DBy6vc)\n",
    "\n",
    "---\n",
    "# 錄製巨集的黑暗魔法\n",
    "\n",
    "實際上錄製巨集的運作原理很簡單，就是把使用者的操作轉成一支 VBA 的巨集(程式)\n",
    "\n",
    "---\n",
    "# 錄製巨集的黑暗魔法\n",
    "\n",
    "想理解更多的同學可以看一下 [Microsoft 的官方文件](https://support.office.com/zh-tw/article/%E4%BD%BF%E7%94%A8%E5%B7%A8%E9%9B%86%E9%8C%84%E8%A3%BD%E5%99%A8%E8%87%AA%E5%8B%95%E5%8C%96%E5%B7%A5%E4%BD%9C-974ef220-f716-4e01-b015-3ea70e64937b)\n",
    "\n",
    "---\n",
    "# 錄製巨集的限制：\n",
    "\n",
    "- 容易錄製出過度冗長的操作\n",
    "- 對話型巨集無法被錄製，欠失情況與對象的彈性\n",
    "- 無法錄製使用者的條件判斷\n",
    "- 若資料筆數改變，容易發生計算錯誤的問題\n"
   ]
  },
  {
   "cell_type": "markdown",
   "metadata": {
    "colab_type": "text",
    "id": "ly-7F-exGZmM"
   },
   "source": [
    "# VBA 基礎\n",
    "\n",
    "今天無論學任何程式語言，通常在慣例上寫的第一個程式就是 `Hello World!`\n",
    "讓電腦顯示 `Hello World!` 字樣\n",
    "\n",
    "---\n",
    "\n",
    "# Hello World!\n",
    "\n",
    "接下來請點選“開發人員” 選項，Excel會顯示VBA編輯器，此時：\n",
    "\n",
    "![image info](https://drive.google.com/uc?export=download&id=1fO3wcYWPUaqSX6OnmxzUcfK2SEqZ_p_j)\n",
    "\n",
    "1. 先點選一下左邊的專案欄。\n",
    "2. 右鍵點選 “Microsfot Excel物件” 的資料夾\n",
    "3. 接下來選擇插入\n",
    "4. 然後選擇模組\n",
    "\n",
    "---\n",
    "# Hello World!\n",
    "\n",
    "在編輯器上輸入：\n",
    "\n",
    "```vb\n",
    "Sub HelloWorld()\n",
    "    Msgbox(\"Hello World!\")\n",
    "End Sub\n",
    "```\n",
    "\n",
    "---\n",
    "# Hello World!\n",
    "\n",
    "![](https://drive.google.com/uc?export=download&id=137OfakCJZKrYTAe9hHtqYLln8taWfanf)\n",
    "\n",
    "---\n",
    "# Hello World!\n",
    "\n",
    "![](https://drive.google.com/uc?export=download&id=1Xv4PlWeV4iwU0ap57FI6Zd_oOGm2Y2Pb)\n",
    "\n",
    "恭喜！你已經寫出了你的第一支VBA的程式。\n",
    "\n",
    "---\n",
    "# 範例 Excel 檔案\n",
    "\n",
    "請開啓第一課教材的 `Cells_Range_Example.xlsx` 範例檔\n",
    "\n",
    "---\n",
    "# 原則\n",
    "\n",
    "用一句話概括用寫和 Excel 相關的程式，就是：針對單位的儲存格進行操作，而**今天不管你是要操作任何一個單位的表格，首先一件事就是你必須得先選擇它。**\n",
    "\n",
    "---\n",
    "\n",
    "### Cells() 函數：\n",
    "\n",
    "用法：**Cells(row值, column值)**\n",
    "\n",
    "今天當我想賦值給 A1 儲存格時：\n",
    "```vb\n",
    "Cells(1, 1).value = 123\n",
    "```\n",
    "問題是這樣的寫法非常不直覺，所以 VBA 也支援以下寫法：\n",
    "```vb\n",
    "Cells(1, \"A\").value = 123\n",
    "```\n",
    "\n",
    "### Range() 函數：\n",
    "\n",
    "當我需要針對一個或多個儲存格(一個 Excel 試算表的範圍)去進行操作時：\n",
    "\n",
    "用法：**Range(\"起點:結束點\")**\n",
    "\n",
    "將 A1 儲存格的值設定成 123\n",
    "```vb\n",
    "Range(\"A1\").value = 123\n",
    "```\n",
    "將範圍 A1 到 C3 共九個儲存格的值設定成 123\n",
    "\n",
    "```vb\n",
    "Range(\"A1:C3\").value = 123\n",
    "```\n",
    "\n",
    "### Dot Notation (句點表示法)：\n",
    "\n",
    "大部分的物件導向程式語言都支援的語法：\n",
    "\n",
    "**<物件名稱>.<屬性名稱> = <被賦予的值>**\n",
    "\n",
    "當然，字串在用 loop 執行時會增加程式碼的複雜度(字串拼接)\n",
    "所以 Range 有另一種用法：**Range(Cells(起點), Cells(結束點))**\n",
    "\n",
    "```vb\n",
    "Range(Cells(1, \"A\"), Cells(3, \"C\")).value = 123\n",
    "```"
   ]
  },
  {
   "cell_type": "markdown",
   "metadata": {
    "colab_type": "text",
    "id": "nld2uJt2GZmQ"
   },
   "source": [
    "# 用 Python 操作 Excel\n",
    "\n",
    "\n",
    "\n",
    "## 一些常見的 Python 串接 Excel 的套件\n",
    "\n",
    "\n",
    "##  xlrd  \n",
    "一個老牌套件，支援讀取 Excel 試算表，但是只支援舊的 Excel 檔案格式（.xls）在這本書就不多做贅述。這個套件適合一些在功能上需要讀取（.xls）檔案格式的功能。\n",
    "\n",
    "## xlwt \n",
    "與 `xlrd` 可以説是一對姐妹套件，支援將 Python 運算的資料寫入舊 Excel 檔案格式（.xls）的功能。\n",
    "\n",
    "## xlutils\n",
    "\n",
    "整合了 `xlrd` 與 `xlwt` 兩者功能的套件。\n",
    "\n",
    "## XLTable\n",
    "\n",
    "一個高階的套件，優點在於提供了一個叫 `Table` 的物件，允許開發者將二維的資料結構，像是二維串列或是 Pandas DataFrame，一次性的寫入至 Excel，而非需要用迴圈以行或列為單位的資料寫入 Excel。\n",
    "\n",
    "該套件的缺點在於使用者十分稀少，版本也沒有做積極的更新。上述的 `Table` 功能也很容易在其他的套件可以找到，總總原因讓該套件成爲了一個冷門套件。\n",
    "\n",
    "## Pandas\n",
    "\n",
    "由於近年來大數據與資料科學的興起，Pandas 這個等同於 Python 殺手鐧的套件的功能十分完善，當然也有讀取與寫入 Excel 的功能。若是有使用過 Pandas 的開發者，肯定對 `.read_csv()` 或 `.to_excel()` 功能不陌生。\n",
    "\n",
    "## openpyxl\n",
    "\n",
    "一個老牌的 Python 與 Excel 串接的套件。功能上包括了讀取與寫入 xlsx 檔案。另外，openpyxl 在 Excel 的樣式設定上的功能十分齊全，非常適合用於輸出完整、特定樣式的 Excel 報表。\n",
    "\n",
    "該套件的缺點是在寫入大量的資料時，像是將整個 Pandas 的 DataFrame 的資料輸出至 Excel 時，語法稍顯冗長，無法做到和 Panda 套件一樣的一行程式碼輸出整個 DataFrame。\n",
    "\n",
    "\n",
    "但是這些套件都有一個共同的缺點，就是無法和 VBA 一樣做到**及時寫入**。"
   ]
  },
  {
   "cell_type": "markdown",
   "metadata": {
    "colab_type": "text",
    "id": "-Wzy76J7GZmS"
   },
   "source": [
    "## 我們先來體驗一下 openpyxl 這個套件"
   ]
  },
  {
   "cell_type": "code",
   "execution_count": 14,
   "metadata": {
    "colab": {},
    "colab_type": "code",
    "id": "0bnzucLpGZmV"
   },
   "outputs": [],
   "source": [
    "import openpyxl\n",
    "# import os"
   ]
  },
  {
   "cell_type": "code",
   "execution_count": 15,
   "metadata": {
    "colab": {},
    "colab_type": "code",
    "id": "JKdPBTwAGZme"
   },
   "outputs": [],
   "source": [
    "# 請確認範例檔案 stock_price_data.xlsx 與這個 notebook 檔案是在同一個資料夾底下\n",
    "\n",
    "# os.chdir(r\"範例檔案 stock_price_data.xlsx 所在的資料夾路徑\")\n",
    "workbook = openpyxl.load_workbook(\"stock_price_data.xlsx\")"
   ]
  },
  {
   "cell_type": "code",
   "execution_count": 16,
   "metadata": {
    "colab": {},
    "colab_type": "code",
    "id": "8GkVoYftGZml"
   },
   "outputs": [
    {
     "data": {
      "text/plain": [
       "<openpyxl.workbook.workbook.Workbook at 0x1cd596b9948>"
      ]
     },
     "execution_count": 16,
     "metadata": {},
     "output_type": "execute_result"
    }
   ],
   "source": [
    "# 看看是否有截取到工作簿\n",
    "workbook"
   ]
  },
  {
   "cell_type": "code",
   "execution_count": 17,
   "metadata": {
    "colab": {},
    "colab_type": "code",
    "id": "H_Uk5Mo9GZmw"
   },
   "outputs": [
    {
     "data": {
      "text/plain": [
       "<Worksheet \"2330\">"
      ]
     },
     "execution_count": 17,
     "metadata": {},
     "output_type": "execute_result"
    }
   ],
   "source": [
    "# 將工作簿底下，名爲 2330 的工作表讀取出來，存入 sheet 變數 \n",
    "sheet = workbook[\"2330\"]\n",
    "sheet"
   ]
  },
  {
   "cell_type": "code",
   "execution_count": 35,
   "metadata": {},
   "outputs": [],
   "source": [
    "# 讀取儲存格的值\n",
    "today = sheet.cell(row=3, column=2).value\n",
    "yesterday = sheet.cell(row=2, column=2).value\n",
    "daily_return = (today - yesterday) * 100 / yesterday # C3報酬率"
   ]
  },
  {
   "cell_type": "code",
   "execution_count": 36,
   "metadata": {
    "scrolled": true
   },
   "outputs": [
    {
     "data": {
      "text/plain": [
       "0.89086859688196"
      ]
     },
     "execution_count": 36,
     "metadata": {},
     "output_type": "execute_result"
    }
   ],
   "source": [
    "daily_return"
   ]
  },
  {
   "cell_type": "code",
   "execution_count": 38,
   "metadata": {},
   "outputs": [],
   "source": [
    "# 將C3報酬率寫入xlsx\n",
    "sheet.cell(row=3, column=3).value = daily_return\n",
    "workbook.save(\"stock_price_data.xlsx\")"
   ]
  },
  {
   "cell_type": "code",
   "execution_count": 32,
   "metadata": {},
   "outputs": [],
   "source": [
    "today = sheet.cell(row=4, column=2).value\n",
    "yesterday = sheet.cell(row=3, column=2).value\n",
    "daily_return = (today - yesterday) * 100 / yesterday # C4報酬率"
   ]
  },
  {
   "cell_type": "markdown",
   "metadata": {
    "colab_type": "text",
    "id": "ShTq_-WLGZm3"
   },
   "source": [
    "## 隨堂練習：計算第二天的日報酬率\n",
    "\n",
    "我們來嘗試計算臺積電的日報酬率\n",
    "\n",
    "以我們目前工作表的格式，流程十分簡單：\n",
    "\n",
    "1. 點選 B4 儲存格\n",
    "2. 輸入公式 **=(B3-B2)/B2**\n",
    "3. 按下 Enter，計算出第一天報酬率\n",
    "\n",
    "簡單來説，就是去 B3 及 B2 儲存格讀取資料，計算出報酬率，再將報酬率寫入 C3 儲存格"
   ]
  },
  {
   "cell_type": "code",
   "execution_count": 39,
   "metadata": {
    "colab": {},
    "colab_type": "code",
    "id": "-jNh3JVtGZm6"
   },
   "outputs": [
    {
     "data": {
      "text/plain": [
       "'日期'"
      ]
     },
     "execution_count": 39,
     "metadata": {},
     "output_type": "execute_result"
    }
   ],
   "source": [
    "sheet.cell(row=1, column=1).value"
   ]
  },
  {
   "cell_type": "code",
   "execution_count": 40,
   "metadata": {
    "colab": {},
    "colab_type": "code",
    "id": "8SzoomtlGZnD"
   },
   "outputs": [
    {
     "data": {
      "text/plain": [
       "226.5"
      ]
     },
     "execution_count": 40,
     "metadata": {},
     "output_type": "execute_result"
    }
   ],
   "source": [
    "# B3\n",
    "sheet.cell(row=3, column=2).value"
   ]
  },
  {
   "cell_type": "code",
   "execution_count": 41,
   "metadata": {
    "colab": {},
    "colab_type": "code",
    "id": "-5PMzcVXGZnH"
   },
   "outputs": [
    {
     "data": {
      "text/plain": [
       "224.5"
      ]
     },
     "execution_count": 41,
     "metadata": {},
     "output_type": "execute_result"
    }
   ],
   "source": [
    "# B2\n",
    "sheet.cell(row=2, column=2).value"
   ]
  },
  {
   "cell_type": "code",
   "execution_count": 42,
   "metadata": {
    "colab": {},
    "colab_type": "code",
    "id": "GPjHUuddGZnR"
   },
   "outputs": [
    {
     "data": {
      "text/plain": [
       "0.008908685968819599"
      ]
     },
     "execution_count": 42,
     "metadata": {},
     "output_type": "execute_result"
    }
   ],
   "source": [
    "# 計算報酬率\n",
    "(sheet.cell(row=3, column=2).value - sheet.cell(row=2, column=2).value) / sheet.cell(row=2, column=2).value"
   ]
  },
  {
   "cell_type": "code",
   "execution_count": 43,
   "metadata": {
    "colab": {},
    "colab_type": "code",
    "id": "Cx2mRWyBGZnT"
   },
   "outputs": [
    {
     "name": "stdout",
     "output_type": "stream",
     "text": [
      "收盤價\n"
     ]
    }
   ],
   "source": [
    "result = sheet.cell(row=1, column=2).value\n",
    "print(result)"
   ]
  },
  {
   "cell_type": "code",
   "execution_count": 44,
   "metadata": {
    "colab": {},
    "colab_type": "code",
    "id": "0bqG7sqQGZnX"
   },
   "outputs": [
    {
     "data": {
      "text/plain": [
       "233"
      ]
     },
     "execution_count": 44,
     "metadata": {},
     "output_type": "execute_result"
    }
   ],
   "source": [
    "# 取得 B4 儲存格(第三天)的資料\n",
    "today_price = sheet.cell(row=4, column=2).value\n",
    "today_price"
   ]
  },
  {
   "cell_type": "code",
   "execution_count": 45,
   "metadata": {
    "colab": {},
    "colab_type": "code",
    "id": "L1iNz9T8GZna"
   },
   "outputs": [
    {
     "data": {
      "text/plain": [
       "226.5"
      ]
     },
     "execution_count": 45,
     "metadata": {},
     "output_type": "execute_result"
    }
   ],
   "source": [
    "# 取得 B3 儲存格(第二天)的資料\n",
    "yesterday_price = sheet.cell(row=3, column=2).value\n",
    "yesterday_price"
   ]
  },
  {
   "cell_type": "code",
   "execution_count": 46,
   "metadata": {
    "colab": {},
    "colab_type": "code",
    "id": "2MLpMmAdGZnh"
   },
   "outputs": [
    {
     "data": {
      "text/plain": [
       "0.02869757174392936"
      ]
     },
     "execution_count": 46,
     "metadata": {},
     "output_type": "execute_result"
    }
   ],
   "source": [
    "# 計算報酬率\n",
    "return_value = (today_price - yesterday_price) / yesterday_price\n",
    "return_value"
   ]
  },
  {
   "cell_type": "code",
   "execution_count": 47,
   "metadata": {
    "colab": {},
    "colab_type": "code",
    "id": "O263OghpGZnl"
   },
   "outputs": [],
   "source": [
    "# 最後需要把值寫入儲存格 C4 (別忘了關掉 Excel 檔案)\n",
    "sheet.cell(row=4, column=3).value = return_value"
   ]
  },
  {
   "cell_type": "code",
   "execution_count": 50,
   "metadata": {
    "colab": {},
    "colab_type": "code",
    "id": "6dSYo_ScGZnp"
   },
   "outputs": [],
   "source": [
    "# 存檔\n",
    "workbook.save(\"stock_price_data.xlsx\")"
   ]
  },
  {
   "cell_type": "markdown",
   "metadata": {
    "colab_type": "text",
    "id": "k0vmc7qNGZns"
   },
   "source": [
    "## openpyxl 小結\n",
    "- 功能强大，語法貼近 Python\n",
    "- 若是有功能需要做到寫入儲存格，就需要關掉 Excel 才可以運作 (無法所見及所得，開發流程與效率相對差)\n",
    "- 若是需要寫入值，需要在程式的最後一行加上 workbook.save() (相對麻煩)\n",
    "- 適用於大型系統輸出 Excel 報表的功能"
   ]
  },
  {
   "cell_type": "markdown",
   "metadata": {
    "colab_type": "text",
    "id": "q-PTJSkzGZns"
   },
   "source": [
    "# 接下來我們來試試看 xlwings 套件\n",
    "\n",
    "- 先關閉你的 Excel 應用程式"
   ]
  },
  {
   "cell_type": "code",
   "execution_count": 1,
   "metadata": {
    "colab": {},
    "colab_type": "code",
    "id": "85zxpK2MGZnt"
   },
   "outputs": [],
   "source": [
    "# 引用 xlwings 套件\n",
    "import xlwings as xw"
   ]
  },
  {
   "cell_type": "code",
   "execution_count": 2,
   "metadata": {},
   "outputs": [],
   "source": [
    "# New in version 0.9.0. Not in anaconda\n",
    "# xw.kill() "
   ]
  },
  {
   "cell_type": "code",
   "execution_count": 3,
   "metadata": {
    "colab": {},
    "colab_type": "code",
    "id": "ttWi24BvGZny"
   },
   "outputs": [],
   "source": [
    "# 打開你的 Cells_Range_Examples.xlsm 檔案\n",
    "wb = xw.Book(r\"Cells_Range_Examples.xlsm\")"
   ]
  },
  {
   "cell_type": "code",
   "execution_count": 4,
   "metadata": {
    "colab": {},
    "colab_type": "code",
    "id": "vYXxBj_OGZn4"
   },
   "outputs": [
    {
     "data": {
      "text/plain": [
       "<Sheet [Cells_Range_Examples.xlsm]練習1>"
      ]
     },
     "execution_count": 4,
     "metadata": {},
     "output_type": "execute_result"
    }
   ],
   "source": [
    "# 從該 Excel 檔案裡找出名為 \"練習1\" 的試算表，存入 sheet 這個變數裏\n",
    "sheet = wb.sheets[\"練習1\"]\n",
    "sheet"
   ]
  },
  {
   "cell_type": "code",
   "execution_count": 5,
   "metadata": {
    "colab": {},
    "colab_type": "code",
    "id": "cQu0Y2FwGZn-"
   },
   "outputs": [],
   "source": [
    "# 將 101 寫入 A1 儲存格\n",
    "sheet.range(\"A2\").value = 101"
   ]
  },
  {
   "cell_type": "markdown",
   "metadata": {
    "colab_type": "text",
    "id": "f-vNIaYoGZoJ"
   },
   "source": [
    "# xlwings 的厲害之處\n",
    "\n",
    "能夠即時讀寫一個正在開啓的 Excel 工作簿\n",
    "\n",
    "### xlwings 的 cells() 與 range()\n",
    "\n",
    "在語法上非常貼近 VBA 的 cells() 與 range():\n",
    "\n",
    "```python\n",
    "sheet.cells(1, 'A').value = 123\n",
    "\n",
    "sheet.range(\"A1:C3\").value = 123\n",
    "```\n",
    "\n",
    "這樣的好處是大幅降低了 VBA 開發者切換至 Python 的學習成本"
   ]
  },
  {
   "cell_type": "code",
   "execution_count": 6,
   "metadata": {},
   "outputs": [],
   "source": [
    "sheet.range(\"A2\").value = 101"
   ]
  },
  {
   "cell_type": "code",
   "execution_count": 7,
   "metadata": {},
   "outputs": [],
   "source": [
    "sheet.range(\"A7:B7\").value = \"ABC\""
   ]
  },
  {
   "cell_type": "code",
   "execution_count": 8,
   "metadata": {},
   "outputs": [],
   "source": [
    "sheet.range(\"A12:C13\").value = 5"
   ]
  },
  {
   "cell_type": "code",
   "execution_count": 9,
   "metadata": {},
   "outputs": [],
   "source": [
    "sheet.range(\"C17\").value = sheet.range(\"A17\").value"
   ]
  },
  {
   "cell_type": "code",
   "execution_count": 10,
   "metadata": {
    "colab": {},
    "colab_type": "code",
    "id": "CN5NIkTvGZoL"
   },
   "outputs": [],
   "source": [
    "# sheet.range(\"A2\").value = 101"
   ]
  },
  {
   "cell_type": "code",
   "execution_count": 0,
   "metadata": {
    "colab": {},
    "colab_type": "code",
    "id": "XE34miMtGZoX"
   },
   "outputs": [],
   "source": [
    "# sheet.range(\"A7:B7\").value = \"ABC\""
   ]
  },
  {
   "cell_type": "code",
   "execution_count": 0,
   "metadata": {
    "colab": {},
    "colab_type": "code",
    "id": "qd6WYCfOGZob"
   },
   "outputs": [],
   "source": [
    "# sheet.range(\"A12:C13\").value = 5"
   ]
  },
  {
   "cell_type": "code",
   "execution_count": 0,
   "metadata": {
    "colab": {},
    "colab_type": "code",
    "id": "ZKAU37xzGZof"
   },
   "outputs": [],
   "source": [
    "# sheet.range(\"C17\").value = sheet.range(\"A17\").value"
   ]
  },
  {
   "cell_type": "code",
   "execution_count": 0,
   "metadata": {
    "colab": {},
    "colab_type": "code",
    "id": "wU0rfsGIGZok"
   },
   "outputs": [],
   "source": [
    "# sheet.range(\"A22:B22\").value"
   ]
  },
  {
   "cell_type": "markdown",
   "metadata": {
    "colab_type": "text",
    "id": "5v6nEtzKGZoq"
   },
   "source": [
    "## List (清單)\n",
    "\n",
    "今天一個由多個儲存格組成的**範圍 (range)**的值，通常是被封裝在一個 python 的串列 (List) 内\n",
    "\n",
    "對於學過其他程式語言的同學，python list 就是陣列 (Array)\n",
    "\n",
    "因此，以下程式碼：\n",
    "```python\n",
    "sheet.range(\"A22:B22\").value\n",
    "```\n",
    "會回傳:\n",
    "```python\n",
    "['ABC', 123.0]\n",
    "```"
   ]
  },
  {
   "cell_type": "code",
   "execution_count": 0,
   "metadata": {
    "colab": {},
    "colab_type": "code",
    "id": "I-laUvQCGZor"
   },
   "outputs": [],
   "source": [
    "# 試試看讀取 A27:B29 的值\n",
    "sheet.range(\"A27:B29\").value"
   ]
  },
  {
   "cell_type": "markdown",
   "metadata": {
    "colab_type": "text",
    "id": "3dc-0GShGZot"
   },
   "source": [
    "若今天一個 **range** 是二維的，也就是 row 和 column 的數目都超過一，該**range**的值就會被封裝在一個二維清單 / 陣列内\n",
    "\n",
    "```python\n",
    "[\n",
    "    [1.0, 2.0], \n",
    "    [3.0, 4.0], \n",
    "    [5.0, 6.0]\n",
    "]\n",
    "```\n",
    "\n",
    "第一層 List 内有三個 List\n",
    "\n",
    "内部每一個 List 都代表一個 row 的資料"
   ]
  },
  {
   "cell_type": "code",
   "execution_count": 0,
   "metadata": {
    "colab": {},
    "colab_type": "code",
    "id": "6-Eu-2BXGZou"
   },
   "outputs": [],
   "source": [
    "#sheet.range(\"D27:E29\").value = sheet.range(\"A27:B29\").value"
   ]
  },
  {
   "cell_type": "code",
   "execution_count": 0,
   "metadata": {
    "colab": {},
    "colab_type": "code",
    "id": "KowlvxoTGZoz"
   },
   "outputs": [],
   "source": [
    "#sheet.range(\"A35:A37\").value"
   ]
  },
  {
   "cell_type": "markdown",
   "metadata": {
    "colab_type": "text",
    "id": "U_KyABQCGZo3"
   },
   "source": [
    "# 請記得一個簡單的口號\n",
    "\n",
    "要用 Python 與 xlwings 一次性的將多筆資料寫入一個 Excel 的範圍，就**必須將寫入的資料放入大小與儲存格範圍一樣的二維串列内**"
   ]
  },
  {
   "cell_type": "markdown",
   "metadata": {
    "colab_type": "text",
    "id": "B_qAOyBxGZo4"
   },
   "source": [
    "# .formula 屬性\n",
    "\n",
    "\n",
    "每一個儲存格都有一個 formula 屬性，可以利用 python 動態設定該儲存格的公式\n",
    "\n",
    "\n",
    "**注意公式需要用字串 \"\" 表示，都是從 \"=\" 開始**\n",
    "\n",
    "```python\n",
    "tsmc_sheet.cells(4, \"D\").formula = \"=AVERAGE(B2:B4)\"\n",
    "```\n",
    "\n",
    "當然，我也可以用 range() 來選擇 D4:\n",
    "\n",
    "```python\n",
    "tsmc_sheet.range(\"D4\").formula = \"=AVERAGE(B2:B4)\"\n",
    "```\n",
    "\n"
   ]
  },
  {
   "cell_type": "code",
   "execution_count": 20,
   "metadata": {},
   "outputs": [],
   "source": [
    "sheet.range(\"C35\").formula = \"=SUM(A35:A37)\""
   ]
  },
  {
   "cell_type": "code",
   "execution_count": 0,
   "metadata": {
    "colab": {},
    "colab_type": "code",
    "id": "33WMYfvHGZo6"
   },
   "outputs": [],
   "source": [
    "#sheet.range(\"C35\").formula = \"=SUM(A35:A37)\""
   ]
  },
  {
   "cell_type": "markdown",
   "metadata": {
    "colab_type": "text",
    "id": "qchhrJIlGZpB"
   },
   "source": [
    "# .color 屬性\n",
    "\n",
    "每一個儲存格都有一個 color 屬性，可以利用 python **動態設定儲存格的底色**\n",
    "\n",
    "注意 color 的表達方式是將三原色 (RGB 值) 用 tuple (元組) 來表示：\n",
    "\n",
    "```python\n",
    "# 紅色亮度調最大，藍色、綠色調最小\n",
    "(255, 0, 0)\n",
    "```\n",
    "\n",
    "所以若要把 A1 儲存格的底色換成紅色：\n",
    "\n",
    "```python\n",
    "tsmc_sheet.range(\"A1\").color = (255, 0, 0)\n",
    "```"
   ]
  },
  {
   "cell_type": "code",
   "execution_count": 0,
   "metadata": {
    "colab": {},
    "colab_type": "code",
    "id": "_kfH30dvGZpF"
   },
   "outputs": [],
   "source": []
  },
  {
   "cell_type": "markdown",
   "metadata": {
    "colab_type": "text",
    "id": "h9v3VshtGZpK"
   },
   "source": [
    "\n",
    "### VBA Cells() 函數：\n",
    "\n",
    "用法：**Cells(row值, column值)**\n",
    "\n",
    "今天當我想賦值給 A1 儲存格時：\n",
    "```vb\n",
    "Cells(1, 1).value = 123\n",
    "```\n",
    "問題是這樣的寫法非常不直覺，所以 VBA 也支援以下寫法：\n",
    "```vb\n",
    "Cells(1, \"A\").value = 123\n",
    "```\n",
    "\n",
    "\n",
    "### xlwings 套件的 cells() \n",
    "\n",
    "在語法上非常貼近 VBA 的 cells() :\n",
    "\n",
    "```python\n",
    "sheet.cells(1, 'A').value = 123\n",
    "\n",
    "```"
   ]
  },
  {
   "cell_type": "code",
   "execution_count": 0,
   "metadata": {
    "colab": {},
    "colab_type": "code",
    "id": "thGYuBdwGZpL"
   },
   "outputs": [],
   "source": []
  },
  {
   "cell_type": "markdown",
   "metadata": {
    "colab_type": "text",
    "id": "oTzbZ4wwGZpP"
   },
   "source": [
    "## 使用 cells() 的小叮嚀\n",
    "\n",
    "今天我若想擷取 B1 儲存格的值，可以這樣寫：\n",
    "```python\n",
    "tsmc_sheet.cells(1, \"B\").value\n",
    "```\n",
    "\n",
    "### cells(儲存格的row值，儲存格的column值)\n",
    "\n",
    "儲存格的column值可以用字串 'B' 或 數字 2 表示"
   ]
  },
  {
   "cell_type": "code",
   "execution_count": 0,
   "metadata": {
    "colab": {},
    "colab_type": "code",
    "id": "R1OMeadhGZpP"
   },
   "outputs": [],
   "source": [
    "sheet.cells(42, \"A\").value = 99"
   ]
  },
  {
   "cell_type": "markdown",
   "metadata": {
    "colab_type": "text",
    "id": "SB0TxLUZGZpW"
   },
   "source": [
    "### 但是！\n",
    "\n",
    "**若你是用 Mac, xlwings 不支援用字串表示 column 值**\n",
    "\n",
    "這是 xlwings 在 Mac 上的極限，所以若你是用 Mac，上述程式碼需改寫成：\n",
    "\n",
    "```python\n",
    "sheet.cells(1, 2).value\n",
    "```\n",
    "\n",
    "***因此我的建議是，爲了確保程式碼可以跨平台，請盡量使用 range() 方法選擇儲存格**\n"
   ]
  },
  {
   "cell_type": "code",
   "execution_count": 0,
   "metadata": {
    "colab": {},
    "colab_type": "code",
    "id": "0e6krzxwGZpb"
   },
   "outputs": [],
   "source": []
  },
  {
   "cell_type": "markdown",
   "metadata": {
    "colab_type": "text",
    "id": "CR2JlYQ5GZpe"
   },
   "source": [
    "# 隨堂練習：用 xlwings 計算日報酬率\n",
    "\n",
    "\n",
    "```python\n",
    "import xlwings as xw\n",
    "# 打開你的 stock_price_data.xlsx 檔案\n",
    "wb = xw.Book(r\"範例檔案 stock_price_data.xlsx 的路徑\")\n",
    "# 截取需要操作的工作表\n",
    "tsmc_sheet = wb.sheets[\"2330\"]\n",
    "```"
   ]
  },
  {
   "cell_type": "code",
   "execution_count": 3,
   "metadata": {
    "colab": {},
    "colab_type": "code",
    "id": "T6zXTmWyGZpe"
   },
   "outputs": [
    {
     "data": {
      "text/plain": [
       "<Sheet [stock_price_data.xlsx]2330>"
      ]
     },
     "execution_count": 3,
     "metadata": {},
     "output_type": "execute_result"
    }
   ],
   "source": [
    "import xlwings as xw\n",
    "# 開啓名爲 stock_price_data.xlsx 的檔案\n",
    "wb = xw.Book(r\"stock_price_data.xlsx\")\n",
    "tsmc_sheet = wb.sheets[\"2330\"]\n",
    "tsmc_sheet"
   ]
  },
  {
   "cell_type": "code",
   "execution_count": 4,
   "metadata": {
    "colab": {},
    "colab_type": "code",
    "id": "UCINsLBMGZpl"
   },
   "outputs": [],
   "source": [
    "# 選擇第二天的資料\n",
    "today_price = tsmc_sheet.range(\"B3\").value "
   ]
  },
  {
   "cell_type": "code",
   "execution_count": 5,
   "metadata": {
    "colab": {},
    "colab_type": "code",
    "id": "UvTcfkLQGZpp"
   },
   "outputs": [
    {
     "data": {
      "text/plain": [
       "224.5"
      ]
     },
     "execution_count": 5,
     "metadata": {},
     "output_type": "execute_result"
    }
   ],
   "source": [
    "# 選擇第一天的資料\n",
    "yesterday_price = tsmc_sheet.range(\"B2\").value\n",
    "yesterday_price"
   ]
  },
  {
   "cell_type": "code",
   "execution_count": 6,
   "metadata": {
    "colab": {},
    "colab_type": "code",
    "id": "TpTRik1WGZpu"
   },
   "outputs": [
    {
     "data": {
      "text/plain": [
       "0.89086859688196"
      ]
     },
     "execution_count": 6,
     "metadata": {},
     "output_type": "execute_result"
    }
   ],
   "source": [
    "# 計算報酬率\n",
    "daily_return = (today_price - yesterday_price)*100 / yesterday_price\n",
    "daily_return"
   ]
  },
  {
   "cell_type": "code",
   "execution_count": 7,
   "metadata": {
    "colab": {},
    "colab_type": "code",
    "id": "wO2KyQZpGZpw"
   },
   "outputs": [],
   "source": [
    "# 將資料填入 C 欄\n",
    "tsmc_sheet.range(\"C3\").value = daily_return"
   ]
  },
  {
   "cell_type": "markdown",
   "metadata": {
    "colab_type": "text",
    "id": "Qy0sxGKbGZpy"
   },
   "source": [
    "# 練習：計算所有的報酬率\n",
    "\n",
    "請完成以下程式：\n",
    "\n",
    "```python\n",
    "# 算出所有的報酬率\n",
    "for i in range(3, ____):\n",
    "    today_price = tsmc_sheet.range(f\"B{_}\").value\n",
    "    yesterday_price = __________________________\n",
    "    daily_return = (today_price - ________________)*100 / yesterday_price\n",
    "    tsmc_sheet.range(f\"C{_}\").value = ________________\n",
    "\n",
    "```"
   ]
  },
  {
   "cell_type": "markdown",
   "metadata": {},
   "source": [
    "### 問題：How to know row counts in .xlsx?? "
   ]
  },
  {
   "cell_type": "code",
   "execution_count": 1,
   "metadata": {
    "colab": {},
    "colab_type": "code",
    "id": "hfTzpUYNGZpy"
   },
   "outputs": [
    {
     "name": "stdout",
     "output_type": "stream",
     "text": [
      "3: 0.89086859688196\n",
      "4: 2.869757174392936\n",
      "5: 1.9313304721030042\n",
      "6: 0.0\n",
      "7: 0.21052631578947367\n",
      "8: -1.050420168067227\n",
      "9: 0.8492569002123143\n",
      "10: 0.631578947368421\n",
      "11: -0.6276150627615062\n",
      "12: 0.631578947368421\n",
      "13: -0.41841004184100417\n",
      "14: 0.0\n",
      "15: -0.8403361344537815\n",
      "16: 1.271186440677966\n",
      "17: 1.6736401673640167\n",
      "18: 0.0\n",
      "19: -0.205761316872428\n",
      "20: -0.6185567010309279\n",
      "21: -0.8298755186721992\n",
      "22: 0.20920502092050208\n",
      "23: 1.8789144050104385\n",
      "24: -0.6147540983606558\n",
      "25: -0.6185567010309279\n",
      "26: -0.2074688796680498\n",
      "27: -0.4158004158004158\n",
      "28: 0.20876826722338204\n",
      "29: -1.0416666666666667\n",
      "30: 0.21052631578947367\n",
      "31: 1.4705882352941178\n",
      "32: -1.2422360248447204\n",
      "33: 1.8867924528301887\n",
      "34: -0.411522633744856\n",
      "35: 0.2066115702479339\n",
      "36: 0.6185567010309279\n",
      "37: -2.8688524590163933\n",
      "38: -1.2658227848101267\n",
      "39: 0.21367521367521367\n",
      "40: -3.624733475479744\n",
      "41: 2.2123893805309733\n",
      "42: 1.2987012987012987\n",
      "43: -0.6410256410256411\n",
      "44: -2.3655913978494625\n",
      "45: -0.22026431718061673\n",
      "46: 0.22075055187637968\n",
      "47: 1.7621145374449338\n",
      "48: 0.0\n",
      "49: -1.5151515151515151\n",
      "50: 0.0\n",
      "51: 0.0\n",
      "52: 0.0\n",
      "53: 0.0\n",
      "54: 1.3186813186813187\n",
      "55: -2.6030368763557483\n",
      "56: 0.22271714922049\n",
      "57: 0.0\n",
      "58: 1.1111111111111112\n",
      "59: 0.43956043956043955\n",
      "60: -1.0940919037199124\n",
      "61: -0.4424778761061947\n",
      "62: 0.4444444444444444\n",
      "63: 1.5486725663716814\n",
      "64: 1.3071895424836601\n",
      "65: 3.010752688172043\n",
      "66: 0.20876826722338204\n",
      "67: 0.8333333333333334\n",
      "68: 0.0\n",
      "69: -2.272727272727273\n",
      "70: -0.6342494714587738\n",
      "71: 0.851063829787234\n",
      "72: 1.2658227848101267\n",
      "73: 0.20833333333333334\n",
      "74: 0.6237006237006237\n",
      "75: 2.6859504132231407\n",
      "76: 2.816901408450704\n",
      "77: 2.3483365949119372\n",
      "78: 1.7208413001912046\n",
      "79: -3.007518796992481\n",
      "80: 0.0\n",
      "81: -1.1627906976744187\n",
      "82: 1.3725490196078431\n",
      "83: -2.127659574468085\n",
      "84: 0.7905138339920948\n",
      "85: 1.7647058823529411\n",
      "86: 0.0\n",
      "87: -2.504816955684008\n",
      "88: -5.533596837944664\n",
      "89: 0.41841004184100417\n",
      "90: -0.625\n",
      "91: -2.5157232704402515\n",
      "92: 1.7204301075268817\n",
      "93: 2.536997885835095\n",
      "94: -1.2371134020618557\n",
      "95: 2.2964509394572024\n",
      "96: 0.6122448979591837\n"
     ]
    }
   ],
   "source": [
    "# 引用 xlwings 套件\n",
    "import xlwings as xw\n",
    "\n",
    "# 開啓名爲 stock_price_data.xlsx 的檔案\n",
    "wb = xw.Book(r\"stock_price_data.xlsx\")\n",
    "tsmc_sheet = wb.sheets[\"2330\"]\n",
    "\n",
    "def calc_daily_return(today_price, yesterday_price):\n",
    "    daily_return = (today_price - yesterday_price)*100 / yesterday_price\n",
    "    return daily_return\n",
    "\n",
    "def calc_moving_avg():\n",
    "    return\n",
    "\n",
    "# 算出所有的報酬率\n",
    "for i in range(3, 97): # 3~96\n",
    "\n",
    "    # Get current price and previous price\n",
    "    today_price = tsmc_sheet.range(f\"B{i}\").value\n",
    "    yesterday_price = tsmc_sheet.range(f\"B{i-1}\").value\n",
    "\n",
    "    # Calc return value and write in excel\n",
    "    daily_return = calc_daily_return(today_price, yesterday_price)\n",
    "    tsmc_sheet.range(f\"C{i}\").value = daily_return\n",
    "    print(str(i) + \": \" + str(daily_return))\n",
    "\n",
    "wb.save()"
   ]
  },
  {
   "cell_type": "markdown",
   "metadata": {
    "colab_type": "text",
    "id": "YEzdiis6GZp4"
   },
   "source": [
    "# 相關資源：\n",
    "\n",
    "Medium: \n",
    "\n",
    "1. [當大蟒蛇語言遇上老牌試算表軟體](https://medium.com/pyradise/%E7%95%B6%E5%A4%A7%E8%9F%92%E8%9B%87%E8%AA%9E%E8%A8%80%E9%81%87%E4%B8%8A%E8%80%81%E7%89%8C%E8%A9%A6%E7%AE%97%E8%A1%A8%E8%BB%9F%E9%AB%94-fc7947792000)\n",
    "\n",
    "2. [讓 Python 為你的 Excel 添加翅膀](https://medium.com/pyradise/%E7%95%B6%E5%A4%A7%E8%9F%92%E8%9B%87%E8%AA%9E%E8%A8%80%E9%81%87%E4%B8%8A%E8%80%81%E7%89%8C%E8%A9%A6%E7%AE%97%E8%A1%A8%E8%BB%9F%E9%AB%94-2-2e1e825b31fe)\n",
    "\n",
    "xlwings 官網：\n",
    "\n",
    "[官網連結](https://www.xlwings.org/)"
   ]
  }
 ],
 "metadata": {
  "colab": {
   "name": "Python x Excel 大數據分析實戰 (第一課) Part 1.ipynb",
   "provenance": []
  },
  "kernelspec": {
   "display_name": "Python 3",
   "language": "python",
   "name": "python3"
  },
  "language_info": {
   "codemirror_mode": {
    "name": "ipython",
    "version": 3
   },
   "file_extension": ".py",
   "mimetype": "text/x-python",
   "name": "python",
   "nbconvert_exporter": "python",
   "pygments_lexer": "ipython3",
   "version": "3.7.4"
  }
 },
 "nbformat": 4,
 "nbformat_minor": 1
}
