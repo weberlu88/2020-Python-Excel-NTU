{
 "cells": [
  {
   "cell_type": "markdown",
   "metadata": {
    "colab_type": "text",
    "id": "AK1NNwRIl0-R"
   },
   "source": [
    "# 開啓這個 Colab Notebook 之後\n",
    "\n",
    "1. 請選擇 Save a Copy to Drive，將這個 Notebook 複製到你的 Google Drive 内\n",
    "\n",
    "![alt text](https://drive.google.com/uc?export=download&id=1Lm7c12TZfS509ayfUO8lyacKCYD_C5hy)\n",
    "\n",
    "接下來我們來安裝 gspread，一個 Python 與 Google Sheet 的串接套件：\n",
    "\n",
    "\n",
    "\n"
   ]
  },
  {
   "cell_type": "code",
   "execution_count": 0,
   "metadata": {
    "colab": {},
    "colab_type": "code",
    "id": "VQkOaRyNne0Q"
   },
   "outputs": [],
   "source": [
    "!pip install --upgrade --quiet gspread"
   ]
  },
  {
   "cell_type": "code",
   "execution_count": 0,
   "metadata": {
    "colab": {},
    "colab_type": "code",
    "id": "0IjwwtA2O1RT"
   },
   "outputs": [],
   "source": []
  },
  {
   "cell_type": "markdown",
   "metadata": {
    "colab_type": "text",
    "id": "UCfNetojrXSh"
   },
   "source": []
  },
  {
   "cell_type": "code",
   "execution_count": 0,
   "metadata": {
    "colab": {},
    "colab_type": "code",
    "id": "zPcwemBHnwqk"
   },
   "outputs": [],
   "source": [
    "# 開啓 google 驗證，允許 colab 對 Google Drive 内的文件進行操作\n",
    "from google.colab import auth\n",
    "auth.authenticate_user()\n",
    "\n",
    "import gspread\n",
    "from oauth2client.client import GoogleCredentials\n",
    "\n",
    "gc = gspread.authorize(GoogleCredentials.get_application_default())"
   ]
  },
  {
   "cell_type": "markdown",
   "metadata": {
    "colab_type": "text",
    "id": "kOBa2B0Lq1i5"
   },
   "source": [
    "# 接下來 Goole 會開始驗證\n",
    "\n",
    "![alt text](https://drive.google.com/uc?export=download&id=1sxKFDOoDAq5R8HqABuRCFAa1pG6d--kO)\n",
    "\n",
    "## 將驗證碼複製起來\n",
    "\n",
    "![alt text](https://drive.google.com/uc?export=download&id=1COoAgUfEKZ6pFAUXWqFBm6wzEx1O-S8L)\n",
    "\n",
    "## 輸入到 Notebook 的對話方塊内\n",
    "\n",
    "![alt text](https://drive.google.com/uc?export=download&id=1dbdQUqDEyYMBrw_gKHu--9_oVqWq9dUK)"
   ]
  },
  {
   "cell_type": "code",
   "execution_count": 2,
   "metadata": {
    "colab": {
     "base_uri": "https://localhost:8080/",
     "height": 54
    },
    "colab_type": "code",
    "executionInfo": {
     "elapsed": 5685,
     "status": "ok",
     "timestamp": 1579311739043,
     "user": {
      "displayName": "Chang Eugene",
      "photoUrl": "https://lh3.googleusercontent.com/a-/AAuE7mDgG8SGAY6cu-4YRJdlIxVv5tySBCTwYkDUpHLEBQ=s64",
      "userId": "13265381936809324971"
     },
     "user_tz": -480
    },
    "id": "1SFT0OBKn0Km",
    "outputId": "a3faecd0-ec41-4f11-8472-a31c23c538b6"
   },
   "outputs": [
    {
     "data": {
      "text/plain": [
       "<Spreadsheet '我的 Google Sheet' id:1sTasuBdj0NXPacPJKbJJDo73Vxdopp7NzMgP1_PLR08>"
      ]
     },
     "execution_count": 2,
     "metadata": {
      "tags": []
     },
     "output_type": "execute_result"
    }
   ],
   "source": [
    "# 建立一個名爲 ”我的 Google Sheet“ 的 Google Spreadsheet\n",
    "gc.create(\"我的 Google Sheet\")"
   ]
  },
  {
   "cell_type": "markdown",
   "metadata": {
    "colab_type": "text",
    "id": "EW27FVhzn5jT"
   },
   "source": [
    "## 進入你的 Google Drive，檢查一下是否有一個 Google Sheet 被新增出來\n",
    "\n",
    "Google Sheet 首頁： [連結](https://docs.google.com/spreadsheets/u/0/)"
   ]
  },
  {
   "cell_type": "markdown",
   "metadata": {
    "colab_type": "text",
    "id": "1HvMI1E6-M7X"
   },
   "source": [
    "# 接下來我們來建立一個新的 Google SpreadSheet\n",
    "\n"
   ]
  },
  {
   "cell_type": "code",
   "execution_count": 3,
   "metadata": {
    "colab": {
     "base_uri": "https://localhost:8080/",
     "height": 54
    },
    "colab_type": "code",
    "executionInfo": {
     "elapsed": 10822,
     "status": "ok",
     "timestamp": 1579311865766,
     "user": {
      "displayName": "Chang Eugene",
      "photoUrl": "https://lh3.googleusercontent.com/a-/AAuE7mDgG8SGAY6cu-4YRJdlIxVv5tySBCTwYkDUpHLEBQ=s64",
      "userId": "13265381936809324971"
     },
     "user_tz": -480
    },
    "id": "RkTqt2RUoPHF",
    "outputId": "d7419d53-aa8a-442a-98a9-e9459782f8f9"
   },
   "outputs": [
    {
     "data": {
      "text/plain": [
       "<Spreadsheet '我的 Google Sheet' id:1sTasuBdj0NXPacPJKbJJDo73Vxdopp7NzMgP1_PLR08>"
      ]
     },
     "execution_count": 3,
     "metadata": {
      "tags": []
     },
     "output_type": "execute_result"
    }
   ],
   "source": [
    "# 開啓方才建立的 Google 試算表，放入 gs 變數\n",
    "gs = gc.open(\"我的 Google Sheet\")\n",
    "# 現在 gs 是指向整個 Google 試算表\n",
    "gs"
   ]
  },
  {
   "cell_type": "code",
   "execution_count": 4,
   "metadata": {
    "colab": {
     "base_uri": "https://localhost:8080/",
     "height": 34
    },
    "colab_type": "code",
    "executionInfo": {
     "elapsed": 5360,
     "status": "ok",
     "timestamp": 1579311918079,
     "user": {
      "displayName": "Chang Eugene",
      "photoUrl": "https://lh3.googleusercontent.com/a-/AAuE7mDgG8SGAY6cu-4YRJdlIxVv5tySBCTwYkDUpHLEBQ=s64",
      "userId": "13265381936809324971"
     },
     "user_tz": -480
    },
    "id": "QXjRN0BsCR1k",
    "outputId": "02011d4e-cfcb-47e9-df4a-98582b0cd6a9"
   },
   "outputs": [
    {
     "data": {
      "text/plain": [
       "<Worksheet 'Sheet1' id:0>"
      ]
     },
     "execution_count": 4,
     "metadata": {
      "tags": []
     },
     "output_type": "execute_result"
    }
   ],
   "source": [
    "# 選擇新建立試算表的第一個工作表\n",
    "wks = gs.sheet1\n",
    "# 此時我們就可以將 worksheet 物件存入 wks 變數\n",
    "wks"
   ]
  },
  {
   "cell_type": "markdown",
   "metadata": {
    "colab_type": "text",
    "id": "HQOs3t4hDk9f"
   },
   "source": [
    "## 基礎操作\n",
    "\n",
    "Excel 的操作可以簡化成 Read（讀取）與 Write（寫入）"
   ]
  },
  {
   "cell_type": "markdown",
   "metadata": {
    "colab_type": "text",
    "id": "FXGEouAsdQzc"
   },
   "source": [
    "# 更新單一儲存格：update_acell() 方法\n",
    "\n",
    "若要寫入資料，我們可以使用 worksheet `update_acell()` 方法，用法是輸入儲存格名稱與欲更新的資料。\n",
    "\n",
    "例：\n",
    "\n",
    "```python\n",
    "# 將 Hello World! 寫入至 A1 儲存格\n",
    "wks.update_acell(\"A1\", \"Hello World!\")\n",
    "```"
   ]
  },
  {
   "cell_type": "code",
   "execution_count": 5,
   "metadata": {
    "colab": {
     "base_uri": "https://localhost:8080/",
     "height": 105
    },
    "colab_type": "code",
    "executionInfo": {
     "elapsed": 1990,
     "status": "ok",
     "timestamp": 1579311923568,
     "user": {
      "displayName": "Chang Eugene",
      "photoUrl": "https://lh3.googleusercontent.com/a-/AAuE7mDgG8SGAY6cu-4YRJdlIxVv5tySBCTwYkDUpHLEBQ=s64",
      "userId": "13265381936809324971"
     },
     "user_tz": -480
    },
    "id": "UI2ix4l8p8mZ",
    "outputId": "fa90e11e-5cd9-4ca5-e717-3a80c2ede1f9"
   },
   "outputs": [
    {
     "data": {
      "text/plain": [
       "{'spreadsheetId': '1sTasuBdj0NXPacPJKbJJDo73Vxdopp7NzMgP1_PLR08',\n",
       " 'updatedCells': 1,\n",
       " 'updatedColumns': 1,\n",
       " 'updatedRange': 'Sheet1!A1',\n",
       " 'updatedRows': 1}"
      ]
     },
     "execution_count": 5,
     "metadata": {
      "tags": []
     },
     "output_type": "execute_result"
    }
   ],
   "source": [
    "# 將 Hello World! 寫入至 A1 儲存格\n",
    "wks.update_acell(\"A1\", \"Hello World!\")"
   ]
  },
  {
   "cell_type": "markdown",
   "metadata": {
    "colab_type": "text",
    "id": "k51OvXqXrcDk"
   },
   "source": [
    "![alt text](https://drive.google.com/uc?export=download&id=1cg-CTTj9YXBJ0IyExtBjUPPzMoHxwwPX)"
   ]
  },
  {
   "cell_type": "markdown",
   "metadata": {
    "colab_type": "text",
    "id": "5Ciy0_2wfO__"
   },
   "source": [
    "# 另一種寫入資料的方式：update_cell() 方法\n",
    "\n",
    "\n",
    "另一種寫入資料的方式是用 update_cell()\n",
    "用法是： \n",
    "\n",
    "```python\n",
    "wks.update_cell(行值, 欄值, 要寫入的資料)\n",
    "```"
   ]
  },
  {
   "cell_type": "code",
   "execution_count": 6,
   "metadata": {
    "colab": {
     "base_uri": "https://localhost:8080/",
     "height": 105
    },
    "colab_type": "code",
    "executionInfo": {
     "elapsed": 18277,
     "status": "ok",
     "timestamp": 1579311947221,
     "user": {
      "displayName": "Chang Eugene",
      "photoUrl": "https://lh3.googleusercontent.com/a-/AAuE7mDgG8SGAY6cu-4YRJdlIxVv5tySBCTwYkDUpHLEBQ=s64",
      "userId": "13265381936809324971"
     },
     "user_tz": -480
    },
    "id": "9OlCUemXvy4C",
    "outputId": "d7552d16-4de1-4e01-d134-f7ffa5a8c8e9"
   },
   "outputs": [
    {
     "data": {
      "text/plain": [
       "{'spreadsheetId': '1sTasuBdj0NXPacPJKbJJDo73Vxdopp7NzMgP1_PLR08',\n",
       " 'updatedCells': 1,\n",
       " 'updatedColumns': 1,\n",
       " 'updatedRange': 'Sheet1!A2',\n",
       " 'updatedRows': 1}"
      ]
     },
     "execution_count": 6,
     "metadata": {
      "tags": []
     },
     "output_type": "execute_result"
    }
   ],
   "source": [
    "\"\"\"\n",
    "另一種寫入資料的方式是用 update_cell()\n",
    "用法是 update_cell(row 值, column 值, 要寫入的資料)\n",
    "\"\"\"\n",
    "wks.update_cell(2, 1, 101)"
   ]
  },
  {
   "cell_type": "code",
   "execution_count": 0,
   "metadata": {
    "colab": {
     "base_uri": "https://localhost:8080/",
     "height": 34
    },
    "colab_type": "code",
    "executionInfo": {
     "elapsed": 3171,
     "status": "ok",
     "timestamp": 1574661405458,
     "user": {
      "displayName": "Chang Eugene",
      "photoUrl": "https://lh3.googleusercontent.com/a-/AAuE7mDgG8SGAY6cu-4YRJdlIxVv5tySBCTwYkDUpHLEBQ=s64",
      "userId": "13265381936809324971"
     },
     "user_tz": -480
    },
    "id": "Qyc7WzuFvmji",
    "outputId": "7d222e6d-c4ef-4c7b-fa58-48640d8c0eeb"
   },
   "outputs": [
    {
     "data": {
      "text/plain": [
       "'Hello World!'"
      ]
     },
     "execution_count": 22,
     "metadata": {
      "tags": []
     },
     "output_type": "execute_result"
    }
   ],
   "source": [
    "# 讀取一個儲存格的值\n",
    "wks.acell(\"A1\").value"
   ]
  },
  {
   "cell_type": "markdown",
   "metadata": {
    "colab_type": "text",
    "id": "DvMLnl0fKz4K"
   },
   "source": [
    "## 讀取與寫入多個儲存格 / 儲存格範圍（Range）\n",
    "\n",
    "`worksheet` 物件也有 `range()` 的概念\n",
    "\n",
    "所以今天若我們希望能夠選擇一個 Google Sheet 的範圍，像是 `A1:A3`，我們可以用以下寫法：\n",
    "\n",
    "```python\n",
    "rng = wks.range(\"A1:A3\")\n",
    "rng\n",
    "# [<Cell R1C1 'Hello World!'>, <Cell R2C1 '101'>, <Cell R3C1 ''>]\n",
    "```\n"
   ]
  },
  {
   "cell_type": "code",
   "execution_count": 7,
   "metadata": {
    "colab": {
     "base_uri": "https://localhost:8080/",
     "height": 34
    },
    "colab_type": "code",
    "executionInfo": {
     "elapsed": 3434,
     "status": "ok",
     "timestamp": 1579311996782,
     "user": {
      "displayName": "Chang Eugene",
      "photoUrl": "https://lh3.googleusercontent.com/a-/AAuE7mDgG8SGAY6cu-4YRJdlIxVv5tySBCTwYkDUpHLEBQ=s64",
      "userId": "13265381936809324971"
     },
     "user_tz": -480
    },
    "id": "GugkSnGUIkvQ",
    "outputId": "ae88ba09-01f9-47a1-acb6-8e15dfbcbd7c"
   },
   "outputs": [
    {
     "data": {
      "text/plain": [
       "[<Cell R1C1 'Hello World!'>, <Cell R1C2 ''>, <Cell R1C3 ''>]"
      ]
     },
     "execution_count": 7,
     "metadata": {
      "tags": []
     },
     "output_type": "execute_result"
    }
   ],
   "source": [
    "rng = wks.range(\"A1:C1\")\n",
    "rng"
   ]
  },
  {
   "cell_type": "code",
   "execution_count": 8,
   "metadata": {
    "colab": {
     "base_uri": "https://localhost:8080/",
     "height": 34
    },
    "colab_type": "code",
    "executionInfo": {
     "elapsed": 1406,
     "status": "ok",
     "timestamp": 1579312018997,
     "user": {
      "displayName": "Chang Eugene",
      "photoUrl": "https://lh3.googleusercontent.com/a-/AAuE7mDgG8SGAY6cu-4YRJdlIxVv5tySBCTwYkDUpHLEBQ=s64",
      "userId": "13265381936809324971"
     },
     "user_tz": -480
    },
    "id": "fME1oL8vVLkH",
    "outputId": "103addbe-f157-43ac-d5be-a7f9ac50f0ab"
   },
   "outputs": [
    {
     "data": {
      "text/plain": [
       "[<Cell R1C1 'Hello World!'>, <Cell R1C2 ''>, <Cell R1C3 ''>]"
      ]
     },
     "execution_count": 8,
     "metadata": {
      "tags": []
     },
     "output_type": "execute_result"
    }
   ],
   "source": [
    "rng"
   ]
  },
  {
   "cell_type": "markdown",
   "metadata": {
    "colab_type": "text",
    "id": "z7UjyB2gNur3"
   },
   "source": [
    "注意 `wks.range()` 是讓我們選擇多個儲存格，並且回傳了一個裝滿 `cell` 物件的 list\n",
    "\n",
    "接下來要將單一儲存格的值讀出來時：\n",
    "\n",
    "```python\n",
    "rng = wks.range(\"A1:A3\")\n",
    "cell = rng[0]\n",
    "cell.value\n",
    "# 'Hello World!'\n",
    "```"
   ]
  },
  {
   "cell_type": "markdown",
   "metadata": {
    "colab_type": "text",
    "id": "kLALrUOtPVrx"
   },
   "source": [
    "## 結合我們在上面所學的...\n",
    "\n",
    "若要一次把一個範圍的值讀取出來\n",
    "\n",
    "```python\n",
    "[cell.value for cell in rng]\n",
    "# ['Hello World!', '', '101', '']\n",
    "```"
   ]
  },
  {
   "cell_type": "code",
   "execution_count": 0,
   "metadata": {
    "colab": {
     "base_uri": "https://localhost:8080/",
     "height": 34
    },
    "colab_type": "code",
    "executionInfo": {
     "elapsed": 1105,
     "status": "ok",
     "timestamp": 1574663345969,
     "user": {
      "displayName": "Chang Eugene",
      "photoUrl": "https://lh3.googleusercontent.com/a-/AAuE7mDgG8SGAY6cu-4YRJdlIxVv5tySBCTwYkDUpHLEBQ=s64",
      "userId": "13265381936809324971"
     },
     "user_tz": -480
    },
    "id": "PfmdJQ1gP7fp",
    "outputId": "4e9a2464-18c4-4dc1-9a5a-0181b1d4aafa"
   },
   "outputs": [
    {
     "data": {
      "text/plain": [
       "['Hello World!', '', '101', '']"
      ]
     },
     "execution_count": 38,
     "metadata": {
      "tags": []
     },
     "output_type": "execute_result"
    }
   ],
   "source": []
  },
  {
   "cell_type": "markdown",
   "metadata": {
    "colab_type": "text",
    "id": "7jiH6ambQOOF"
   },
   "source": [
    "## 若要讀取一整個 Row 或 Column\n",
    "\n",
    "可以使用 `wks.row_values(row 值)`：\n",
    "\n",
    "```python\n",
    "# 讀取第一個 row 的資料\n",
    "wks.row_values(1)\n",
    "# ['Hello World!']\n",
    "```\n"
   ]
  },
  {
   "cell_type": "code",
   "execution_count": 0,
   "metadata": {
    "colab": {
     "base_uri": "https://localhost:8080/",
     "height": 34
    },
    "colab_type": "code",
    "executionInfo": {
     "elapsed": 1096,
     "status": "ok",
     "timestamp": 1574663671100,
     "user": {
      "displayName": "Chang Eugene",
      "photoUrl": "https://lh3.googleusercontent.com/a-/AAuE7mDgG8SGAY6cu-4YRJdlIxVv5tySBCTwYkDUpHLEBQ=s64",
      "userId": "13265381936809324971"
     },
     "user_tz": -480
    },
    "id": "HCD0FO6jO4Mm",
    "outputId": "355e998b-c983-4d29-a838-b97f152a6939"
   },
   "outputs": [
    {
     "data": {
      "text/plain": [
       "['Hello World!']"
      ]
     },
     "execution_count": 49,
     "metadata": {
      "tags": []
     },
     "output_type": "execute_result"
    }
   ],
   "source": [
    "wks.row_values(1)"
   ]
  },
  {
   "cell_type": "markdown",
   "metadata": {
    "colab_type": "text",
    "id": "h36f5e-HQn1x"
   },
   "source": [
    "## 若要讀取一整個 Column\n",
    "\n",
    "可以使用 `wks.col_values(column 數字值)`：\n",
    "\n",
    "```python\n",
    "# 讀取第一個 column 的資料\n",
    "wks.col_values(1)\n",
    "# ['Hello World!', '101']\n",
    "```\n"
   ]
  },
  {
   "cell_type": "code",
   "execution_count": 0,
   "metadata": {
    "colab": {
     "base_uri": "https://localhost:8080/",
     "height": 34
    },
    "colab_type": "code",
    "executionInfo": {
     "elapsed": 1122,
     "status": "ok",
     "timestamp": 1574663675188,
     "user": {
      "displayName": "Chang Eugene",
      "photoUrl": "https://lh3.googleusercontent.com/a-/AAuE7mDgG8SGAY6cu-4YRJdlIxVv5tySBCTwYkDUpHLEBQ=s64",
      "userId": "13265381936809324971"
     },
     "user_tz": -480
    },
    "id": "O7ShlEL7O9D8",
    "outputId": "76b4669e-5d07-4636-cbad-ace87f8ab474"
   },
   "outputs": [
    {
     "data": {
      "text/plain": [
       "['Hello World!', '101']"
      ]
     },
     "execution_count": 50,
     "metadata": {
      "tags": []
     },
     "output_type": "execute_result"
    }
   ],
   "source": [
    "wks.col_values(1)"
   ]
  },
  {
   "cell_type": "markdown",
   "metadata": {
    "colab_type": "text",
    "id": "j98Voir_3PDR"
   },
   "source": [
    "## 剩餘的功能，請參考 gspread 官方文件\n",
    "\n",
    "gspread 官方文件：[連結](https://gspread.readthedocs.io/en/latest/)"
   ]
  }
 ],
 "metadata": {
  "colab": {
   "collapsed_sections": [],
   "name": "Py x Google Sheet 教學系列 1：Intro.ipynb",
   "provenance": []
  },
  "kernelspec": {
   "display_name": "Python 3",
   "language": "python",
   "name": "python3"
  },
  "language_info": {
   "codemirror_mode": {
    "name": "ipython",
    "version": 3
   },
   "file_extension": ".py",
   "mimetype": "text/x-python",
   "name": "python",
   "nbconvert_exporter": "python",
   "pygments_lexer": "ipython3",
   "version": "3.7.4"
  }
 },
 "nbformat": 4,
 "nbformat_minor": 1
}
