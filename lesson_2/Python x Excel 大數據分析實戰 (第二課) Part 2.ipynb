{
 "cells": [
  {
   "cell_type": "markdown",
   "metadata": {
    "colab_type": "text",
    "id": "9NFsJs3l6XG7"
   },
   "source": [
    "# 認識歷史回測\n",
    "\n",
    "當我們在市場上交易時，若是對當前市場的趨勢變動沒有把握時，就需要歷史回測(Back Testing)模擬真實的開盤狀況，借此來驗證自己的交易策略是否是有效的。回測不僅僅只是數學計量模型的計算，也包含了計量模型以外的市場分析。\n",
    "\n",
    "以往大家都沒有完整的歷史數據、只有零散在各處的新聞媒體或券商的統計、盤後資料時，是很難進行歷史回測的。而現在由於資料取得容易，計量回測就成了一個不可或缺的工具。\n",
    "\n",
    "接下來我們將學會一個技術指標，並且利用我們之前學會的 Python 技能來計算該指標，最後再根據該指標對臺積電的歷史資料進行回測"
   ]
  },
  {
   "cell_type": "markdown",
   "metadata": {
    "colab_type": "text",
    "id": "DHCY5fIQ6XHB"
   },
   "source": [
    "# 先 import 我們所需要的模組\n",
    "\n",
    "```python\n",
    "import xlwings as xw\n",
    "\n",
    "# 打開你的 tsmc_back_test.xlsx 檔案\n",
    "wb = xw.Book(r\"範例檔案 tsmc_back_test.xlsx 的路徑\")\n",
    "tsmc_sheet = wb.sheets[\"2330\"]\n",
    "```"
   ]
  },
  {
   "cell_type": "code",
   "execution_count": 1,
   "metadata": {
    "colab": {},
    "colab_type": "code",
    "id": "XJ3f8mKZ6XHE"
   },
   "outputs": [],
   "source": [
    "import xlwings as xw\n",
    "\n",
    "# 打開你的 tsmc_back_test.xlsx 檔案\n",
    "wb = xw.Book(r\"tsmc_back_test.xlsx\")\n",
    "tsmc_sheet = wb.sheets[\"2330\"]"
   ]
  },
  {
   "cell_type": "markdown",
   "metadata": {
    "colab_type": "text",
    "id": "COBtvbHR6XHK"
   },
   "source": [
    "## 計算加權移動平均(WMA)\n",
    "\n",
    "- 簡單移動平均給予所有歷史資料相同的權重\n",
    "- 但相對來說越近期的資料其實與未來價格越相關，應改與其較高的影響力\n",
    "- 因此加權移動平均給予越近期的資料越大的權重，用以改善簡單移動平均\n",
    "\n",
    "![](https://drive.google.com/uc?export=download&id=17rgOsqBKLggR-dCySXh-KTX5sj4kOrQd)\n",
    "\n",
    "計算方法如下：\n",
    "\n",
    "- 我們總共有三天，權重分為：3、2、1。\n",
    "- 因此，計算平均的分母為：3+2+1=6。\n",
    "- 12/11 之三日加權移動平均為：\n",
    "\n",
    "![](https://drive.google.com/uc?export=download&id=1O4Q4SBzDzDr5zOG1-3M-RzLMqwqVVaxw)\n"
   ]
  },
  {
   "cell_type": "markdown",
   "metadata": {
    "colab_type": "text",
    "id": "hMsNmcdI6XHM"
   },
   "source": [
    "## 動態截取資料的筆數"
   ]
  },
  {
   "cell_type": "code",
   "execution_count": 4,
   "metadata": {
    "colab": {},
    "colab_type": "code",
    "id": "XzbTyCQ46XHO"
   },
   "outputs": [
    {
     "data": {
      "text/plain": [
       "193"
      ]
     },
     "execution_count": 4,
     "metadata": {},
     "output_type": "execute_result"
    }
   ],
   "source": [
    "# 會 VBA 的人，馬上可以看出 xlwings 原汁原味的實作了 Python 版的 End() 函數\n",
    "from xlwings.constants import Direction\n",
    "\n",
    "# 從 B1 儲存格開始，往下查找到最後一個有值的儲存格\n",
    "last_cell = tsmc_sheet.range(\"A1\").end(Direction.xlDown)\n",
    "# 把從 A1 開始，最右下角的儲存格底色換成紅色\n",
    "last_row = last_cell.row\n",
    "last_row\n",
    "# 這樣我們就不會因爲試算表資料的改變而需要頻繁的修改程式碼"
   ]
  },
  {
   "cell_type": "markdown",
   "metadata": {
    "colab_type": "text",
    "id": "m9h9I1t96XHT"
   },
   "source": [
    "接下來我們用設定 Excel 公式的方法計算第一筆 5 日加權移動平均：\n",
    "\n",
    "```python\n",
    "tsmc_sheet.range(\"C6\").formula = \"=SUM(B2:B6*$K$2:$K$6)/SUM($K$2:$K$6)\"\n",
    "```\n",
    "\n",
    "在使用 Excel 時，記得若要讓下拉的時候，都能讓每一行參照到同樣的範圍(在這個範例是 K2:K6)，一般我們都是透過加上`$`。因為是陣列運算所以要按`ctrl+shift+enter`:\n",
    "\n",
    "```python\n",
    "\"=SUM(B2:B6*$K$2:$K$6)/SUM($K$2:$K$6)\"\n",
    "```\n",
    "或是用\n",
    "```python\n",
    "\"=SUMPRODUCT(B2:B6,weight5d)/SUM(weight5d)\"\n",
    "```\n",
    "\n",
    "但是這種寫法的壞處是，Excel 公式會變得冗長，大幅降低了可讀性與可維護性，這時，我們可以利用 Excel 的**定義名稱** 功能：\n",
    "\n",
    "![](https://drive.google.com/uc?export=download&id=1jIReb9HOZYcJTyMalZoZRYr0qABVRhPE)\n",
    "\n",
    "換句話説，這個功能就是**幫一個儲存格或是範圍取一個綽號**，所以接下來在撰寫公式時，輸入該綽號，就可以參照到固定的儲存格/範圍了：\n",
    "\n",
    "![](https://drive.google.com/uc?export=download&id=1Jp6eSBdaR1ewMoJLMtnRaaYtRxGZN0p4)"
   ]
  },
  {
   "cell_type": "code",
   "execution_count": 0,
   "metadata": {
    "colab": {},
    "colab_type": "code",
    "id": "T8du74JB6XHV"
   },
   "outputs": [],
   "source": []
  },
  {
   "cell_type": "markdown",
   "metadata": {
    "colab_type": "text",
    "id": "5X-tM1IW6XHa"
   },
   "source": [
    "## 動態設定 Excel 儲存格或範圍的名稱\n",
    "\n",
    "```python\n",
    "# 可以用 name 屬性定義一個儲存格的名稱\n",
    "tsmc_sheet.cells(1, \"A\").name = \"hello\"\n",
    "# 同樣的，range 也有 name 屬性\n",
    "tsmc_sheet.range(\"A1:A3\").name = \"world\"\n",
    "```\n",
    "\n",
    "## 設定我們的範例試算表上的名稱\n",
    "\n",
    "```python\n",
    "tsmc_sheet.range(\"K2:K6\").name = \"weight5d\"\n",
    "tsmc_sheet.range(\"K2:K11\").name = \"weight10d\"\n",
    "```"
   ]
  },
  {
   "cell_type": "code",
   "execution_count": 0,
   "metadata": {
    "colab": {},
    "colab_type": "code",
    "id": "PRKhuyXV6XHb"
   },
   "outputs": [],
   "source": []
  },
  {
   "cell_type": "markdown",
   "metadata": {
    "colab_type": "text",
    "id": "G3RecL_f6XHg"
   },
   "source": [
    "## 整理一下我們所學的東西...\n",
    "\n",
    "我們的程式碼就會變得相對簡潔：\n",
    "\n",
    "```python\n",
    "for row in range(6, last_row+1):\n",
    "    formula = f\"=SUM(B{row-4}:B{row}*weight5d)/SUM(weight5d)\"\n",
    "    tsmc_sheet.range(f\"C{row}\").formula_array = formula\n",
    "```"
   ]
  },
  {
   "cell_type": "code",
   "execution_count": 0,
   "metadata": {
    "colab": {},
    "colab_type": "code",
    "id": "ApAslG3k6XHi",
    "scrolled": true
   },
   "outputs": [],
   "source": []
  },
  {
   "cell_type": "markdown",
   "metadata": {
    "colab_type": "text",
    "id": "W0jycU9O6XHn"
   },
   "source": [
    "## 接下來我們算出短期 (5日) 與長期 (10日) 的移動平均"
   ]
  },
  {
   "cell_type": "code",
   "execution_count": 0,
   "metadata": {
    "colab": {},
    "colab_type": "code",
    "id": "vUlzvfut6XHo"
   },
   "outputs": [],
   "source": [
    "# 5日加權移動平均計算\n",
    "for i in range(6, last_row+1):\n",
    "    # 由於我們需要把兩個陣列相乘，因此這是一個 Excel 的陣列運算\n",
    "    formula = f\"=SUM(B{i-4}:B{i}*weight5d)/SUM(weight5d)\"\n",
    "    # 若一個 Excel 的公式使用到陣列運算，需要用 .formula_array 設定\n",
    "    tsmc_sheet.range(f\"C{i}\").formula_array = formula"
   ]
  },
  {
   "cell_type": "code",
   "execution_count": 0,
   "metadata": {
    "colab": {},
    "colab_type": "code",
    "id": "fmOhs3Ec6XHt"
   },
   "outputs": [],
   "source": [
    "# 10日加權移動平均計算\n",
    "for i in range(11, last_row+1):\n",
    "    # 由於我們需要把兩個陣列相乘，因此這是一個 Excel 的陣列運算\n",
    "    formula = f\"=SUM(B{i-9}:B{i}*weight10d)/SUM(weight10d)\"\n",
    "    # 若一個 Excel 的公式使用到陣列運算，需要用 .formula_array 設定\n",
    "    tsmc_sheet.range(f\"D{i}\").formula_array = formula"
   ]
  },
  {
   "cell_type": "markdown",
   "metadata": {
    "colab_type": "text",
    "id": "teVM7T5D6XHx"
   },
   "source": [
    "## 流程控制\n",
    "\n",
    "![flow control](https://drive.google.com/uc?export=download&id=1Zj9Gfgc1QGkdzIM7ED-xKXiCX2BcOz3f)\n",
    "\n",
    "當我們遇上程式需要針對不同選項執行不同結果時，我們需要學會用程式語言表達 Yes 和 No，以及邏輯上的分支點\n",
    "\n",
    "## Boolean (布林值)\n",
    "布林值和整數一樣為資料型別，只有兩個值：\n",
    "\n",
    "```python\n",
    "True # 代表成立\n",
    "False # 代表不成立\n",
    "```\n",
    "\n",
    "---\n",
    "## 比較運算子\n",
    "\n",
    "| 運算子 | 功能     |\n",
    "| :----: | :------: |\n",
    "| ==     | 等於     |\n",
    "| !=     | 不等於   |\n",
    "| <      | 小於     |\n",
    "| >      | 大於     |\n",
    "| <=     | 小於等於 |\n",
    "| >=     | 大於等於 |\n",
    "\n",
    "---\n",
    "## 範例\n",
    "\n",
    "```python\n",
    "'hello' == 'hello'\n",
    "# True\n",
    "47 > 47\n",
    "# False\n",
    "47 >= 47\n",
    "# True\n",
    "```\n",
    "# if 陳述句\n",
    "\n",
    "若 `if` 後面的比較式條件成立，也就是結果為 `True`，則執行子句中的程式碼：\n",
    "\n",
    "```python\n",
    "num = 5\n",
    "\n",
    "if num > 5:\n",
    "    print(\"num is bigger than 5\")\n",
    "```\n",
    "\n",
    "# if...else 陳述句\n",
    "\n",
    "若 `if` 關鍵字後面的比較式結果為 `False`，則忽略 `if` 子句，執行 `else` 的子句：\n",
    "\n",
    "```python\n",
    "num = 5\n",
    "\n",
    "if num > 5:\n",
    "    print(\"num is bigger than 5\")\n",
    "else:\n",
    "    print(\"num is smaller than or equal to 5\")\n",
    "```\n",
    "\n",
    "# elif 陳述句\n",
    "\n",
    "白話文就是指 \"否則如果\"\n",
    "\n",
    "當邏輯判斷的可能性 / 選項超出兩種時，可用 `elif`：\n",
    "\n",
    "```python\n",
    "num = 5\n",
    "\n",
    "if num > 5:\n",
    "    print(\"num is greater than 5\")\n",
    "elif num < 5:\n",
    "    print(\"num is less than 5\")\n",
    "else:\n",
    "    print(\"num is equal to 5\")\n",
    "```"
   ]
  },
  {
   "cell_type": "code",
   "execution_count": 0,
   "metadata": {
    "colab": {},
    "colab_type": "code",
    "id": "QJYLLKT36XHz"
   },
   "outputs": [],
   "source": []
  },
  {
   "cell_type": "markdown",
   "metadata": {
    "colab_type": "text",
    "id": "TJIflyu-6XH5"
   },
   "source": [
    "## 邏輯運算子\n",
    "當你需要把多個比較式的結果串連起來時\n",
    "\n",
    "像是條件一與條件二都必須成立:\n",
    "```python\n",
    "if 條件一 == True 與 條件二 == True:\n",
    "    print(\"條件一與條件二都成立！\")\n",
    "```\n",
    "\n",
    "要如何用 Python 程式碼表達這件事？\n",
    "\n",
    "\n",
    "## 邏輯運算子\n",
    "當你需要把多個比較式連接起來時\n",
    "\n",
    "| 運算子 | 功能          | 實例    | 結果  |\n",
    "| :----: | :-----------: | :-----: | :---: |\n",
    "| and      | 而且        | True and True | True |\n",
    "| or       | 或許        | True or False | True |\n",
    "| not      | 反值        | not True | False |\n",
    "\n",
    "## and truth table(真值表)\n",
    "\n",
    "| A | B | A and B |\n",
    "| :----: | :-----------: | :---: |\n",
    "| True      | True    |  True     |\n",
    "| True      | False   | False     |\n",
    "| False     | True    | False     |\n",
    "| False     | False   | False     |\n",
    "\n",
    "## or truth table(真值表)\n",
    "\n",
    "| A | B | A or B |\n",
    "| :----: | :-----------: | :---: |\n",
    "| True      | True    |  True     |\n",
    "| True      | False   | True     |\n",
    "| False     | True    | True    |\n",
    "| False     | False   | False     |"
   ]
  },
  {
   "cell_type": "code",
   "execution_count": 0,
   "metadata": {
    "colab": {},
    "colab_type": "code",
    "id": "GZDUyY0A6XH7"
   },
   "outputs": [],
   "source": []
  },
  {
   "cell_type": "markdown",
   "metadata": {
    "colab_type": "text",
    "id": "KzDDu2jG6XH_"
   },
   "source": [
    "# 我們的交易策略\n",
    "\n",
    "我們用加權移動平均分別算出一個長期與短期的量化指標，再利用這兩個指標判斷進出場的時機：\n",
    "\n",
    "- 如果 :五日均價 > 十日均價 = **買入一張**\n",
    "- 如果 :五日均價 < 十日均價 = **賣出一張**\n",
    "\n",
    "***備注：非投資建議，本課程提供的資料及交易策略，只可作為參考用途，學員在投資前，務請運用個人獨立思考做出抉擇，如因此招致任何損失，概與本課程無涉。**\n",
    "\n",
    "\n",
    "## 我們先透過此策略，手動計算第一筆資料：\n",
    "\n",
    "| 日期        | 收盤價    | 5日加權 | 10日加權 |買入股數 |賣出股數|持有股數|持有資金|總資產|\n",
    "| ----------- |:--------:|:-------:|:-------:|:------:|:-----:|:------:|:-----:|-----:|\n",
    "| 2017/10/20  | 237.5    | 237.6667| 236.590 |1000    |0      |1000    |762500 |1000000|"
   ]
  },
  {
   "cell_type": "code",
   "execution_count": 2,
   "metadata": {
    "colab": {},
    "colab_type": "code",
    "id": "Y2BjVkaD6XIA"
   },
   "outputs": [],
   "source": [
    "# 計算第一天的交易 2017/10/20\n",
    "tsmc_sheet.range(\"E11\").value = 1000\n",
    "tsmc_sheet.range(\"F11\").value = 0\n",
    "tsmc_sheet.range(\"G11\").value = 1000\n",
    "tsmc_sheet.range(\"H11\").value = tsmc_sheet.range(\"L18\").value - tsmc_sheet.range(\"B11\").value * 1000\n",
    "tsmc_sheet.range(\"I11\").value = tsmc_sheet.range(\"H11\").value +  tsmc_sheet.range(\"B11\").value * tsmc_sheet.range(\"G11\").value"
   ]
  },
  {
   "cell_type": "code",
   "execution_count": 5,
   "metadata": {
    "colab": {},
    "colab_type": "code",
    "id": "R_q8N7By6XIG"
   },
   "outputs": [],
   "source": [
    "# 實作交易策略\n",
    "for i in range(12, last_row+1):\n",
    "    # 截取當天的 5日加權移動平均\n",
    "    short_term_ma = tsmc_sheet.range(f\"C{i}\").value\n",
    "    # 截取當天的 10日加權移動平均\n",
    "    long_term_ma = tsmc_sheet.range(f\"D{i}\").value\n",
    "    # 截取當天收盤價\n",
    "    price_today = tsmc_sheet.range(f\"B{i}\").value\n",
    "\n",
    "    # 若 5日 > 10日，而且我有足夠買入以今日收盤價計價的 1000 股的現金，就買入 1000 股（在 E 欄顯示 1000）\n",
    "    if (short_term_ma > long_term_ma) and (tsmc_sheet.range(f\"H{i-1}\").value > price_today * 1000):\n",
    "        tsmc_sheet.range(f\"E{i}\").value = 1000\n",
    "    else:\n",
    "        # 若上述條件不符和，就買入 0 股，（在 E 欄顯示 0）\n",
    "        tsmc_sheet.range(f\"E{i}\").value = 0\n",
    "    # 若 10日 > 5日，而且昨天的持有股數大於 1000 股，就賣出 1000 股\n",
    "    if (long_term_ma > short_term_ma) and (tsmc_sheet.range(f\"G{i-1}\").value >= 1000):\n",
    "        tsmc_sheet.range(f\"F{i}\").value = 1000\n",
    "    else:\n",
    "        tsmc_sheet.range(f\"F{i}\").value = 0\n",
    "    # 持有股數，算法是前一天的持有股數 + 今天的買入股數 - 今天的賣出股數\n",
    "    tsmc_sheet.range(f\"G{i}\").value = tsmc_sheet.range(f\"G{i-1}\").value + tsmc_sheet.range(f\"E{i}\").value - tsmc_sheet.range(f\"F{i}\").value\n",
    "    # 持有資金，算法是前一天的持有資金 + 今日收盤價 x (今天的賣出股數 - 今天的買入股數)\n",
    "    tsmc_sheet.range(f\"H{i}\").value = tsmc_sheet.range(f\"H{i-1}\").value + price_today * (tsmc_sheet.range(f\"F{i}\").value - tsmc_sheet.range(f\"E{i}\").value)\n",
    "    # 總資產則是持有股數 x 今日收盤價 + 今日持有資金\n",
    "    tsmc_sheet.range(f\"I{i}\").value = tsmc_sheet.range(f\"H{i}\").value + tsmc_sheet.range(f\"G{i}\").value * price_today\n",
    "\n",
    "# 計算并且將總收益顯示在 L20\n",
    "tsmc_sheet.range(\"L20\").value = tsmc_sheet.range(f\"I{last_row}\").value - tsmc_sheet.range(\"L18\").value"
   ]
  },
  {
   "cell_type": "markdown",
   "metadata": {
    "colab_type": "text",
    "id": "oRYpKHW36XIK"
   },
   "source": [
    "# 回家作業\n",
    "\n",
    "請搜尋並開啓 `2330_sma_back_test.xlsx` 範例檔案，並且計算出三日移動平均，接下來請根據以下策略進行回測：\n",
    "\n",
    "- 若當日的收盤價是大於當日的移動平均，就買進股票\n",
    "- 若當日的收盤價是小於當日的移動平均，就賣出股票\n",
    "\n",
    "若卡關的同學，可以參考這篇文章：\n",
    "\n",
    "Medium：[用 Python 與 Excel 打造簡易的回測系統（上）](https://medium.com/pyradise/%E7%94%A8-python-%E8%88%87-excel-%E6%89%93%E9%80%A0%E7%B0%A1%E6%98%93%E7%9A%84%E5%9B%9E%E6%B8%AC%E7%B3%BB%E7%B5%B1-857bfbb88867)"
   ]
  },
  {
   "cell_type": "code",
   "execution_count": 0,
   "metadata": {
    "colab": {},
    "colab_type": "code",
    "id": "TlJ1y3pv6XIL"
   },
   "outputs": [],
   "source": []
  }
 ],
 "metadata": {
  "colab": {
   "name": "Python x Excel 大數據分析實戰 (第二課) Part 2.ipynb",
   "provenance": []
  },
  "kernelspec": {
   "display_name": "Python 3",
   "language": "python",
   "name": "python3"
  },
  "language_info": {
   "codemirror_mode": {
    "name": "ipython",
    "version": 3
   },
   "file_extension": ".py",
   "mimetype": "text/x-python",
   "name": "python",
   "nbconvert_exporter": "python",
   "pygments_lexer": "ipython3",
   "version": "3.7.4"
  }
 },
 "nbformat": 4,
 "nbformat_minor": 1
}
