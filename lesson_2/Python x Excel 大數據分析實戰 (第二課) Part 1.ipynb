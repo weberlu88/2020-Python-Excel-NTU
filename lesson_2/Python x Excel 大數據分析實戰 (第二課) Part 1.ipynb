{
 "cells": [
  {
   "cell_type": "markdown",
   "metadata": {},
   "source": [
    "# 實戰：用 Python 與 Excel 計算量化指標"
   ]
  },
  {
   "cell_type": "markdown",
   "metadata": {},
   "source": [
    "## 先開啓我們的範例 Excel 檔案\n",
    "\n",
    "```python\n",
    "import xlwings as xw\n",
    "# 打開你的 stock_price_data.xlsx 檔案\n",
    "wb = xw.Book(r\"範例檔案 stock_price_data.xlsx 的路徑\")\n",
    "# 截取需要操作的工作表\n",
    "tsmc_sheet = wb.sheets[\"2330\"]\n",
    "\n",
    "\n",
    "# 算出所有的報酬率\n",
    "for i in range(3, 97):\n",
    "    today_price = tsmc_sheet.range(f\"B{i}\").value\n",
    "    yesterday_price = tsmc_sheet.range(f\"B{i-1}\").value\n",
    "    daily_return = (today_price - yesterday_price) / yesterday_price\n",
    "    tsmc_sheet.range(f\"C{i}\").value = daily_return\n",
    "```"
   ]
  },
  {
   "cell_type": "code",
   "execution_count": 5,
   "metadata": {},
   "outputs": [],
   "source": [
    "import xlwings as xw\n",
    "# 打開你的 stock_price_data.xlsx 檔案\n",
    "wb = xw.Book(r\"stock_price_data.xlsx\")\n",
    "# 截取需要操作的工作表\n",
    "tsmc_sheet = wb.sheets[\"2330\"]\n",
    "\n",
    "\n",
    "# 算出所有的報酬率\n",
    "for i in range(3, 94):\n",
    "    today_price = tsmc_sheet.range(f\"B{i}\").value\n",
    "    yesterday_price = tsmc_sheet.range(f\"B{i-1}\").value\n",
    "    daily_return = (today_price - yesterday_price) / yesterday_price\n",
    "    tsmc_sheet.range(f\"C{i}\").value = daily_return"
   ]
  },
  {
   "cell_type": "markdown",
   "metadata": {},
   "source": [
    "# 回顧我們剛才學會的方法...\n",
    "\n",
    "要如何計算 `2017/10/11` 至 `2018/2/26` 的三日簡單移動平均？\n",
    "\n",
    "\n",
    "# 移動平均線\n",
    "\n",
    "- 移動平均線（Moving Average，MA）是技術分析常用的一種時間序列資料，代表一段時間內購入股票之平均成本，用來顯示股價的歷史波動情況，進而反應未來之發展趨勢\n",
    "\n",
    "[移動平均 Wiki](https://zh.wikipedia.org/wiki/%E7%A7%BB%E5%8B%95%E5%B9%B3%E5%9D%87)\n",
    "\n",
    "\n",
    "# 移動平均線\n",
    "\n",
    "以下介紹一些常見的移動平均計算方法：\n",
    "\n",
    "- 簡單移動平均（Simple Moving Average，SMA）\n",
    "- 加權移動平均（Weighted Moving Average，WMA）\n",
    "- 指數平滑移動平均（Exponential Moving Average，EMA）\n",
    "\n",
    "\n",
    "# 簡單移動平均 (SMA)\n",
    "\n",
    "假設某股票三天的股價如下，下列介紹各種三日移動平均：\n",
    "\n",
    "![](https://drive.google.com/uc?export=download&id=1lrsZpgGYb00oqK_4LnczYAtDJGvoC5Ku)\n",
    "\n",
    "簡單移動平均為歷史股價的**算術平均值**：\n",
    "\n",
    "![](https://drive.google.com/uc?export=download&id=1-ArutU7nsbk3vmmGZ7DNkr6A0BXYy81B)\n",
    "\n",
    "- p 代表價格，n 代表天數\n",
    "\n",
    "以上述範例來說，12/11 之三日簡單移動平均為：\n",
    "\n",
    "```python\n",
    "(25 + 29 + 27) / 3 = 27\n",
    "```\n",
    "\n",
    "# 練習：計算簡單移動平均\n",
    "\n",
    "```python\n",
    "for i in range(4, 97):\n",
    "    today = tsmc_sheet.range(f\"B{___}\").value\n",
    "    yesterday = tsmc_sheet.range(f\"B{___}\").value\n",
    "    day_b4_yesterday = ___________________________\n",
    "    daily_return = (today + yesterday + day_b4_yesterday) / 3\n",
    "    tsmc_sheet.range(f\"D{___}\").value = daily_return\n",
    "```"
   ]
  },
  {
   "cell_type": "code",
   "execution_count": 14,
   "metadata": {
    "scrolled": true
   },
   "outputs": [],
   "source": [
    "import statistics as stat\n",
    "\n",
    "for i in range(4, 94):\n",
    "    # calc >> 太複雜 >> 下面教用.formula\n",
    "    today =  tsmc_sheet.range(f\"B{i}\").value\n",
    "    pre = tsmc_sheet.range(f\"B{i-1}\").value\n",
    "    pre2 = tsmc_sheet.range(f\"B{i-2}\").value\n",
    "    moving_list = [today, pre, pre2]\n",
    "    avg = stat.mean(moving_list)\n",
    "    \n",
    "    # write\n",
    "    tsmc_sheet.range(f\"D{i}\").value = avg"
   ]
  },
  {
   "cell_type": "markdown",
   "metadata": {},
   "source": [
    "# .formula 屬性\n",
    "\n",
    "\n",
    "每一個儲存格都有一個 formula 屬性，可以利用 python 動態設定該儲存格的公式\n",
    "\n",
    "\n",
    "**注意公式需要用字串 \"\" 表示，都是從 \"=\" 開始**\n",
    "\n",
    "```python\n",
    "tsmc_sheet.cells(4, \"D\").formula = \"=AVERAGE(B2:B4)\"\n",
    "```\n",
    "\n",
    "當然，我也可以用 range() 來選擇 D4:\n",
    "\n",
    "```python\n",
    "tsmc_sheet.range(\"D4\").formula = \"=AVERAGE(B2:B4)\"\n",
    "```\n",
    "\n"
   ]
  },
  {
   "cell_type": "code",
   "execution_count": 15,
   "metadata": {},
   "outputs": [],
   "source": [
    "tsmc_sheet.cells(4, \"D\").formula = \"=AVERAGE(B2:B4)\""
   ]
  },
  {
   "cell_type": "markdown",
   "metadata": {},
   "source": [
    "# 隨堂練習\n",
    "\n",
    "利用設定 .formula 屬性的方式計算每一天的三日移動平均：\n",
    "\n",
    "```python\n",
    "for i in range(4, 96):    \n",
    "    formula = f\"=AVERAGE(B{___}:B{_})\"\n",
    "    tsmc_sheet.range(f\"{_}\").formula = formula\n",
    "```"
   ]
  },
  {
   "cell_type": "code",
   "execution_count": 16,
   "metadata": {
    "scrolled": true
   },
   "outputs": [],
   "source": [
    "for i in range(4, 94):\n",
    "    formula = f\"=AVERAGE(B{i-2}:B{i})\"\n",
    "    tsmc_sheet.range(f\"D{i}\").formula = formula"
   ]
  },
  {
   "cell_type": "markdown",
   "metadata": {},
   "source": [
    "# .color 屬性\n",
    "\n",
    "每一個儲存格都有一個 color 屬性，可以利用 python **動態設定儲存格的底色**\n",
    "\n",
    "注意 color 的表達方式是將三原色 (RGB 值) 用 tuple (元組) 來表示：\n",
    "\n",
    "```python\n",
    "# 紅色亮度調最大，綠色、藍色調最小\n",
    "(255, 0, 0)\n",
    "```\n",
    "\n",
    "所以若要把 A1 儲存格的底色換成紅色：\n",
    "\n",
    "```python\n",
    "tsmc_sheet.range(\"A1\").color = (255, 0, 0)\n",
    "```"
   ]
  },
  {
   "cell_type": "markdown",
   "metadata": {},
   "source": [
    "# 設定字體顔色（僅限 windows）\n",
    "\n",
    "# .font.ColorIndex 屬性\n",
    "\n",
    "在 VBA 語言透過指定顔色的編號設定儲存格的底色\n",
    "\n",
    "```vb\n",
    "Range(\"A1\").Font.colorIndex = 3\n",
    "```\n",
    "\n",
    "而透過 xlwings ，我們在寫 Python 時可以使用：\n",
    "\n",
    "```python\n",
    "tsmc_sheet.cells(1, \"A\").api.Font.colorIndex = 3\n",
    "```\n",
    "\n",
    "做出一樣的效果\n",
    "\n",
    "## 一些常用的顔色編號：\n",
    "\n",
    "![](https://www.dropbox.com/s/c8prdhqb0epnst4/2.PNG?dl=1)\n",
    "\n",
    "\n",
    "[關於顔色的官方文件](https://docs.microsoft.com/en-us/office/vba/api/excel.colorindex)"
   ]
  },
  {
   "cell_type": "code",
   "execution_count": null,
   "metadata": {},
   "outputs": [],
   "source": []
  },
  {
   "cell_type": "markdown",
   "metadata": {},
   "source": [
    "# 隨堂練習：\n",
    "\n",
    "將之前計算出來的報酬率加上一點視覺效果:\n",
    "\n",
    "若當天**上漲，就將儲存格底色變成紅色**\n",
    "\n",
    "**若當天下跌，就將儲存格底色變成綠色**\n",
    "\n",
    "## 提示影片：\n",
    "\n",
    "[![IMAGE ALT TEXT](http://img.youtube.com/vi/xDztsNqNaq4/0.jpg)](http://www.youtube.com/watch?v=xDztsNqNaq4 \"Video Title\")"
   ]
  },
  {
   "cell_type": "code",
   "execution_count": 2,
   "metadata": {},
   "outputs": [],
   "source": [
    "# 隨堂練習\n",
    "\n",
    "import xlwings as xw\n",
    "# 打開你的 stock_price_data.xlsx 檔案\n",
    "wb = xw.Book(r\"stock_price_data.xlsx\")\n",
    "# 截取需要操作的工作表\n",
    "tsmc_sheet = wb.sheets[\"2330\"]\n",
    "\n",
    "\n",
    "# 算出所有的報酬率\n",
    "for i in range(3, 94):\n",
    "    # 計算&填入單值\n",
    "    today_price = tsmc_sheet.range(f\"B{i}\").value\n",
    "    yesterday_price = tsmc_sheet.range(f\"B{i-1}\").value\n",
    "    daily_return = (today_price - yesterday_price)*100 / yesterday_price\n",
    "    cell = tsmc_sheet.range(f\"C{i}\")\n",
    "    cell.value = daily_return\n",
    "    \n",
    "    # 視覺化\n",
    "    if daily_return > 0:\n",
    "        cell.color = (255, 0, 0) # red\n",
    "    elif daily_return < 0:\n",
    "        cell.color = (0, 255, 0) # green"
   ]
  },
  {
   "cell_type": "markdown",
   "metadata": {},
   "source": [
    "# 動態偵測範圍 / 資料筆數\n",
    "\n",
    "在上一節課，我們利用 for loop 計算了所有的報酬率"
   ]
  },
  {
   "cell_type": "code",
   "execution_count": 3,
   "metadata": {},
   "outputs": [],
   "source": [
    "# 算出所有的報酬率\n",
    "for i in range(3, 94):\n",
    "    today_price = tsmc_sheet.range(f\"B{i}\").value\n",
    "    yesterday_price = tsmc_sheet.range(f\"B{i-1}\").value\n",
    "    daily_return = (today_price - yesterday_price) / yesterday_price\n",
    "    tsmc_sheet.range(f\"C{i}\").value = daily_return"
   ]
  },
  {
   "cell_type": "markdown",
   "metadata": {},
   "source": [
    "問題來了，要是試算表上**多了或少了一筆資料，原本的程式就爆炸了...**\n",
    "\n",
    "**若你寫出了一個需要頻繁修改的程式，那就失去了自動化的意義**\n",
    "\n",
    "我們需要一個能夠動態偵測我們有幾筆資料需要計算的方法\n",
    "\n",
    "在 VBA 的世界裡，有個好用的函數叫做 **End()**，可以動態偵測一從一個儲存格開始，**連續、有值範圍的最後一個儲存格**：\n",
    "\n",
    "\n",
    "|  **常數**       | **方向**          |\n",
    "| ------------- |:-----------:| \n",
    "| **End(xlDown)**    | ↓      | \n",
    "| **End(xlUp)**     | ↑      | \n",
    "| **End(xlRight)** | →      |\n",
    "| **End(xlRight)** | ←      |\n",
    "\n",
    "\n",
    "\n",
    "\n",
    "範例1：會從 A1 儲存格開始，**往下**查找到最後一個有值的儲存格\n",
    "```vb\n",
    "last_row = Range(\"A1\").End(xlDown).Row\n",
    "```\n",
    "\n",
    "範例2：會從 A1 儲存格開始，**往右**查找到最後一個有值的儲存格\n",
    "```vb\n",
    "last_col = Range(\"A1\").End(xlToRight).Column\n",
    "```\n",
    "\n",
    "幸運的是，`xlwings` 也具備了一模一樣的功能："
   ]
  },
  {
   "cell_type": "code",
   "execution_count": 21,
   "metadata": {},
   "outputs": [
    {
     "data": {
      "text/plain": [
       "93"
      ]
     },
     "execution_count": 21,
     "metadata": {},
     "output_type": "execute_result"
    }
   ],
   "source": [
    "from xlwings.constants import Direction\n",
    "\n",
    "tsmc_sheet.range(\"A1\").end(Direction.xlDown).row # A1開始動態偵測一從一個儲存格開始，連續、有值範圍的最後一個儲存格 # VBA的寫法"
   ]
  },
  {
   "cell_type": "code",
   "execution_count": 22,
   "metadata": {},
   "outputs": [
    {
     "data": {
      "text/plain": [
       "<Range [stock_price_data.xlsx]2330!$E$1>"
      ]
     },
     "execution_count": 22,
     "metadata": {},
     "output_type": "execute_result"
    }
   ],
   "source": [
    "tsmc_sheet.range(\"A1\").end(Direction.xlToRight)"
   ]
  },
  {
   "cell_type": "code",
   "execution_count": 4,
   "metadata": {},
   "outputs": [
    {
     "data": {
      "text/plain": [
       "<Range [stock_price_data.xlsx]2330!$A$93>"
      ]
     },
     "execution_count": 4,
     "metadata": {},
     "output_type": "execute_result"
    }
   ],
   "source": [
    "# 不用 import\n",
    "tsmc_sheet.range(\"A1\").end(\"down\")"
   ]
  },
  {
   "cell_type": "code",
   "execution_count": 5,
   "metadata": {},
   "outputs": [],
   "source": [
    "from xlwings.constants import Direction\n",
    "\n",
    "last_cell = tsmc_sheet.cells(1, \"A\").end(Direction.xlDown)\n",
    "last_cell.color = (255, 0, 0)"
   ]
  },
  {
   "cell_type": "code",
   "execution_count": null,
   "metadata": {},
   "outputs": [],
   "source": [
    "# 會 VBA 的人，馬上可以看出 xlwings 原汁原味的實作了 Python 版的 End() 函數\n",
    "from xlwings.constants import Direction\n",
    "\n",
    "# 從 A1 儲存格開始，往下查找到最後一個有值的儲存格\n",
    "last_cell = tsmc_sheet.range(\"A1\").end(Direction.xlToRight)\n",
    "# 把從 A1 開始，最右下角的儲存格底色換成紅色\n",
    "last_cell.color = (255, 0, 0)"
   ]
  },
  {
   "cell_type": "code",
   "execution_count": null,
   "metadata": {},
   "outputs": [],
   "source": [
    "from xlwings.constants import Direction\n",
    "# 查找從 A1 開始、連續的、有值的範圍最右下角的儲存格，將其底色標為紅色\n",
    "tsmc_sheet.range(\"A1\").end(Direction.xlDown).end(Direction.xlToRight).color = (255, 0, 0)\n",
    "# 將該儲存格存入 last_cell 變數\n",
    "last_cell = tsmc_sheet.range(\"A1\").end(Direction.xlDown).end(Direction.xlToRight)\n",
    "# 使用 .row 屬性取得 row 值，也就是我們的資料有幾行\n",
    "last_cell.row"
   ]
  },
  {
   "cell_type": "code",
   "execution_count": 6,
   "metadata": {},
   "outputs": [
    {
     "name": "stdout",
     "output_type": "stream",
     "text": [
      "<Range [stock_price_data.xlsx]2330!$B$93>\n",
      "<Range [stock_price_data.xlsx]2330!$B$1>\n",
      "<Range [stock_price_data.xlsx]2330!$A$4>\n",
      "<Range [stock_price_data.xlsx]2330!$E$1>\n"
     ]
    }
   ],
   "source": [
    "# 另一種比較簡潔的寫法則是...\n",
    "last_cell = tsmc_sheet.range(\"B4\").end(\"down\")\n",
    "print(last_cell)\n",
    "# 會找到 B96\n",
    "last_cell = tsmc_sheet.range(\"B4\").end(\"up\")\n",
    "print(last_cell)\n",
    "# 會找到 B1\n",
    "last_cell = tsmc_sheet.range(\"B4\").end(\"left\")\n",
    "print(last_cell)\n",
    "# 會找到 A4\n",
    "last_cell = tsmc_sheet.range(\"A1\").end(\"right\")\n",
    "print(last_cell)\n",
    "# 會找到 E1"
   ]
  },
  {
   "cell_type": "code",
   "execution_count": null,
   "metadata": {},
   "outputs": [],
   "source": [
    "last_row = tsmc_sheet.range(\"A1\").end(\"down\").row\n",
    "last_row"
   ]
  },
  {
   "cell_type": "code",
   "execution_count": null,
   "metadata": {},
   "outputs": [],
   "source": [
    "# 偵測 2330 最後一行的行數\n",
    "last_row = tsmc_sheet.range(\"A1\").end(\"down\").row\n",
    "# 將行數 + 1，在 2330 工作表新增一筆資料\n",
    "tsmc_sheet.range(f\"A{last_row+1}\").value = 101"
   ]
  },
  {
   "cell_type": "markdown",
   "metadata": {},
   "source": [
    "# 回家作業\n",
    "\n",
    "利用動態偵測最後一個 row 的方式計算臺積電所有的報酬率以及三日 SMA、並將結果寫入 Excel\n",
    "\n",
    "```python\n",
    "import xlwings as xw\n",
    "# 打開你的 stock_price_data.xlsx 檔案\n",
    "wb = xw.Book(r\"範例檔案 stock_price_data.xlsx 的路徑\")\n",
    "\n",
    "tsmc_sheet = wb.sheets[\"2330\"]\n",
    "\n",
    "last_row = tsmc_sheet.range(\"B1\").end(____________).row\n",
    "\n",
    "for i in range(3, _________):\n",
    "    daily_return = _________________________________\n",
    "    ______________________ = daily_return\n",
    "```"
   ]
  },
  {
   "cell_type": "code",
   "execution_count": null,
   "metadata": {},
   "outputs": [],
   "source": []
  }
 ],
 "metadata": {
  "kernelspec": {
   "display_name": "Python 3",
   "language": "python",
   "name": "python3"
  },
  "language_info": {
   "codemirror_mode": {
    "name": "ipython",
    "version": 3
   },
   "file_extension": ".py",
   "mimetype": "text/x-python",
   "name": "python",
   "nbconvert_exporter": "python",
   "pygments_lexer": "ipython3",
   "version": "3.7.4"
  }
 },
 "nbformat": 4,
 "nbformat_minor": 2
}
