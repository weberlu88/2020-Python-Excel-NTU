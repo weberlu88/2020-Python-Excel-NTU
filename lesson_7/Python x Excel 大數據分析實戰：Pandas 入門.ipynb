{
 "cells": [
  {
   "cell_type": "markdown",
   "metadata": {},
   "source": [
    "# 資料科學套件\n",
    "\n",
    "\n",
    "# Pandas 簡介\n",
    "\n",
    "提供靈活直觀的資料結構來處理關聯數據和有標籤的數據\n",
    "\n",
    "---\n",
    "# Pandas 提供的資料結構\n",
    "\n",
    "| 名稱 | 描述 |\n",
    "|:--:|:------:|\n",
    "| Series | 可以建立索引的一維陣列       |\n",
    "| DataFrame | 有列索引與欄標籤的二維資料集 |\n",
    "| Panel | 有資料集索引、列索引與欄標籤的三維資料集 |\n",
    "\n",
    "---\n",
    "# 使用 Pandas\n",
    "\n",
    "首先我們用 `import` 引入 pandas，一般慣例上會將它重新命名成 pd: \n",
    "\n",
    "```python\n",
    "import pandas as pd\n",
    "```\n"
   ]
  },
  {
   "cell_type": "code",
   "execution_count": 1,
   "metadata": {},
   "outputs": [],
   "source": [
    "import pandas as pd"
   ]
  },
  {
   "cell_type": "markdown",
   "metadata": {},
   "source": [
    "# Series（序列）\n",
    "\n",
    "簡單來說，是一個封裝多筆、一維資料的容器\n",
    "\n",
    "建立一個 series：\n",
    "\n",
    "```python\n",
    "ser = pd.Series([1,2,3,4,5])\n",
    "ser\n",
    "```"
   ]
  },
  {
   "cell_type": "code",
   "execution_count": 2,
   "metadata": {},
   "outputs": [
    {
     "data": {
      "text/plain": [
       "0    1\n",
       "1    2\n",
       "2    3\n",
       "3    4\n",
       "4    5\n",
       "dtype: int64"
      ]
     },
     "execution_count": 2,
     "metadata": {},
     "output_type": "execute_result"
    }
   ],
   "source": [
    "ser = pd.Series([1,2,3,4,5])\n",
    "ser"
   ]
  },
  {
   "cell_type": "markdown",
   "metadata": {},
   "source": [
    "跑出結果了！發現有兩列數字（columns）\n",
    "\n",
    "- 第一條columns顯示0～4，為index\n",
    "- 第二條就是每個index所對應到的值\n",
    "\n",
    "到此，Series 看起來和 List 很像，只不過是以縱向的形式呈現，但是我們再來看看不一樣的地方"
   ]
  },
  {
   "cell_type": "markdown",
   "metadata": {},
   "source": [
    "# 建立一個 Series\n",
    "\n",
    "將一個裝滿字串的 List 指定給 index 參數：\n",
    "\n",
    "```python\n",
    "ser1 = pd.Series([1,2,3,4,5], index=['a', 'b', 'c', 'd', 'e'])\n",
    "ser1\n",
    "```"
   ]
  },
  {
   "cell_type": "code",
   "execution_count": 3,
   "metadata": {},
   "outputs": [
    {
     "data": {
      "text/plain": [
       "a    1\n",
       "b    2\n",
       "c    3\n",
       "d    4\n",
       "e    5\n",
       "dtype: int64"
      ]
     },
     "execution_count": 3,
     "metadata": {},
     "output_type": "execute_result"
    }
   ],
   "source": [
    "ser1 = pd.Series([1,2,3,4,5], index=['a', 'b', 'c', 'd', 'e'])\n",
    "ser1"
   ]
  },
  {
   "cell_type": "markdown",
   "metadata": {},
   "source": [
    "接下來我們就發現，Series 的每一筆資料的索引(index)都可以被指定一個獨特的標籤"
   ]
  },
  {
   "cell_type": "markdown",
   "metadata": {},
   "source": [
    "# Series\n",
    "\n",
    "\n",
    "其實一個 Series 是由 **標籤 (Index)** 與 **值(Values)** 組成，所以剛才的 series 若從 Excel 的角度來看，可以理解成：\n",
    "\n",
    "![](https://drive.google.com/uc?export=download&id=1G9waSQfNJ3UMrwzYBIUcfbjc6gA_b_fi)\n"
   ]
  },
  {
   "cell_type": "markdown",
   "metadata": {},
   "source": [
    "# 建立 Series\n",
    "Series 的值都是被存在一個**numpy array**中\n",
    "\n",
    "```python\n",
    "ser1.values\n",
    "# array([1, 2, 3, 4, 5], dtype=int64)\n",
    "```"
   ]
  },
  {
   "cell_type": "code",
   "execution_count": 4,
   "metadata": {},
   "outputs": [
    {
     "data": {
      "text/plain": [
       "array([1, 2, 3, 4, 5], dtype=int64)"
      ]
     },
     "execution_count": 4,
     "metadata": {},
     "output_type": "execute_result"
    }
   ],
   "source": [
    "ser1.values"
   ]
  },
  {
   "cell_type": "markdown",
   "metadata": {},
   "source": [
    "# Series\n",
    "Series 的標籤都是被存在一個**numpy Index**物件中\n",
    "\n",
    "```python\n",
    "ser1.index\n",
    "# Index(['a', 'b', 'c', 'd', 'e'], dtype='object')\n",
    "```"
   ]
  },
  {
   "cell_type": "code",
   "execution_count": 5,
   "metadata": {},
   "outputs": [
    {
     "data": {
      "text/plain": [
       "Index(['a', 'b', 'c', 'd', 'e'], dtype='object')"
      ]
     },
     "execution_count": 5,
     "metadata": {},
     "output_type": "execute_result"
    }
   ],
   "source": [
    "ser1.index"
   ]
  },
  {
   "cell_type": "markdown",
   "metadata": {},
   "source": [
    "# 讀取序列内的資料\n",
    "\n",
    "可以使用 iloc 方法：\n",
    "\n",
    "```python\n",
    "ser1.iloc[0]\n",
    "```\n"
   ]
  },
  {
   "cell_type": "code",
   "execution_count": 6,
   "metadata": {},
   "outputs": [
    {
     "data": {
      "text/plain": [
       "1"
      ]
     },
     "execution_count": 6,
     "metadata": {},
     "output_type": "execute_result"
    }
   ],
   "source": [
    "ser1.iloc[0]"
   ]
  },
  {
   "cell_type": "markdown",
   "metadata": {},
   "source": [
    "# 切片序列内的資料\n",
    "\n",
    "如同 List，Series 也支援的切片的功能：\n",
    "\n",
    "```python\n",
    "ser.iloc[索引值起點：索引值結束點]\n",
    "```\n",
    "\n",
    "與串列的切片方式一樣\n",
    "\n",
    "\n",
    "\n",
    "請輸入：\n",
    "\n",
    "```python\n",
    "ser1.iloc[0:3]\n",
    "```"
   ]
  },
  {
   "cell_type": "code",
   "execution_count": 7,
   "metadata": {},
   "outputs": [
    {
     "data": {
      "text/plain": [
       "a    1\n",
       "b    2\n",
       "c    3\n",
       "dtype: int64"
      ]
     },
     "execution_count": 7,
     "metadata": {},
     "output_type": "execute_result"
    }
   ],
   "source": [
    "ser1.iloc[0:3]"
   ]
  },
  {
   "cell_type": "markdown",
   "metadata": {},
   "source": [
    "# 另一種讀取序列資料的方式\n",
    "\n",
    "loc 方法：\n",
    "\n",
    "```python\n",
    "ser1.loc[\"a\"]\n",
    "```"
   ]
  },
  {
   "cell_type": "code",
   "execution_count": 8,
   "metadata": {},
   "outputs": [
    {
     "data": {
      "text/plain": [
       "1"
      ]
     },
     "execution_count": 8,
     "metadata": {},
     "output_type": "execute_result"
    }
   ],
   "source": [
    "ser1.loc[\"a\"]"
   ]
  },
  {
   "cell_type": "markdown",
   "metadata": {},
   "source": [
    "# 另一種切片序列資料的方式\n",
    "\n",
    "loc 方法：\n",
    "\n",
    "```python\n",
    "ser1.loc[\"a\":\"c\"]\n",
    "```"
   ]
  },
  {
   "cell_type": "code",
   "execution_count": 9,
   "metadata": {},
   "outputs": [
    {
     "data": {
      "text/plain": [
       "a    1\n",
       "b    2\n",
       "c    3\n",
       "dtype: int64"
      ]
     },
     "execution_count": 9,
     "metadata": {},
     "output_type": "execute_result"
    }
   ],
   "source": [
    "ser1.loc[\"a\":\"c\"]"
   ]
  },
  {
   "cell_type": "markdown",
   "metadata": {},
   "source": [
    "# .loc vs .iloc\n",
    "\n",
    "- .loc 是透過標籤查找\n",
    "\n",
    "- .iloc 是透過索引值查找"
   ]
  },
  {
   "cell_type": "markdown",
   "metadata": {},
   "source": [
    "# 提取 Series 内的資料\n",
    "\n",
    "提取多筆**不連續**的資料，可以透過指定多個標籤，並將標籤放入 List 内：\n",
    "```python\n",
    "ser1.loc[['a', 'c', 'e']]\n",
    "```"
   ]
  },
  {
   "cell_type": "code",
   "execution_count": 10,
   "metadata": {},
   "outputs": [
    {
     "data": {
      "text/plain": [
       "a    1\n",
       "c    3\n",
       "e    5\n",
       "dtype: int64"
      ]
     },
     "execution_count": 10,
     "metadata": {},
     "output_type": "execute_result"
    }
   ],
   "source": [
    "ser1.loc[['a', 'c', 'e']]"
   ]
  },
  {
   "cell_type": "markdown",
   "metadata": {},
   "source": [
    "# 提取 Series 内的資料\n",
    "\n",
    "提取多筆不連續的資料也可以透過指定多筆數字的**索引值((\n",
    "\n",
    "```python\n",
    "ser1.iloc[[0, 2, 4]]\n",
    "```"
   ]
  },
  {
   "cell_type": "code",
   "execution_count": 11,
   "metadata": {},
   "outputs": [
    {
     "data": {
      "text/plain": [
       "a    1\n",
       "c    3\n",
       "e    5\n",
       "dtype: int64"
      ]
     },
     "execution_count": 11,
     "metadata": {},
     "output_type": "execute_result"
    }
   ],
   "source": [
    "ser1.iloc[[0, 2, 4]]"
   ]
  },
  {
   "cell_type": "markdown",
   "metadata": {},
   "source": [
    "# Series 一些常用的功能\n",
    "\n",
    "加總：\n",
    "\n",
    "```python\n",
    "ser1.sum()\n",
    "```\n",
    "最大：\n",
    "```python\n",
    "ser1.max()\n",
    "```\n",
    "最小：\n",
    "```python\n",
    "ser1.min()\n",
    "```\n",
    "平均：\n",
    "```python\n",
    "ser1.mean()\n",
    "```\n",
    "標準差：\n",
    "\n",
    "```python\n",
    "ser1.std()\n",
    "```"
   ]
  },
  {
   "cell_type": "code",
   "execution_count": 12,
   "metadata": {},
   "outputs": [
    {
     "data": {
      "text/plain": [
       "(15, 5, 1, 3.0, 1.5811388300841898)"
      ]
     },
     "execution_count": 12,
     "metadata": {},
     "output_type": "execute_result"
    }
   ],
   "source": [
    "ser1.sum(), ser1.max(), ser1.min(), ser1.mean(), ser1.std()"
   ]
  },
  {
   "cell_type": "markdown",
   "metadata": {},
   "source": [
    "# cumsum() 纍加\n",
    "\n",
    "名稱是英文 cumulative summation 的縮寫，代表將資料由上而下的纍加：\n",
    "\n",
    "```python\n",
    "ser1.cumsum()\n",
    "```\n",
    "\n",
    "官方文件：[連結](https://pandas.pydata.org/pandas-docs/stable/reference/api/pandas.DataFrame.cumsum.html)"
   ]
  },
  {
   "cell_type": "code",
   "execution_count": 13,
   "metadata": {},
   "outputs": [
    {
     "data": {
      "text/plain": [
       "a     1\n",
       "b     3\n",
       "c     6\n",
       "d    10\n",
       "e    15\n",
       "dtype: int64"
      ]
     },
     "execution_count": 13,
     "metadata": {},
     "output_type": "execute_result"
    }
   ],
   "source": [
    "ser1.cumsum()"
   ]
  },
  {
   "cell_type": "markdown",
   "metadata": {},
   "source": [
    "# cumprod() 纍乘\n",
    "\n",
    "名稱是英文 cumulative product 的縮寫，代表將資料由上而下的纍乘：\n",
    "\n",
    "```python\n",
    "ser1.cumprod()\n",
    "```"
   ]
  },
  {
   "cell_type": "code",
   "execution_count": 14,
   "metadata": {},
   "outputs": [
    {
     "data": {
      "text/plain": [
       "a      1\n",
       "b      2\n",
       "c      6\n",
       "d     24\n",
       "e    120\n",
       "dtype: int64"
      ]
     },
     "execution_count": 14,
     "metadata": {},
     "output_type": "execute_result"
    }
   ],
   "source": [
    "ser1.cumprod()"
   ]
  },
  {
   "cell_type": "markdown",
   "metadata": {},
   "source": [
    "# Series 更新現有的值\n",
    "```python\n",
    "ser1.loc['a'] = 8\n",
    "ser1\n",
    "```"
   ]
  },
  {
   "cell_type": "code",
   "execution_count": 15,
   "metadata": {},
   "outputs": [
    {
     "data": {
      "text/plain": [
       "a    8\n",
       "b    2\n",
       "c    3\n",
       "d    4\n",
       "e    5\n",
       "dtype: int64"
      ]
     },
     "execution_count": 15,
     "metadata": {},
     "output_type": "execute_result"
    }
   ],
   "source": [
    "ser1.loc['a'] = 8\n",
    "ser1"
   ]
  },
  {
   "cell_type": "markdown",
   "metadata": {},
   "source": [
    "# Series 更新多筆值\n",
    "```python\n",
    "ser1.loc[\"b\":\"d\"] = [9, 10, 11]\n",
    "ser1\n",
    "```\n",
    "\n",
    "需要注意的是，和用索引值切片不一樣的是，用 key 切片**會包含結束點自己 (也就是 key 所對應的值)**"
   ]
  },
  {
   "cell_type": "code",
   "execution_count": 16,
   "metadata": {},
   "outputs": [
    {
     "data": {
      "text/plain": [
       "a     8\n",
       "b     9\n",
       "c    10\n",
       "d    11\n",
       "e     5\n",
       "dtype: int64"
      ]
     },
     "execution_count": 16,
     "metadata": {},
     "output_type": "execute_result"
    }
   ],
   "source": [
    "ser1.loc[\"b\":\"d\"] = [9, 10, 11]\n",
    "ser1"
   ]
  },
  {
   "cell_type": "markdown",
   "metadata": {},
   "source": [
    "# 刪除 Series 内的資料\n",
    "\n",
    "刪除的結果會return會來，原本的series沒變喔\n",
    "```python\n",
    "x = ser1.drop(labels='a')\n",
    "```"
   ]
  },
  {
   "cell_type": "code",
   "execution_count": 17,
   "metadata": {},
   "outputs": [],
   "source": [
    "ser2 = ser1.drop(labels='a')"
   ]
  },
  {
   "cell_type": "code",
   "execution_count": 18,
   "metadata": {},
   "outputs": [
    {
     "data": {
      "text/plain": [
       "b     9\n",
       "c    10\n",
       "d    11\n",
       "e     5\n",
       "dtype: int64"
      ]
     },
     "execution_count": 18,
     "metadata": {},
     "output_type": "execute_result"
    }
   ],
   "source": [
    "ser2"
   ]
  },
  {
   "cell_type": "markdown",
   "metadata": {},
   "source": [
    "# 刪除多筆 Series 内的資料\n",
    "\n",
    "```python\n",
    "x = ser1.drop(labels=['b', 'c', 'd'])\n",
    "```\n"
   ]
  },
  {
   "cell_type": "code",
   "execution_count": 19,
   "metadata": {},
   "outputs": [
    {
     "data": {
      "text/plain": [
       "a    8\n",
       "e    5\n",
       "dtype: int64"
      ]
     },
     "execution_count": 19,
     "metadata": {},
     "output_type": "execute_result"
    }
   ],
   "source": [
    "ser1.drop(labels=['b', 'c', 'd'])"
   ]
  },
  {
   "cell_type": "markdown",
   "metadata": {},
   "source": [
    "# 透過 dict 宣告 Series\n",
    "\n",
    "原本:\n",
    "```python\n",
    "ser1 = pd.Series([1,2,3,4,5], index=['a', 'b', 'c', 'd', 'e'])\n",
    "```\n",
    "透過dict:\n",
    "```python\n",
    "# series 每一個 index 都會對映到一個 value \n",
    "data = {\n",
    "    'a': 1,\n",
    "    'b': 3,\n",
    "    'c': 5,\n",
    "    'd': 7,\n",
    "    'e': 9\n",
    "}\n",
    "\n",
    "pd.Series(data)\n",
    "```"
   ]
  },
  {
   "cell_type": "code",
   "execution_count": 20,
   "metadata": {},
   "outputs": [
    {
     "data": {
      "text/plain": [
       "a    1\n",
       "b    3\n",
       "c    5\n",
       "d    7\n",
       "e    9\n",
       "dtype: int64"
      ]
     },
     "execution_count": 20,
     "metadata": {},
     "output_type": "execute_result"
    }
   ],
   "source": [
    "data = {\n",
    "    'a': 1,\n",
    "    'b': 3,\n",
    "    'c': 5,\n",
    "    'd': 7,\n",
    "    'e': 9\n",
    "}\n",
    "\n",
    "pd.Series(data)"
   ]
  },
  {
   "cell_type": "markdown",
   "metadata": {},
   "source": [
    "# 小結\n",
    "\n",
    "- Series 適合處理一維的資料\n",
    "- Series 的 index 可以被指定**獨特的標籤（這點與 Dictionary 十分類似）**\n",
    "- Series 可以被看作是一個**有序的字典 (dict)**\n"
   ]
  },
  {
   "cell_type": "code",
   "execution_count": null,
   "metadata": {},
   "outputs": [],
   "source": []
  },
  {
   "cell_type": "markdown",
   "metadata": {},
   "source": [
    "# 與 Numpy 的整合\n",
    "\n",
    "```python\n",
    "import numpy as np\n",
    "\n",
    "pd.Series(np.arange(5))\n",
    "```"
   ]
  },
  {
   "cell_type": "code",
   "execution_count": 57,
   "metadata": {},
   "outputs": [],
   "source": [
    "import numpy as np"
   ]
  },
  {
   "cell_type": "markdown",
   "metadata": {},
   "source": [
    "# 與 Numpy 的整合\n",
    "\n",
    "```python\n",
    "even_num = np.arange(2, 11, 2)\n",
    "\n",
    "pd.Series(even_num)\n",
    "```"
   ]
  },
  {
   "cell_type": "code",
   "execution_count": 58,
   "metadata": {},
   "outputs": [
    {
     "data": {
      "text/plain": [
       "0     2\n",
       "1     4\n",
       "2     6\n",
       "3     8\n",
       "4    10\n",
       "dtype: int32"
      ]
     },
     "execution_count": 58,
     "metadata": {},
     "output_type": "execute_result"
    }
   ],
   "source": [
    "even_num = np.arange(2, 11, 2)\n",
    "\n",
    "pd.Series(even_num)"
   ]
  },
  {
   "cell_type": "markdown",
   "metadata": {},
   "source": [
    "# 產生亂數 Series\n",
    "\n",
    "```python\n",
    "import numpy as np\n",
    "rand_array = np.random.rand(10)\n",
    "pd.Series(rand_array)\n",
    "```\n",
    "或是\n",
    "```python\n",
    "pd.Series(np.random.rand(5))\n",
    "```"
   ]
  },
  {
   "cell_type": "code",
   "execution_count": null,
   "metadata": {
    "scrolled": true
   },
   "outputs": [],
   "source": []
  },
  {
   "cell_type": "markdown",
   "metadata": {},
   "source": [
    "# head(), tail(), take()\n",
    "\n",
    "```python\n",
    "# 用 head 查詢前五筆資料\n",
    "ser2.head()\n",
    "\n",
    "# 用 tail 查詢後三筆資料\n",
    "ser2.tail(3)\n",
    "\n",
    "# 用 take 指定查詢索引值為 2, 4, 0 的資料\n",
    "ser2.take([1, 6, 5])\n",
    "```\n"
   ]
  },
  {
   "cell_type": "code",
   "execution_count": null,
   "metadata": {},
   "outputs": [],
   "source": []
  },
  {
   "cell_type": "markdown",
   "metadata": {},
   "source": [
    "# Series.isin\n",
    "\n",
    "檢查輸入的資料是否在 series 裡面\n",
    "```python\n",
    "ser2.isin([3, 5])\n",
    "```"
   ]
  },
  {
   "cell_type": "code",
   "execution_count": null,
   "metadata": {},
   "outputs": [],
   "source": []
  },
  {
   "cell_type": "markdown",
   "metadata": {},
   "source": [
    "Python's list comprehesion:\n",
    "```python\n",
    "list = [1,2,3,4,5]\n",
    "[i + 1 for i in list]\n",
    "```"
   ]
  },
  {
   "cell_type": "code",
   "execution_count": 22,
   "metadata": {},
   "outputs": [
    {
     "data": {
      "text/plain": [
       "[2, 3, 4, 5, 6]"
      ]
     },
     "execution_count": 22,
     "metadata": {},
     "output_type": "execute_result"
    }
   ],
   "source": [
    "list = [1,2,3,4,5]\n",
    "[i + 1 for i in list]"
   ]
  },
  {
   "cell_type": "markdown",
   "metadata": {},
   "source": [
    "# Series 的逐元運算\n",
    "\n",
    "語法上與 Numpy 的逐元素運算一樣\n",
    "\n",
    "```python\n",
    "ser2 * 2\n",
    "```"
   ]
  },
  {
   "cell_type": "code",
   "execution_count": 23,
   "metadata": {},
   "outputs": [
    {
     "name": "stdout",
     "output_type": "stream",
     "text": [
      "b     9\n",
      "c    10\n",
      "d    11\n",
      "e     5\n",
      "dtype: int64\n"
     ]
    },
    {
     "data": {
      "text/plain": [
       "b    18\n",
       "c    20\n",
       "d    22\n",
       "e    10\n",
       "dtype: int64"
      ]
     },
     "execution_count": 23,
     "metadata": {},
     "output_type": "execute_result"
    }
   ],
   "source": [
    "print(ser2)\n",
    "ser2 * 2"
   ]
  },
  {
   "cell_type": "markdown",
   "metadata": {},
   "source": [
    "# Series 的逐元運算\n",
    "\n",
    "讓每一筆資料都去和 3 做比較\n",
    "\n",
    "```python\n",
    "ser2 > 3\n",
    "```\n",
    "\n",
    "注意比較式的逐元素運算會產生一個 Boolean 的 Series"
   ]
  },
  {
   "cell_type": "code",
   "execution_count": 24,
   "metadata": {},
   "outputs": [
    {
     "name": "stdout",
     "output_type": "stream",
     "text": [
      "a     8\n",
      "b     9\n",
      "c    10\n",
      "d    11\n",
      "e     5\n",
      "dtype: int64\n"
     ]
    },
    {
     "data": {
      "text/plain": [
       "a    False\n",
       "b    False\n",
       "c     True\n",
       "d     True\n",
       "e    False\n",
       "dtype: bool"
      ]
     },
     "execution_count": 24,
     "metadata": {},
     "output_type": "execute_result"
    }
   ],
   "source": [
    "print(ser1)\n",
    "ser1 > 9"
   ]
  },
  {
   "cell_type": "code",
   "execution_count": 25,
   "metadata": {},
   "outputs": [
    {
     "data": {
      "text/plain": [
       "c    10\n",
       "d    11\n",
       "dtype: int64"
      ]
     },
     "execution_count": 25,
     "metadata": {},
     "output_type": "execute_result"
    }
   ],
   "source": [
    "ser1[ ser1> 9 ] # 把ser1中>9的數值拿出來，放回ser1"
   ]
  },
  {
   "cell_type": "markdown",
   "metadata": {},
   "source": [
    "# Series 的逐元運算\n",
    "\n",
    "若希望 Series 能夠有類似 filter() 函數的過濾功能，需要將剛才產生的 Boolean Series 套回到原本的 Series\n",
    "\n",
    "```python\n",
    "ser2[ser2 > 3]\n",
    "```\n",
    "\n",
    "可以想象成把**比較結果為 True 的資料切片出來**的概念"
   ]
  },
  {
   "cell_type": "code",
   "execution_count": null,
   "metadata": {},
   "outputs": [],
   "source": []
  },
  {
   "cell_type": "markdown",
   "metadata": {},
   "source": [
    "# 隨堂練習：\n",
    "\n",
    "以下是每一位復仇者聯盟成員的名稱與年齡：\n",
    "\n",
    "```python\n",
    "avengers = {\n",
    "    \"ironman\": 46,\n",
    "    \"captainamerica\": 99,\n",
    "    \"blackwidow\": 37,\n",
    "    \"thor\": 430,\n",
    "    \"hulk\": 42,\n",
    "    \"spiderman\": 15,\n",
    "    \"blackpanther\": 39\n",
    "}\n",
    "\n",
    "ser_age = pd.Series(avengers, index = avengers.keys())\n",
    "```\n",
    "\n",
    "請計算所有復仇者在五年前的歲數"
   ]
  },
  {
   "cell_type": "code",
   "execution_count": 26,
   "metadata": {},
   "outputs": [
    {
     "data": {
      "text/plain": [
       "ironman            41\n",
       "captainamerica     94\n",
       "blackwidow         32\n",
       "thor              425\n",
       "hulk               37\n",
       "spiderman          10\n",
       "blackpanther       34\n",
       "dtype: int64"
      ]
     },
     "execution_count": 26,
     "metadata": {},
     "output_type": "execute_result"
    }
   ],
   "source": [
    "avengers = {\n",
    "    \"ironman\": 46,\n",
    "    \"captainamerica\": 99,\n",
    "    \"blackwidow\": 37,\n",
    "    \"thor\": 430,\n",
    "    \"hulk\": 42,\n",
    "    \"spiderman\": 15,\n",
    "    \"blackpanther\": 39\n",
    "}\n",
    "\n",
    "ser_age = pd.Series(avengers)\n",
    "ser_age - 5"
   ]
  },
  {
   "cell_type": "markdown",
   "metadata": {},
   "source": [
    "# DataFrame（資料框架）\n",
    "- 表格型資料結構 (可以想像成是一個**虛擬的 Excel 試算表**)\n",
    "- 實際上是由多個 Series 組合起來的資料結構\n",
    "- 適用於封裝/處理二維的資料\n",
    "\n",
    "```python\n",
    "import pandas as pd\n",
    "```\n",
    "\n",
    "# 來建立一個 DataFrame\n",
    "\n",
    "```python\n",
    "avengers = {\n",
    "    \"name\": [\"ironman\",\"captainamerica\",\"blackwidow\",\"thor\",\"hulk\",\"spiderman\", \"blackpanther\"],\n",
    "    \"age\": [48, 100, 33, 430, 48, 15, 39],\n",
    "    \"superpower\": [False, True, False, True, True, True, False]\n",
    "}\n",
    "\n",
    "df = pd.DataFrame(avengers)\n",
    "print(type(df))\n",
    "print(df.info)\n",
    "```"
   ]
  },
  {
   "cell_type": "code",
   "execution_count": 27,
   "metadata": {},
   "outputs": [
    {
     "name": "stdout",
     "output_type": "stream",
     "text": [
      "<class 'pandas.core.frame.DataFrame'>\n",
      "<bound method DataFrame.info of              name  age  superpower\n",
      "0         ironman   48       False\n",
      "1  captainamerica  100        True\n",
      "2      blackwidow   33       False\n",
      "3            thor  430        True\n",
      "4            hulk   48        True\n",
      "5       spiderman   15        True\n",
      "6    blackpanther   39       False>\n"
     ]
    }
   ],
   "source": [
    "import pandas as pd\n",
    "avengers = {\n",
    "    \"name\": [\"ironman\",\"captainamerica\",\"blackwidow\",\"thor\",\"hulk\",\"spiderman\", \"blackpanther\"],\n",
    "    \"age\": [48, 100, 33, 430, 48, 15, 39],\n",
    "    \"superpower\": [False, True, False, True, True, True, False]\n",
    "}\n",
    "df = pd.DataFrame(avengers)\n",
    "print(type(df))\n",
    "print(df.info)"
   ]
  },
  {
   "cell_type": "markdown",
   "metadata": {},
   "source": [
    "# describe()\n",
    "計算 \n",
    "```python\n",
    "df.describe()\n",
    "```\n"
   ]
  },
  {
   "cell_type": "code",
   "execution_count": 28,
   "metadata": {},
   "outputs": [
    {
     "data": {
      "text/html": [
       "<div>\n",
       "<style scoped>\n",
       "    .dataframe tbody tr th:only-of-type {\n",
       "        vertical-align: middle;\n",
       "    }\n",
       "\n",
       "    .dataframe tbody tr th {\n",
       "        vertical-align: top;\n",
       "    }\n",
       "\n",
       "    .dataframe thead th {\n",
       "        text-align: right;\n",
       "    }\n",
       "</style>\n",
       "<table border=\"1\" class=\"dataframe\">\n",
       "  <thead>\n",
       "    <tr style=\"text-align: right;\">\n",
       "      <th></th>\n",
       "      <th>age</th>\n",
       "    </tr>\n",
       "  </thead>\n",
       "  <tbody>\n",
       "    <tr>\n",
       "      <td>count</td>\n",
       "      <td>7.000000</td>\n",
       "    </tr>\n",
       "    <tr>\n",
       "      <td>mean</td>\n",
       "      <td>101.857143</td>\n",
       "    </tr>\n",
       "    <tr>\n",
       "      <td>std</td>\n",
       "      <td>147.036762</td>\n",
       "    </tr>\n",
       "    <tr>\n",
       "      <td>min</td>\n",
       "      <td>15.000000</td>\n",
       "    </tr>\n",
       "    <tr>\n",
       "      <td>25%</td>\n",
       "      <td>36.000000</td>\n",
       "    </tr>\n",
       "    <tr>\n",
       "      <td>50%</td>\n",
       "      <td>48.000000</td>\n",
       "    </tr>\n",
       "    <tr>\n",
       "      <td>75%</td>\n",
       "      <td>74.000000</td>\n",
       "    </tr>\n",
       "    <tr>\n",
       "      <td>max</td>\n",
       "      <td>430.000000</td>\n",
       "    </tr>\n",
       "  </tbody>\n",
       "</table>\n",
       "</div>"
      ],
      "text/plain": [
       "              age\n",
       "count    7.000000\n",
       "mean   101.857143\n",
       "std    147.036762\n",
       "min     15.000000\n",
       "25%     36.000000\n",
       "50%     48.000000\n",
       "75%     74.000000\n",
       "max    430.000000"
      ]
     },
     "execution_count": 28,
     "metadata": {},
     "output_type": "execute_result"
    }
   ],
   "source": [
    "df.describe()"
   ]
  },
  {
   "cell_type": "markdown",
   "metadata": {},
   "source": [
    "# DataFrame\n",
    "\n",
    "```python\n",
    "df = pd.DataFrame(avengers, columns = [\"name\", \"age\", \"superpower\"]) # 指定欄標籤排序\n",
    "```"
   ]
  },
  {
   "cell_type": "code",
   "execution_count": null,
   "metadata": {},
   "outputs": [],
   "source": []
  },
  {
   "cell_type": "markdown",
   "metadata": {},
   "source": [
    "# head(), tail()\n",
    "```python\n",
    "# 找出最前面的5筆資料 default = 5\n",
    "df.head()\n",
    "\n",
    "# 找出最前面的3筆資料\n",
    "df.head(3)\n",
    "\n",
    "# 找出最後面的5筆資料\n",
    "df.tail()\n",
    "\n",
    "# 找出最後面的3筆資料\n",
    "df.tail(3)\n",
    "```"
   ]
  },
  {
   "cell_type": "code",
   "execution_count": 29,
   "metadata": {},
   "outputs": [
    {
     "data": {
      "text/html": [
       "<div>\n",
       "<style scoped>\n",
       "    .dataframe tbody tr th:only-of-type {\n",
       "        vertical-align: middle;\n",
       "    }\n",
       "\n",
       "    .dataframe tbody tr th {\n",
       "        vertical-align: top;\n",
       "    }\n",
       "\n",
       "    .dataframe thead th {\n",
       "        text-align: right;\n",
       "    }\n",
       "</style>\n",
       "<table border=\"1\" class=\"dataframe\">\n",
       "  <thead>\n",
       "    <tr style=\"text-align: right;\">\n",
       "      <th></th>\n",
       "      <th>name</th>\n",
       "      <th>age</th>\n",
       "      <th>superpower</th>\n",
       "    </tr>\n",
       "  </thead>\n",
       "  <tbody>\n",
       "    <tr>\n",
       "      <td>4</td>\n",
       "      <td>hulk</td>\n",
       "      <td>48</td>\n",
       "      <td>True</td>\n",
       "    </tr>\n",
       "    <tr>\n",
       "      <td>5</td>\n",
       "      <td>spiderman</td>\n",
       "      <td>15</td>\n",
       "      <td>True</td>\n",
       "    </tr>\n",
       "    <tr>\n",
       "      <td>6</td>\n",
       "      <td>blackpanther</td>\n",
       "      <td>39</td>\n",
       "      <td>False</td>\n",
       "    </tr>\n",
       "  </tbody>\n",
       "</table>\n",
       "</div>"
      ],
      "text/plain": [
       "           name  age  superpower\n",
       "4          hulk   48        True\n",
       "5     spiderman   15        True\n",
       "6  blackpanther   39       False"
      ]
     },
     "execution_count": 29,
     "metadata": {},
     "output_type": "execute_result"
    }
   ],
   "source": [
    "df.head(3)\n",
    "df.tail(3)"
   ]
  },
  {
   "cell_type": "markdown",
   "metadata": {},
   "source": [
    "- 如果把歲數都 - 5"
   ]
  },
  {
   "cell_type": "code",
   "execution_count": 30,
   "metadata": {},
   "outputs": [
    {
     "data": {
      "text/plain": [
       "0     43\n",
       "1     95\n",
       "2     28\n",
       "3    425\n",
       "4     43\n",
       "5     10\n",
       "6     34\n",
       "Name: age, dtype: int64"
      ]
     },
     "execution_count": 30,
     "metadata": {},
     "output_type": "execute_result"
    }
   ],
   "source": [
    "df['age'] - 5"
   ]
  },
  {
   "cell_type": "code",
   "execution_count": 31,
   "metadata": {},
   "outputs": [
    {
     "data": {
      "text/html": [
       "<div>\n",
       "<style scoped>\n",
       "    .dataframe tbody tr th:only-of-type {\n",
       "        vertical-align: middle;\n",
       "    }\n",
       "\n",
       "    .dataframe tbody tr th {\n",
       "        vertical-align: top;\n",
       "    }\n",
       "\n",
       "    .dataframe thead th {\n",
       "        text-align: right;\n",
       "    }\n",
       "</style>\n",
       "<table border=\"1\" class=\"dataframe\">\n",
       "  <thead>\n",
       "    <tr style=\"text-align: right;\">\n",
       "      <th></th>\n",
       "      <th>name</th>\n",
       "      <th>age</th>\n",
       "      <th>superpower</th>\n",
       "    </tr>\n",
       "  </thead>\n",
       "  <tbody>\n",
       "    <tr>\n",
       "      <td>0</td>\n",
       "      <td>ironman</td>\n",
       "      <td>48</td>\n",
       "      <td>False</td>\n",
       "    </tr>\n",
       "    <tr>\n",
       "      <td>1</td>\n",
       "      <td>captainamerica</td>\n",
       "      <td>100</td>\n",
       "      <td>True</td>\n",
       "    </tr>\n",
       "    <tr>\n",
       "      <td>2</td>\n",
       "      <td>blackwidow</td>\n",
       "      <td>33</td>\n",
       "      <td>False</td>\n",
       "    </tr>\n",
       "    <tr>\n",
       "      <td>3</td>\n",
       "      <td>thor</td>\n",
       "      <td>430</td>\n",
       "      <td>True</td>\n",
       "    </tr>\n",
       "    <tr>\n",
       "      <td>4</td>\n",
       "      <td>hulk</td>\n",
       "      <td>48</td>\n",
       "      <td>True</td>\n",
       "    </tr>\n",
       "    <tr>\n",
       "      <td>5</td>\n",
       "      <td>spiderman</td>\n",
       "      <td>15</td>\n",
       "      <td>True</td>\n",
       "    </tr>\n",
       "    <tr>\n",
       "      <td>6</td>\n",
       "      <td>blackpanther</td>\n",
       "      <td>39</td>\n",
       "      <td>False</td>\n",
       "    </tr>\n",
       "  </tbody>\n",
       "</table>\n",
       "</div>"
      ],
      "text/plain": [
       "             name  age  superpower\n",
       "0         ironman   48       False\n",
       "1  captainamerica  100        True\n",
       "2      blackwidow   33       False\n",
       "3            thor  430        True\n",
       "4            hulk   48        True\n",
       "5       spiderman   15        True\n",
       "6    blackpanther   39       False"
      ]
     },
     "execution_count": 31,
     "metadata": {},
     "output_type": "execute_result"
    }
   ],
   "source": [
    "# but the result wasn't recorded\n",
    "df"
   ]
  },
  {
   "cell_type": "markdown",
   "metadata": {},
   "source": [
    "# 新增一欄資料\n",
    "\n",
    "```python\n",
    "# 可以用現有欄的資料算出\n",
    "df['age_2_yr_ago'] = df['age'] - 2\n",
    "```"
   ]
  },
  {
   "cell_type": "code",
   "execution_count": 32,
   "metadata": {},
   "outputs": [
    {
     "data": {
      "text/html": [
       "<div>\n",
       "<style scoped>\n",
       "    .dataframe tbody tr th:only-of-type {\n",
       "        vertical-align: middle;\n",
       "    }\n",
       "\n",
       "    .dataframe tbody tr th {\n",
       "        vertical-align: top;\n",
       "    }\n",
       "\n",
       "    .dataframe thead th {\n",
       "        text-align: right;\n",
       "    }\n",
       "</style>\n",
       "<table border=\"1\" class=\"dataframe\">\n",
       "  <thead>\n",
       "    <tr style=\"text-align: right;\">\n",
       "      <th></th>\n",
       "      <th>name</th>\n",
       "      <th>age</th>\n",
       "      <th>superpower</th>\n",
       "      <th>age_5yr_ago</th>\n",
       "    </tr>\n",
       "  </thead>\n",
       "  <tbody>\n",
       "    <tr>\n",
       "      <td>0</td>\n",
       "      <td>ironman</td>\n",
       "      <td>48</td>\n",
       "      <td>False</td>\n",
       "      <td>43</td>\n",
       "    </tr>\n",
       "    <tr>\n",
       "      <td>1</td>\n",
       "      <td>captainamerica</td>\n",
       "      <td>100</td>\n",
       "      <td>True</td>\n",
       "      <td>95</td>\n",
       "    </tr>\n",
       "    <tr>\n",
       "      <td>2</td>\n",
       "      <td>blackwidow</td>\n",
       "      <td>33</td>\n",
       "      <td>False</td>\n",
       "      <td>28</td>\n",
       "    </tr>\n",
       "    <tr>\n",
       "      <td>3</td>\n",
       "      <td>thor</td>\n",
       "      <td>430</td>\n",
       "      <td>True</td>\n",
       "      <td>425</td>\n",
       "    </tr>\n",
       "    <tr>\n",
       "      <td>4</td>\n",
       "      <td>hulk</td>\n",
       "      <td>48</td>\n",
       "      <td>True</td>\n",
       "      <td>43</td>\n",
       "    </tr>\n",
       "    <tr>\n",
       "      <td>5</td>\n",
       "      <td>spiderman</td>\n",
       "      <td>15</td>\n",
       "      <td>True</td>\n",
       "      <td>10</td>\n",
       "    </tr>\n",
       "    <tr>\n",
       "      <td>6</td>\n",
       "      <td>blackpanther</td>\n",
       "      <td>39</td>\n",
       "      <td>False</td>\n",
       "      <td>34</td>\n",
       "    </tr>\n",
       "  </tbody>\n",
       "</table>\n",
       "</div>"
      ],
      "text/plain": [
       "             name  age  superpower  age_5yr_ago\n",
       "0         ironman   48       False           43\n",
       "1  captainamerica  100        True           95\n",
       "2      blackwidow   33       False           28\n",
       "3            thor  430        True          425\n",
       "4            hulk   48        True           43\n",
       "5       spiderman   15        True           10\n",
       "6    blackpanther   39       False           34"
      ]
     },
     "execution_count": 32,
     "metadata": {},
     "output_type": "execute_result"
    }
   ],
   "source": [
    "df['age_5yr_ago'] = df['age'] - 5\n",
    "df"
   ]
  },
  {
   "cell_type": "markdown",
   "metadata": {},
   "source": [
    "# 新增一欄資料\n",
    "\n",
    "```python\n",
    "# 直接用 List 指定\n",
    "df['weapon'] = [\"armor\", \"shield\", \"taser\", \"hammer\", \"himself\", \"web\", \"claws\"]\n",
    "```"
   ]
  },
  {
   "cell_type": "code",
   "execution_count": 33,
   "metadata": {},
   "outputs": [
    {
     "data": {
      "text/html": [
       "<div>\n",
       "<style scoped>\n",
       "    .dataframe tbody tr th:only-of-type {\n",
       "        vertical-align: middle;\n",
       "    }\n",
       "\n",
       "    .dataframe tbody tr th {\n",
       "        vertical-align: top;\n",
       "    }\n",
       "\n",
       "    .dataframe thead th {\n",
       "        text-align: right;\n",
       "    }\n",
       "</style>\n",
       "<table border=\"1\" class=\"dataframe\">\n",
       "  <thead>\n",
       "    <tr style=\"text-align: right;\">\n",
       "      <th></th>\n",
       "      <th>name</th>\n",
       "      <th>age</th>\n",
       "      <th>superpower</th>\n",
       "      <th>age_5yr_ago</th>\n",
       "      <th>weapon</th>\n",
       "    </tr>\n",
       "  </thead>\n",
       "  <tbody>\n",
       "    <tr>\n",
       "      <td>0</td>\n",
       "      <td>ironman</td>\n",
       "      <td>48</td>\n",
       "      <td>False</td>\n",
       "      <td>43</td>\n",
       "      <td>armor</td>\n",
       "    </tr>\n",
       "    <tr>\n",
       "      <td>1</td>\n",
       "      <td>captainamerica</td>\n",
       "      <td>100</td>\n",
       "      <td>True</td>\n",
       "      <td>95</td>\n",
       "      <td>shield</td>\n",
       "    </tr>\n",
       "    <tr>\n",
       "      <td>2</td>\n",
       "      <td>blackwidow</td>\n",
       "      <td>33</td>\n",
       "      <td>False</td>\n",
       "      <td>28</td>\n",
       "      <td>taser</td>\n",
       "    </tr>\n",
       "    <tr>\n",
       "      <td>3</td>\n",
       "      <td>thor</td>\n",
       "      <td>430</td>\n",
       "      <td>True</td>\n",
       "      <td>425</td>\n",
       "      <td>hammer</td>\n",
       "    </tr>\n",
       "    <tr>\n",
       "      <td>4</td>\n",
       "      <td>hulk</td>\n",
       "      <td>48</td>\n",
       "      <td>True</td>\n",
       "      <td>43</td>\n",
       "      <td>himself</td>\n",
       "    </tr>\n",
       "    <tr>\n",
       "      <td>5</td>\n",
       "      <td>spiderman</td>\n",
       "      <td>15</td>\n",
       "      <td>True</td>\n",
       "      <td>10</td>\n",
       "      <td>web</td>\n",
       "    </tr>\n",
       "    <tr>\n",
       "      <td>6</td>\n",
       "      <td>blackpanther</td>\n",
       "      <td>39</td>\n",
       "      <td>False</td>\n",
       "      <td>34</td>\n",
       "      <td>claws</td>\n",
       "    </tr>\n",
       "  </tbody>\n",
       "</table>\n",
       "</div>"
      ],
      "text/plain": [
       "             name  age  superpower  age_5yr_ago   weapon\n",
       "0         ironman   48       False           43    armor\n",
       "1  captainamerica  100        True           95   shield\n",
       "2      blackwidow   33       False           28    taser\n",
       "3            thor  430        True          425   hammer\n",
       "4            hulk   48        True           43  himself\n",
       "5       spiderman   15        True           10      web\n",
       "6    blackpanther   39       False           34    claws"
      ]
     },
     "execution_count": 33,
     "metadata": {},
     "output_type": "execute_result"
    }
   ],
   "source": [
    "# 也可以直接用 List 指定\n",
    "df['weapon'] = [\"armor\", \"shield\", \"taser\", \"hammer\", \"himself\", \"web\", \"claws\"]\n",
    "df"
   ]
  },
  {
   "cell_type": "markdown",
   "metadata": {},
   "source": [
    "# 若要把其中一欄的資料讀取出來\n",
    "\n",
    "```python\n",
    "df['age']\n",
    "```\n",
    "或是\n",
    "```python\n",
    "df.age\n",
    "```\n"
   ]
  },
  {
   "cell_type": "code",
   "execution_count": 34,
   "metadata": {},
   "outputs": [
    {
     "data": {
      "text/plain": [
       "0     48\n",
       "1    100\n",
       "2     33\n",
       "3    430\n",
       "4     48\n",
       "5     15\n",
       "6     39\n",
       "Name: age, dtype: int64"
      ]
     },
     "execution_count": 34,
     "metadata": {},
     "output_type": "execute_result"
    }
   ],
   "source": [
    "df.age"
   ]
  },
  {
   "cell_type": "markdown",
   "metadata": {},
   "source": [
    "# 若我想用條件選擇出一些資料\n",
    "選出年齡低於 50 的復仇者\n",
    "\n",
    "```python\n",
    "# 產生出一個由布林值構成的 series\n",
    "age_filter = df['age'] < 50\n",
    "print(age_filter)\n",
    "# 再將該 series 套回到 DataFrame\n",
    "df[age_filter]\n",
    "```"
   ]
  },
  {
   "cell_type": "code",
   "execution_count": 35,
   "metadata": {},
   "outputs": [
    {
     "name": "stdout",
     "output_type": "stream",
     "text": [
      "0     True\n",
      "1    False\n",
      "2     True\n",
      "3    False\n",
      "4     True\n",
      "5     True\n",
      "6     True\n",
      "Name: age, dtype: bool\n"
     ]
    },
    {
     "data": {
      "text/html": [
       "<div>\n",
       "<style scoped>\n",
       "    .dataframe tbody tr th:only-of-type {\n",
       "        vertical-align: middle;\n",
       "    }\n",
       "\n",
       "    .dataframe tbody tr th {\n",
       "        vertical-align: top;\n",
       "    }\n",
       "\n",
       "    .dataframe thead th {\n",
       "        text-align: right;\n",
       "    }\n",
       "</style>\n",
       "<table border=\"1\" class=\"dataframe\">\n",
       "  <thead>\n",
       "    <tr style=\"text-align: right;\">\n",
       "      <th></th>\n",
       "      <th>name</th>\n",
       "      <th>age</th>\n",
       "      <th>superpower</th>\n",
       "      <th>age_5yr_ago</th>\n",
       "      <th>weapon</th>\n",
       "    </tr>\n",
       "  </thead>\n",
       "  <tbody>\n",
       "    <tr>\n",
       "      <td>0</td>\n",
       "      <td>ironman</td>\n",
       "      <td>48</td>\n",
       "      <td>False</td>\n",
       "      <td>43</td>\n",
       "      <td>armor</td>\n",
       "    </tr>\n",
       "    <tr>\n",
       "      <td>2</td>\n",
       "      <td>blackwidow</td>\n",
       "      <td>33</td>\n",
       "      <td>False</td>\n",
       "      <td>28</td>\n",
       "      <td>taser</td>\n",
       "    </tr>\n",
       "    <tr>\n",
       "      <td>4</td>\n",
       "      <td>hulk</td>\n",
       "      <td>48</td>\n",
       "      <td>True</td>\n",
       "      <td>43</td>\n",
       "      <td>himself</td>\n",
       "    </tr>\n",
       "    <tr>\n",
       "      <td>5</td>\n",
       "      <td>spiderman</td>\n",
       "      <td>15</td>\n",
       "      <td>True</td>\n",
       "      <td>10</td>\n",
       "      <td>web</td>\n",
       "    </tr>\n",
       "    <tr>\n",
       "      <td>6</td>\n",
       "      <td>blackpanther</td>\n",
       "      <td>39</td>\n",
       "      <td>False</td>\n",
       "      <td>34</td>\n",
       "      <td>claws</td>\n",
       "    </tr>\n",
       "  </tbody>\n",
       "</table>\n",
       "</div>"
      ],
      "text/plain": [
       "           name  age  superpower  age_5yr_ago   weapon\n",
       "0       ironman   48       False           43    armor\n",
       "2    blackwidow   33       False           28    taser\n",
       "4          hulk   48        True           43  himself\n",
       "5     spiderman   15        True           10      web\n",
       "6  blackpanther   39       False           34    claws"
      ]
     },
     "execution_count": 35,
     "metadata": {},
     "output_type": "execute_result"
    }
   ],
   "source": [
    "# 產生出一個由布林值構成的 series\n",
    "age_filter = df['age'] < 50\n",
    "print(age_filter)\n",
    "# 再將該 series 套回到 DataFrame\n",
    "df[age_filter]"
   ]
  },
  {
   "cell_type": "markdown",
   "metadata": {},
   "source": [
    "# 若我想用條件選擇出一些資料\n",
    "或者，可以把 code 簡化成(結果套回df? no!):\n",
    "\n",
    "```python\n",
    "df[df['age'] > 50]\n",
    "```"
   ]
  },
  {
   "cell_type": "code",
   "execution_count": 36,
   "metadata": {},
   "outputs": [
    {
     "data": {
      "text/html": [
       "<div>\n",
       "<style scoped>\n",
       "    .dataframe tbody tr th:only-of-type {\n",
       "        vertical-align: middle;\n",
       "    }\n",
       "\n",
       "    .dataframe tbody tr th {\n",
       "        vertical-align: top;\n",
       "    }\n",
       "\n",
       "    .dataframe thead th {\n",
       "        text-align: right;\n",
       "    }\n",
       "</style>\n",
       "<table border=\"1\" class=\"dataframe\">\n",
       "  <thead>\n",
       "    <tr style=\"text-align: right;\">\n",
       "      <th></th>\n",
       "      <th>name</th>\n",
       "      <th>age</th>\n",
       "      <th>superpower</th>\n",
       "      <th>age_5yr_ago</th>\n",
       "      <th>weapon</th>\n",
       "    </tr>\n",
       "  </thead>\n",
       "  <tbody>\n",
       "    <tr>\n",
       "      <td>0</td>\n",
       "      <td>ironman</td>\n",
       "      <td>48</td>\n",
       "      <td>False</td>\n",
       "      <td>43</td>\n",
       "      <td>armor</td>\n",
       "    </tr>\n",
       "    <tr>\n",
       "      <td>2</td>\n",
       "      <td>blackwidow</td>\n",
       "      <td>33</td>\n",
       "      <td>False</td>\n",
       "      <td>28</td>\n",
       "      <td>taser</td>\n",
       "    </tr>\n",
       "    <tr>\n",
       "      <td>4</td>\n",
       "      <td>hulk</td>\n",
       "      <td>48</td>\n",
       "      <td>True</td>\n",
       "      <td>43</td>\n",
       "      <td>himself</td>\n",
       "    </tr>\n",
       "    <tr>\n",
       "      <td>5</td>\n",
       "      <td>spiderman</td>\n",
       "      <td>15</td>\n",
       "      <td>True</td>\n",
       "      <td>10</td>\n",
       "      <td>web</td>\n",
       "    </tr>\n",
       "    <tr>\n",
       "      <td>6</td>\n",
       "      <td>blackpanther</td>\n",
       "      <td>39</td>\n",
       "      <td>False</td>\n",
       "      <td>34</td>\n",
       "      <td>claws</td>\n",
       "    </tr>\n",
       "  </tbody>\n",
       "</table>\n",
       "</div>"
      ],
      "text/plain": [
       "           name  age  superpower  age_5yr_ago   weapon\n",
       "0       ironman   48       False           43    armor\n",
       "2    blackwidow   33       False           28    taser\n",
       "4          hulk   48        True           43  himself\n",
       "5     spiderman   15        True           10      web\n",
       "6  blackpanther   39       False           34    claws"
      ]
     },
     "execution_count": 36,
     "metadata": {},
     "output_type": "execute_result"
    }
   ],
   "source": [
    "df[df['age'] < 50]"
   ]
  },
  {
   "cell_type": "markdown",
   "metadata": {},
   "source": [
    "# 選擇資料\n",
    "\n",
    "從歲數<50，選擇有超能力的，這樣要新增一個變數(young_avengers_df)，很麻煩~\n",
    "```python\n",
    "age_filter = df['age'] < 50\n",
    "young_avengers_df = df[age_filter]\n",
    "super_filter = young_avengers_df['superpower'] == True\n",
    "young_avengers_df[super_filter]\n",
    "```"
   ]
  },
  {
   "cell_type": "code",
   "execution_count": 37,
   "metadata": {},
   "outputs": [
    {
     "data": {
      "text/html": [
       "<div>\n",
       "<style scoped>\n",
       "    .dataframe tbody tr th:only-of-type {\n",
       "        vertical-align: middle;\n",
       "    }\n",
       "\n",
       "    .dataframe tbody tr th {\n",
       "        vertical-align: top;\n",
       "    }\n",
       "\n",
       "    .dataframe thead th {\n",
       "        text-align: right;\n",
       "    }\n",
       "</style>\n",
       "<table border=\"1\" class=\"dataframe\">\n",
       "  <thead>\n",
       "    <tr style=\"text-align: right;\">\n",
       "      <th></th>\n",
       "      <th>name</th>\n",
       "      <th>age</th>\n",
       "      <th>superpower</th>\n",
       "      <th>age_5yr_ago</th>\n",
       "      <th>weapon</th>\n",
       "    </tr>\n",
       "  </thead>\n",
       "  <tbody>\n",
       "    <tr>\n",
       "      <td>4</td>\n",
       "      <td>hulk</td>\n",
       "      <td>48</td>\n",
       "      <td>True</td>\n",
       "      <td>43</td>\n",
       "      <td>himself</td>\n",
       "    </tr>\n",
       "    <tr>\n",
       "      <td>5</td>\n",
       "      <td>spiderman</td>\n",
       "      <td>15</td>\n",
       "      <td>True</td>\n",
       "      <td>10</td>\n",
       "      <td>web</td>\n",
       "    </tr>\n",
       "  </tbody>\n",
       "</table>\n",
       "</div>"
      ],
      "text/plain": [
       "        name  age  superpower  age_5yr_ago   weapon\n",
       "4       hulk   48        True           43  himself\n",
       "5  spiderman   15        True           10      web"
      ]
     },
     "execution_count": 37,
     "metadata": {},
     "output_type": "execute_result"
    }
   ],
   "source": [
    "# 2 條件\n",
    "df[df['age'] < 50]\n",
    "df[df['superpower'] == True]\n",
    "\n",
    "# combine 2 conditions\n",
    "df[ (df['age'] < 50) & (df['superpower'] == True) ]"
   ]
  },
  {
   "cell_type": "markdown",
   "metadata": {},
   "source": [
    "# 另一種寫法...\n",
    "\n",
    "| 邏輯運算 | Pandas 語法 | \n",
    "|:--:|:------:|\n",
    "| and | &     |\n",
    "| or | |      |\n",
    "| not | ~     |\n",
    "\n",
    "or 是'棒棒''|'\n",
    "\n",
    "所以我們可以用 & 符號結合上面兩者的搜尋結果：\n",
    "```python \n",
    "(df['age'] <= 50) & (df['superpower'] == False)\n",
    "```\n",
    "\n",
    "最後就可以搜尋出符合兩個條件的結果了：\n",
    "```python\n",
    "df[(df['age'] <= 50) & (df['superpower'] == False)]\n",
    "```"
   ]
  },
  {
   "cell_type": "code",
   "execution_count": null,
   "metadata": {},
   "outputs": [],
   "source": []
  },
  {
   "cell_type": "markdown",
   "metadata": {},
   "source": [
    "# Pandas 實戰專題：判斷股價漲跌\n",
    "\n",
    "利用 DataFrame 判斷漲跌：\n",
    "\n",
    "1. 計算出 S&P 500 歷史資料的報酬率\n",
    "2. 畫出走勢圖\n",
    "3. 判斷是否為上漲\n",
    "4. 最後把當天是上漲的股價資料過濾出來\n",
    "5. 匯出成 Excel 檔案\n",
    "\n",
    "---\n",
    "# 範例 CSV 檔\n",
    "\n",
    "[範例 CSV 檔](https://www.dropbox.com/s/by2hfjhm07kkhbj/s%26p500.csv?dl=1)\n",
    "\n",
    "---\n",
    "# 將工作表的資料提取出來，存入 Dataframe\n",
    "\n",
    "```python\n",
    "import pandas as pd\n",
    "\n",
    "df = pd.read_csv(r\"你的 s&p500.csv 檔案路徑\")\n",
    "df\n",
    "```\n",
    "\n",
    "補充：[官網教學](https://pandas.pydata.org/pandas-docs/stable/reference/api/pandas.read_excel.html)\n"
   ]
  },
  {
   "cell_type": "code",
   "execution_count": 38,
   "metadata": {
    "scrolled": true
   },
   "outputs": [
    {
     "data": {
      "text/html": [
       "<div>\n",
       "<style scoped>\n",
       "    .dataframe tbody tr th:only-of-type {\n",
       "        vertical-align: middle;\n",
       "    }\n",
       "\n",
       "    .dataframe tbody tr th {\n",
       "        vertical-align: top;\n",
       "    }\n",
       "\n",
       "    .dataframe thead th {\n",
       "        text-align: right;\n",
       "    }\n",
       "</style>\n",
       "<table border=\"1\" class=\"dataframe\">\n",
       "  <thead>\n",
       "    <tr style=\"text-align: right;\">\n",
       "      <th></th>\n",
       "      <th>Date</th>\n",
       "      <th>Open</th>\n",
       "      <th>High</th>\n",
       "      <th>Low</th>\n",
       "      <th>Close</th>\n",
       "      <th>Adj Close</th>\n",
       "      <th>Volume</th>\n",
       "    </tr>\n",
       "  </thead>\n",
       "  <tbody>\n",
       "    <tr>\n",
       "      <td>0</td>\n",
       "      <td>2018/7/2</td>\n",
       "      <td>2704.949951</td>\n",
       "      <td>2727.260010</td>\n",
       "      <td>2698.949951</td>\n",
       "      <td>2726.709961</td>\n",
       "      <td>2726.709961</td>\n",
       "      <td>3073650000</td>\n",
       "    </tr>\n",
       "    <tr>\n",
       "      <td>1</td>\n",
       "      <td>2018/7/3</td>\n",
       "      <td>2733.270020</td>\n",
       "      <td>2736.580078</td>\n",
       "      <td>2711.159912</td>\n",
       "      <td>2713.219971</td>\n",
       "      <td>2713.219971</td>\n",
       "      <td>1911470000</td>\n",
       "    </tr>\n",
       "    <tr>\n",
       "      <td>2</td>\n",
       "      <td>2018/7/5</td>\n",
       "      <td>2724.189941</td>\n",
       "      <td>2737.830078</td>\n",
       "      <td>2716.020020</td>\n",
       "      <td>2736.610107</td>\n",
       "      <td>2736.610107</td>\n",
       "      <td>2953420000</td>\n",
       "    </tr>\n",
       "    <tr>\n",
       "      <td>3</td>\n",
       "      <td>2018/7/6</td>\n",
       "      <td>2737.679932</td>\n",
       "      <td>2764.409912</td>\n",
       "      <td>2733.520020</td>\n",
       "      <td>2759.820068</td>\n",
       "      <td>2759.820068</td>\n",
       "      <td>2554780000</td>\n",
       "    </tr>\n",
       "    <tr>\n",
       "      <td>4</td>\n",
       "      <td>2018/7/9</td>\n",
       "      <td>2775.620117</td>\n",
       "      <td>2784.649902</td>\n",
       "      <td>2770.729980</td>\n",
       "      <td>2784.169922</td>\n",
       "      <td>2784.169922</td>\n",
       "      <td>3050040000</td>\n",
       "    </tr>\n",
       "    <tr>\n",
       "      <td>...</td>\n",
       "      <td>...</td>\n",
       "      <td>...</td>\n",
       "      <td>...</td>\n",
       "      <td>...</td>\n",
       "      <td>...</td>\n",
       "      <td>...</td>\n",
       "      <td>...</td>\n",
       "    </tr>\n",
       "    <tr>\n",
       "      <td>247</td>\n",
       "      <td>2019/6/26</td>\n",
       "      <td>2926.070068</td>\n",
       "      <td>2932.590088</td>\n",
       "      <td>2912.989990</td>\n",
       "      <td>2913.780029</td>\n",
       "      <td>2913.780029</td>\n",
       "      <td>3478130000</td>\n",
       "    </tr>\n",
       "    <tr>\n",
       "      <td>248</td>\n",
       "      <td>2019/6/27</td>\n",
       "      <td>2919.659912</td>\n",
       "      <td>2929.300049</td>\n",
       "      <td>2918.570068</td>\n",
       "      <td>2924.919922</td>\n",
       "      <td>2924.919922</td>\n",
       "      <td>3122920000</td>\n",
       "    </tr>\n",
       "    <tr>\n",
       "      <td>249</td>\n",
       "      <td>2019/6/28</td>\n",
       "      <td>2932.939941</td>\n",
       "      <td>2943.979980</td>\n",
       "      <td>2929.050049</td>\n",
       "      <td>2941.760010</td>\n",
       "      <td>2941.760010</td>\n",
       "      <td>5420700000</td>\n",
       "    </tr>\n",
       "    <tr>\n",
       "      <td>250</td>\n",
       "      <td>2019/7/1</td>\n",
       "      <td>2971.409912</td>\n",
       "      <td>2977.929932</td>\n",
       "      <td>2952.219971</td>\n",
       "      <td>2964.330078</td>\n",
       "      <td>2964.330078</td>\n",
       "      <td>3513270000</td>\n",
       "    </tr>\n",
       "    <tr>\n",
       "      <td>251</td>\n",
       "      <td>2019/7/2</td>\n",
       "      <td>2964.659912</td>\n",
       "      <td>2969.870117</td>\n",
       "      <td>2955.919922</td>\n",
       "      <td>2962.560059</td>\n",
       "      <td>2962.560059</td>\n",
       "      <td>832294233</td>\n",
       "    </tr>\n",
       "  </tbody>\n",
       "</table>\n",
       "<p>252 rows × 7 columns</p>\n",
       "</div>"
      ],
      "text/plain": [
       "          Date         Open         High          Low        Close  \\\n",
       "0     2018/7/2  2704.949951  2727.260010  2698.949951  2726.709961   \n",
       "1     2018/7/3  2733.270020  2736.580078  2711.159912  2713.219971   \n",
       "2     2018/7/5  2724.189941  2737.830078  2716.020020  2736.610107   \n",
       "3     2018/7/6  2737.679932  2764.409912  2733.520020  2759.820068   \n",
       "4     2018/7/9  2775.620117  2784.649902  2770.729980  2784.169922   \n",
       "..         ...          ...          ...          ...          ...   \n",
       "247  2019/6/26  2926.070068  2932.590088  2912.989990  2913.780029   \n",
       "248  2019/6/27  2919.659912  2929.300049  2918.570068  2924.919922   \n",
       "249  2019/6/28  2932.939941  2943.979980  2929.050049  2941.760010   \n",
       "250   2019/7/1  2971.409912  2977.929932  2952.219971  2964.330078   \n",
       "251   2019/7/2  2964.659912  2969.870117  2955.919922  2962.560059   \n",
       "\n",
       "       Adj Close      Volume  \n",
       "0    2726.709961  3073650000  \n",
       "1    2713.219971  1911470000  \n",
       "2    2736.610107  2953420000  \n",
       "3    2759.820068  2554780000  \n",
       "4    2784.169922  3050040000  \n",
       "..           ...         ...  \n",
       "247  2913.780029  3478130000  \n",
       "248  2924.919922  3122920000  \n",
       "249  2941.760010  5420700000  \n",
       "250  2964.330078  3513270000  \n",
       "251  2962.560059   832294233  \n",
       "\n",
       "[252 rows x 7 columns]"
      ]
     },
     "execution_count": 38,
     "metadata": {},
     "output_type": "execute_result"
    }
   ],
   "source": [
    "import pandas as pd\n",
    "\n",
    "pd.read_csv(r\"s&p500.csv\")"
   ]
  },
  {
   "cell_type": "markdown",
   "metadata": {},
   "source": [
    "# 改變 DataFrame 的 row index\n",
    "\n",
    "```python\n",
    "# 以 csv 第一欄的 Date 作爲索引\n",
    "df = pd.read_csv(r\"你的 s&p500.csv 檔案路徑\", index_col=\"Date\", parse_dates=True)\n",
    "df\n",
    "```"
   ]
  },
  {
   "cell_type": "code",
   "execution_count": 39,
   "metadata": {},
   "outputs": [
    {
     "data": {
      "text/html": [
       "<div>\n",
       "<style scoped>\n",
       "    .dataframe tbody tr th:only-of-type {\n",
       "        vertical-align: middle;\n",
       "    }\n",
       "\n",
       "    .dataframe tbody tr th {\n",
       "        vertical-align: top;\n",
       "    }\n",
       "\n",
       "    .dataframe thead th {\n",
       "        text-align: right;\n",
       "    }\n",
       "</style>\n",
       "<table border=\"1\" class=\"dataframe\">\n",
       "  <thead>\n",
       "    <tr style=\"text-align: right;\">\n",
       "      <th></th>\n",
       "      <th>Open</th>\n",
       "      <th>High</th>\n",
       "      <th>Low</th>\n",
       "      <th>Close</th>\n",
       "      <th>Adj Close</th>\n",
       "      <th>Volume</th>\n",
       "    </tr>\n",
       "    <tr>\n",
       "      <th>Date</th>\n",
       "      <th></th>\n",
       "      <th></th>\n",
       "      <th></th>\n",
       "      <th></th>\n",
       "      <th></th>\n",
       "      <th></th>\n",
       "    </tr>\n",
       "  </thead>\n",
       "  <tbody>\n",
       "    <tr>\n",
       "      <td>2018/7/2</td>\n",
       "      <td>2704.949951</td>\n",
       "      <td>2727.260010</td>\n",
       "      <td>2698.949951</td>\n",
       "      <td>2726.709961</td>\n",
       "      <td>2726.709961</td>\n",
       "      <td>3073650000</td>\n",
       "    </tr>\n",
       "    <tr>\n",
       "      <td>2018/7/3</td>\n",
       "      <td>2733.270020</td>\n",
       "      <td>2736.580078</td>\n",
       "      <td>2711.159912</td>\n",
       "      <td>2713.219971</td>\n",
       "      <td>2713.219971</td>\n",
       "      <td>1911470000</td>\n",
       "    </tr>\n",
       "    <tr>\n",
       "      <td>2018/7/5</td>\n",
       "      <td>2724.189941</td>\n",
       "      <td>2737.830078</td>\n",
       "      <td>2716.020020</td>\n",
       "      <td>2736.610107</td>\n",
       "      <td>2736.610107</td>\n",
       "      <td>2953420000</td>\n",
       "    </tr>\n",
       "    <tr>\n",
       "      <td>2018/7/6</td>\n",
       "      <td>2737.679932</td>\n",
       "      <td>2764.409912</td>\n",
       "      <td>2733.520020</td>\n",
       "      <td>2759.820068</td>\n",
       "      <td>2759.820068</td>\n",
       "      <td>2554780000</td>\n",
       "    </tr>\n",
       "    <tr>\n",
       "      <td>2018/7/9</td>\n",
       "      <td>2775.620117</td>\n",
       "      <td>2784.649902</td>\n",
       "      <td>2770.729980</td>\n",
       "      <td>2784.169922</td>\n",
       "      <td>2784.169922</td>\n",
       "      <td>3050040000</td>\n",
       "    </tr>\n",
       "    <tr>\n",
       "      <td>...</td>\n",
       "      <td>...</td>\n",
       "      <td>...</td>\n",
       "      <td>...</td>\n",
       "      <td>...</td>\n",
       "      <td>...</td>\n",
       "      <td>...</td>\n",
       "    </tr>\n",
       "    <tr>\n",
       "      <td>2019/6/26</td>\n",
       "      <td>2926.070068</td>\n",
       "      <td>2932.590088</td>\n",
       "      <td>2912.989990</td>\n",
       "      <td>2913.780029</td>\n",
       "      <td>2913.780029</td>\n",
       "      <td>3478130000</td>\n",
       "    </tr>\n",
       "    <tr>\n",
       "      <td>2019/6/27</td>\n",
       "      <td>2919.659912</td>\n",
       "      <td>2929.300049</td>\n",
       "      <td>2918.570068</td>\n",
       "      <td>2924.919922</td>\n",
       "      <td>2924.919922</td>\n",
       "      <td>3122920000</td>\n",
       "    </tr>\n",
       "    <tr>\n",
       "      <td>2019/6/28</td>\n",
       "      <td>2932.939941</td>\n",
       "      <td>2943.979980</td>\n",
       "      <td>2929.050049</td>\n",
       "      <td>2941.760010</td>\n",
       "      <td>2941.760010</td>\n",
       "      <td>5420700000</td>\n",
       "    </tr>\n",
       "    <tr>\n",
       "      <td>2019/7/1</td>\n",
       "      <td>2971.409912</td>\n",
       "      <td>2977.929932</td>\n",
       "      <td>2952.219971</td>\n",
       "      <td>2964.330078</td>\n",
       "      <td>2964.330078</td>\n",
       "      <td>3513270000</td>\n",
       "    </tr>\n",
       "    <tr>\n",
       "      <td>2019/7/2</td>\n",
       "      <td>2964.659912</td>\n",
       "      <td>2969.870117</td>\n",
       "      <td>2955.919922</td>\n",
       "      <td>2962.560059</td>\n",
       "      <td>2962.560059</td>\n",
       "      <td>832294233</td>\n",
       "    </tr>\n",
       "  </tbody>\n",
       "</table>\n",
       "<p>252 rows × 6 columns</p>\n",
       "</div>"
      ],
      "text/plain": [
       "                  Open         High          Low        Close    Adj Close  \\\n",
       "Date                                                                         \n",
       "2018/7/2   2704.949951  2727.260010  2698.949951  2726.709961  2726.709961   \n",
       "2018/7/3   2733.270020  2736.580078  2711.159912  2713.219971  2713.219971   \n",
       "2018/7/5   2724.189941  2737.830078  2716.020020  2736.610107  2736.610107   \n",
       "2018/7/6   2737.679932  2764.409912  2733.520020  2759.820068  2759.820068   \n",
       "2018/7/9   2775.620117  2784.649902  2770.729980  2784.169922  2784.169922   \n",
       "...                ...          ...          ...          ...          ...   \n",
       "2019/6/26  2926.070068  2932.590088  2912.989990  2913.780029  2913.780029   \n",
       "2019/6/27  2919.659912  2929.300049  2918.570068  2924.919922  2924.919922   \n",
       "2019/6/28  2932.939941  2943.979980  2929.050049  2941.760010  2941.760010   \n",
       "2019/7/1   2971.409912  2977.929932  2952.219971  2964.330078  2964.330078   \n",
       "2019/7/2   2964.659912  2969.870117  2955.919922  2962.560059  2962.560059   \n",
       "\n",
       "               Volume  \n",
       "Date                   \n",
       "2018/7/2   3073650000  \n",
       "2018/7/3   1911470000  \n",
       "2018/7/5   2953420000  \n",
       "2018/7/6   2554780000  \n",
       "2018/7/9   3050040000  \n",
       "...               ...  \n",
       "2019/6/26  3478130000  \n",
       "2019/6/27  3122920000  \n",
       "2019/6/28  5420700000  \n",
       "2019/7/1   3513270000  \n",
       "2019/7/2    832294233  \n",
       "\n",
       "[252 rows x 6 columns]"
      ]
     },
     "execution_count": 39,
     "metadata": {},
     "output_type": "execute_result"
    }
   ],
   "source": [
    "df = pd.read_csv(r\"s&p500.csv\", index_col=\"Date\")\n",
    "df"
   ]
  },
  {
   "cell_type": "markdown",
   "metadata": {},
   "source": [
    "# 繪製走勢圖功能\n",
    "\n",
    "讀取收盤價 (過去一年，為天的走勢圖)\n",
    "\n",
    "```python\n",
    "# 讀取 Adj Close 這一欄，回傳一個 Series\n",
    "df[\"Adj Close\"]\n",
    "```"
   ]
  },
  {
   "cell_type": "code",
   "execution_count": 40,
   "metadata": {
    "scrolled": true
   },
   "outputs": [
    {
     "data": {
      "text/plain": [
       "Date\n",
       "2018/7/2     2726.709961\n",
       "2018/7/3     2713.219971\n",
       "2018/7/5     2736.610107\n",
       "2018/7/6     2759.820068\n",
       "2018/7/9     2784.169922\n",
       "                ...     \n",
       "2019/6/26    2913.780029\n",
       "2019/6/27    2924.919922\n",
       "2019/6/28    2941.760010\n",
       "2019/7/1     2964.330078\n",
       "2019/7/2     2962.560059\n",
       "Name: Adj Close, Length: 252, dtype: float64"
      ]
     },
     "execution_count": 40,
     "metadata": {},
     "output_type": "execute_result"
    }
   ],
   "source": [
    "df[\"Adj Close\"]"
   ]
  },
  {
   "cell_type": "markdown",
   "metadata": {},
   "source": [
    "# 畫出走勢圖\n",
    "\n",
    "```python\n",
    "# 從 Dataframe 截取收盤價，畫出走勢圖 \n",
    "plt = df[\"Adj Close\"].plot()\n",
    "plt.set_xlabel(\"Time\")\n",
    "plt.set_ylabel(\"Price\")\n",
    "plt.set_title(\"S&P 500 Closing Prices\")\n",
    "```"
   ]
  },
  {
   "cell_type": "code",
   "execution_count": 41,
   "metadata": {},
   "outputs": [
    {
     "data": {
      "text/plain": [
       "Text(0.5, 1.0, 'S&P 500 Closing Prices')"
      ]
     },
     "execution_count": 41,
     "metadata": {},
     "output_type": "execute_result"
    }
   ],
   "source": [
    "# 從 Dataframe 截取收盤價，畫出走勢圖。 plt > 圖表/畫布\n",
    "plt = df[\"Adj Close\"].plot()\n",
    "plt.set_xlabel(\"Time\")\n",
    "plt.set_ylabel(\"Price\")\n",
    "plt.set_title(\"S&P 500 Closing Prices\")"
   ]
  },
  {
   "cell_type": "markdown",
   "metadata": {},
   "source": [
    "# 計算報酬率\n",
    "**pct_change()** 函數會幫你計算每一個 row 之間數值的差距，並以百分比的形式呈現出來，英文percentage change：\n",
    "\n",
    "```python\n",
    "df[\"Adj Close\"].pct_change(1) * 100\n",
    "```\n",
    "\n",
    "補充：[官網教學](https://pandas.pydata.org/pandas-docs/version/0.23.4/generated/pandas.DataFrame.pct_change.html)"
   ]
  },
  {
   "cell_type": "code",
   "execution_count": 42,
   "metadata": {},
   "outputs": [
    {
     "data": {
      "text/plain": [
       "Date\n",
       "2018/7/2          NaN\n",
       "2018/7/3    -0.494735\n",
       "2018/7/5     0.862080\n",
       "2018/7/6     0.848128\n",
       "2018/7/9     0.882299\n",
       "               ...   \n",
       "2019/6/26   -0.123393\n",
       "2019/6/27    0.382318\n",
       "2019/6/28    0.575745\n",
       "2019/7/1     0.767230\n",
       "2019/7/2    -0.059711\n",
       "Name: Adj Close, Length: 252, dtype: float64"
      ]
     },
     "execution_count": 42,
     "metadata": {},
     "output_type": "execute_result"
    }
   ],
   "source": [
    "df[\"Adj Close\"].pct_change(1) * 100"
   ]
  },
  {
   "cell_type": "markdown",
   "metadata": {},
   "source": [
    "# 將結果寫入 DataFrame\n",
    "\n",
    "```python\n",
    "df[\"daily return\"] = df[\"Adj Close\"].pct_change(1) * 100\n",
    "```\n"
   ]
  },
  {
   "cell_type": "code",
   "execution_count": 43,
   "metadata": {
    "scrolled": true
   },
   "outputs": [],
   "source": [
    "df[\"daily return\"] = df[\"Adj Close\"].pct_change(1) * 100"
   ]
  },
  {
   "cell_type": "code",
   "execution_count": 44,
   "metadata": {},
   "outputs": [
    {
     "data": {
      "text/html": [
       "<div>\n",
       "<style scoped>\n",
       "    .dataframe tbody tr th:only-of-type {\n",
       "        vertical-align: middle;\n",
       "    }\n",
       "\n",
       "    .dataframe tbody tr th {\n",
       "        vertical-align: top;\n",
       "    }\n",
       "\n",
       "    .dataframe thead th {\n",
       "        text-align: right;\n",
       "    }\n",
       "</style>\n",
       "<table border=\"1\" class=\"dataframe\">\n",
       "  <thead>\n",
       "    <tr style=\"text-align: right;\">\n",
       "      <th></th>\n",
       "      <th>Open</th>\n",
       "      <th>High</th>\n",
       "      <th>Low</th>\n",
       "      <th>Close</th>\n",
       "      <th>Adj Close</th>\n",
       "      <th>Volume</th>\n",
       "      <th>daily return</th>\n",
       "    </tr>\n",
       "    <tr>\n",
       "      <th>Date</th>\n",
       "      <th></th>\n",
       "      <th></th>\n",
       "      <th></th>\n",
       "      <th></th>\n",
       "      <th></th>\n",
       "      <th></th>\n",
       "      <th></th>\n",
       "    </tr>\n",
       "  </thead>\n",
       "  <tbody>\n",
       "    <tr>\n",
       "      <td>2018/7/2</td>\n",
       "      <td>2704.949951</td>\n",
       "      <td>2727.260010</td>\n",
       "      <td>2698.949951</td>\n",
       "      <td>2726.709961</td>\n",
       "      <td>2726.709961</td>\n",
       "      <td>3073650000</td>\n",
       "      <td>NaN</td>\n",
       "    </tr>\n",
       "    <tr>\n",
       "      <td>2018/7/3</td>\n",
       "      <td>2733.270020</td>\n",
       "      <td>2736.580078</td>\n",
       "      <td>2711.159912</td>\n",
       "      <td>2713.219971</td>\n",
       "      <td>2713.219971</td>\n",
       "      <td>1911470000</td>\n",
       "      <td>-0.494735</td>\n",
       "    </tr>\n",
       "    <tr>\n",
       "      <td>2018/7/5</td>\n",
       "      <td>2724.189941</td>\n",
       "      <td>2737.830078</td>\n",
       "      <td>2716.020020</td>\n",
       "      <td>2736.610107</td>\n",
       "      <td>2736.610107</td>\n",
       "      <td>2953420000</td>\n",
       "      <td>0.862080</td>\n",
       "    </tr>\n",
       "    <tr>\n",
       "      <td>2018/7/6</td>\n",
       "      <td>2737.679932</td>\n",
       "      <td>2764.409912</td>\n",
       "      <td>2733.520020</td>\n",
       "      <td>2759.820068</td>\n",
       "      <td>2759.820068</td>\n",
       "      <td>2554780000</td>\n",
       "      <td>0.848128</td>\n",
       "    </tr>\n",
       "    <tr>\n",
       "      <td>2018/7/9</td>\n",
       "      <td>2775.620117</td>\n",
       "      <td>2784.649902</td>\n",
       "      <td>2770.729980</td>\n",
       "      <td>2784.169922</td>\n",
       "      <td>2784.169922</td>\n",
       "      <td>3050040000</td>\n",
       "      <td>0.882299</td>\n",
       "    </tr>\n",
       "    <tr>\n",
       "      <td>...</td>\n",
       "      <td>...</td>\n",
       "      <td>...</td>\n",
       "      <td>...</td>\n",
       "      <td>...</td>\n",
       "      <td>...</td>\n",
       "      <td>...</td>\n",
       "      <td>...</td>\n",
       "    </tr>\n",
       "    <tr>\n",
       "      <td>2019/6/26</td>\n",
       "      <td>2926.070068</td>\n",
       "      <td>2932.590088</td>\n",
       "      <td>2912.989990</td>\n",
       "      <td>2913.780029</td>\n",
       "      <td>2913.780029</td>\n",
       "      <td>3478130000</td>\n",
       "      <td>-0.123393</td>\n",
       "    </tr>\n",
       "    <tr>\n",
       "      <td>2019/6/27</td>\n",
       "      <td>2919.659912</td>\n",
       "      <td>2929.300049</td>\n",
       "      <td>2918.570068</td>\n",
       "      <td>2924.919922</td>\n",
       "      <td>2924.919922</td>\n",
       "      <td>3122920000</td>\n",
       "      <td>0.382318</td>\n",
       "    </tr>\n",
       "    <tr>\n",
       "      <td>2019/6/28</td>\n",
       "      <td>2932.939941</td>\n",
       "      <td>2943.979980</td>\n",
       "      <td>2929.050049</td>\n",
       "      <td>2941.760010</td>\n",
       "      <td>2941.760010</td>\n",
       "      <td>5420700000</td>\n",
       "      <td>0.575745</td>\n",
       "    </tr>\n",
       "    <tr>\n",
       "      <td>2019/7/1</td>\n",
       "      <td>2971.409912</td>\n",
       "      <td>2977.929932</td>\n",
       "      <td>2952.219971</td>\n",
       "      <td>2964.330078</td>\n",
       "      <td>2964.330078</td>\n",
       "      <td>3513270000</td>\n",
       "      <td>0.767230</td>\n",
       "    </tr>\n",
       "    <tr>\n",
       "      <td>2019/7/2</td>\n",
       "      <td>2964.659912</td>\n",
       "      <td>2969.870117</td>\n",
       "      <td>2955.919922</td>\n",
       "      <td>2962.560059</td>\n",
       "      <td>2962.560059</td>\n",
       "      <td>832294233</td>\n",
       "      <td>-0.059711</td>\n",
       "    </tr>\n",
       "  </tbody>\n",
       "</table>\n",
       "<p>252 rows × 7 columns</p>\n",
       "</div>"
      ],
      "text/plain": [
       "                  Open         High          Low        Close    Adj Close  \\\n",
       "Date                                                                         \n",
       "2018/7/2   2704.949951  2727.260010  2698.949951  2726.709961  2726.709961   \n",
       "2018/7/3   2733.270020  2736.580078  2711.159912  2713.219971  2713.219971   \n",
       "2018/7/5   2724.189941  2737.830078  2716.020020  2736.610107  2736.610107   \n",
       "2018/7/6   2737.679932  2764.409912  2733.520020  2759.820068  2759.820068   \n",
       "2018/7/9   2775.620117  2784.649902  2770.729980  2784.169922  2784.169922   \n",
       "...                ...          ...          ...          ...          ...   \n",
       "2019/6/26  2926.070068  2932.590088  2912.989990  2913.780029  2913.780029   \n",
       "2019/6/27  2919.659912  2929.300049  2918.570068  2924.919922  2924.919922   \n",
       "2019/6/28  2932.939941  2943.979980  2929.050049  2941.760010  2941.760010   \n",
       "2019/7/1   2971.409912  2977.929932  2952.219971  2964.330078  2964.330078   \n",
       "2019/7/2   2964.659912  2969.870117  2955.919922  2962.560059  2962.560059   \n",
       "\n",
       "               Volume  daily return  \n",
       "Date                                 \n",
       "2018/7/2   3073650000           NaN  \n",
       "2018/7/3   1911470000     -0.494735  \n",
       "2018/7/5   2953420000      0.862080  \n",
       "2018/7/6   2554780000      0.848128  \n",
       "2018/7/9   3050040000      0.882299  \n",
       "...               ...           ...  \n",
       "2019/6/26  3478130000     -0.123393  \n",
       "2019/6/27  3122920000      0.382318  \n",
       "2019/6/28  5420700000      0.575745  \n",
       "2019/7/1   3513270000      0.767230  \n",
       "2019/7/2    832294233     -0.059711  \n",
       "\n",
       "[252 rows x 7 columns]"
      ]
     },
     "execution_count": 44,
     "metadata": {},
     "output_type": "execute_result"
    }
   ],
   "source": [
    "df"
   ]
  },
  {
   "cell_type": "markdown",
   "metadata": {},
   "source": [
    "# 找出所有當日上漲的資料\n",
    "\n",
    "建立表頭為 \"是否上漲\" 的一欄（沒錯！表頭可以用中文指定）\n",
    "\n",
    "```python\n",
    "df[\"是否上漲\"] = df[\"daily return\"] > 0\n",
    "df\n",
    "```"
   ]
  },
  {
   "cell_type": "code",
   "execution_count": 45,
   "metadata": {
    "scrolled": false
   },
   "outputs": [
    {
     "data": {
      "text/html": [
       "<div>\n",
       "<style scoped>\n",
       "    .dataframe tbody tr th:only-of-type {\n",
       "        vertical-align: middle;\n",
       "    }\n",
       "\n",
       "    .dataframe tbody tr th {\n",
       "        vertical-align: top;\n",
       "    }\n",
       "\n",
       "    .dataframe thead th {\n",
       "        text-align: right;\n",
       "    }\n",
       "</style>\n",
       "<table border=\"1\" class=\"dataframe\">\n",
       "  <thead>\n",
       "    <tr style=\"text-align: right;\">\n",
       "      <th></th>\n",
       "      <th>Open</th>\n",
       "      <th>High</th>\n",
       "      <th>Low</th>\n",
       "      <th>Close</th>\n",
       "      <th>Adj Close</th>\n",
       "      <th>Volume</th>\n",
       "      <th>daily return</th>\n",
       "      <th>是否上漲</th>\n",
       "    </tr>\n",
       "    <tr>\n",
       "      <th>Date</th>\n",
       "      <th></th>\n",
       "      <th></th>\n",
       "      <th></th>\n",
       "      <th></th>\n",
       "      <th></th>\n",
       "      <th></th>\n",
       "      <th></th>\n",
       "      <th></th>\n",
       "    </tr>\n",
       "  </thead>\n",
       "  <tbody>\n",
       "    <tr>\n",
       "      <td>2018/7/2</td>\n",
       "      <td>2704.949951</td>\n",
       "      <td>2727.260010</td>\n",
       "      <td>2698.949951</td>\n",
       "      <td>2726.709961</td>\n",
       "      <td>2726.709961</td>\n",
       "      <td>3073650000</td>\n",
       "      <td>NaN</td>\n",
       "      <td>False</td>\n",
       "    </tr>\n",
       "    <tr>\n",
       "      <td>2018/7/3</td>\n",
       "      <td>2733.270020</td>\n",
       "      <td>2736.580078</td>\n",
       "      <td>2711.159912</td>\n",
       "      <td>2713.219971</td>\n",
       "      <td>2713.219971</td>\n",
       "      <td>1911470000</td>\n",
       "      <td>-0.494735</td>\n",
       "      <td>False</td>\n",
       "    </tr>\n",
       "    <tr>\n",
       "      <td>2018/7/5</td>\n",
       "      <td>2724.189941</td>\n",
       "      <td>2737.830078</td>\n",
       "      <td>2716.020020</td>\n",
       "      <td>2736.610107</td>\n",
       "      <td>2736.610107</td>\n",
       "      <td>2953420000</td>\n",
       "      <td>0.862080</td>\n",
       "      <td>True</td>\n",
       "    </tr>\n",
       "    <tr>\n",
       "      <td>2018/7/6</td>\n",
       "      <td>2737.679932</td>\n",
       "      <td>2764.409912</td>\n",
       "      <td>2733.520020</td>\n",
       "      <td>2759.820068</td>\n",
       "      <td>2759.820068</td>\n",
       "      <td>2554780000</td>\n",
       "      <td>0.848128</td>\n",
       "      <td>True</td>\n",
       "    </tr>\n",
       "    <tr>\n",
       "      <td>2018/7/9</td>\n",
       "      <td>2775.620117</td>\n",
       "      <td>2784.649902</td>\n",
       "      <td>2770.729980</td>\n",
       "      <td>2784.169922</td>\n",
       "      <td>2784.169922</td>\n",
       "      <td>3050040000</td>\n",
       "      <td>0.882299</td>\n",
       "      <td>True</td>\n",
       "    </tr>\n",
       "    <tr>\n",
       "      <td>...</td>\n",
       "      <td>...</td>\n",
       "      <td>...</td>\n",
       "      <td>...</td>\n",
       "      <td>...</td>\n",
       "      <td>...</td>\n",
       "      <td>...</td>\n",
       "      <td>...</td>\n",
       "      <td>...</td>\n",
       "    </tr>\n",
       "    <tr>\n",
       "      <td>2019/6/26</td>\n",
       "      <td>2926.070068</td>\n",
       "      <td>2932.590088</td>\n",
       "      <td>2912.989990</td>\n",
       "      <td>2913.780029</td>\n",
       "      <td>2913.780029</td>\n",
       "      <td>3478130000</td>\n",
       "      <td>-0.123393</td>\n",
       "      <td>False</td>\n",
       "    </tr>\n",
       "    <tr>\n",
       "      <td>2019/6/27</td>\n",
       "      <td>2919.659912</td>\n",
       "      <td>2929.300049</td>\n",
       "      <td>2918.570068</td>\n",
       "      <td>2924.919922</td>\n",
       "      <td>2924.919922</td>\n",
       "      <td>3122920000</td>\n",
       "      <td>0.382318</td>\n",
       "      <td>True</td>\n",
       "    </tr>\n",
       "    <tr>\n",
       "      <td>2019/6/28</td>\n",
       "      <td>2932.939941</td>\n",
       "      <td>2943.979980</td>\n",
       "      <td>2929.050049</td>\n",
       "      <td>2941.760010</td>\n",
       "      <td>2941.760010</td>\n",
       "      <td>5420700000</td>\n",
       "      <td>0.575745</td>\n",
       "      <td>True</td>\n",
       "    </tr>\n",
       "    <tr>\n",
       "      <td>2019/7/1</td>\n",
       "      <td>2971.409912</td>\n",
       "      <td>2977.929932</td>\n",
       "      <td>2952.219971</td>\n",
       "      <td>2964.330078</td>\n",
       "      <td>2964.330078</td>\n",
       "      <td>3513270000</td>\n",
       "      <td>0.767230</td>\n",
       "      <td>True</td>\n",
       "    </tr>\n",
       "    <tr>\n",
       "      <td>2019/7/2</td>\n",
       "      <td>2964.659912</td>\n",
       "      <td>2969.870117</td>\n",
       "      <td>2955.919922</td>\n",
       "      <td>2962.560059</td>\n",
       "      <td>2962.560059</td>\n",
       "      <td>832294233</td>\n",
       "      <td>-0.059711</td>\n",
       "      <td>False</td>\n",
       "    </tr>\n",
       "  </tbody>\n",
       "</table>\n",
       "<p>252 rows × 8 columns</p>\n",
       "</div>"
      ],
      "text/plain": [
       "                  Open         High          Low        Close    Adj Close  \\\n",
       "Date                                                                         \n",
       "2018/7/2   2704.949951  2727.260010  2698.949951  2726.709961  2726.709961   \n",
       "2018/7/3   2733.270020  2736.580078  2711.159912  2713.219971  2713.219971   \n",
       "2018/7/5   2724.189941  2737.830078  2716.020020  2736.610107  2736.610107   \n",
       "2018/7/6   2737.679932  2764.409912  2733.520020  2759.820068  2759.820068   \n",
       "2018/7/9   2775.620117  2784.649902  2770.729980  2784.169922  2784.169922   \n",
       "...                ...          ...          ...          ...          ...   \n",
       "2019/6/26  2926.070068  2932.590088  2912.989990  2913.780029  2913.780029   \n",
       "2019/6/27  2919.659912  2929.300049  2918.570068  2924.919922  2924.919922   \n",
       "2019/6/28  2932.939941  2943.979980  2929.050049  2941.760010  2941.760010   \n",
       "2019/7/1   2971.409912  2977.929932  2952.219971  2964.330078  2964.330078   \n",
       "2019/7/2   2964.659912  2969.870117  2955.919922  2962.560059  2962.560059   \n",
       "\n",
       "               Volume  daily return   是否上漲  \n",
       "Date                                        \n",
       "2018/7/2   3073650000           NaN  False  \n",
       "2018/7/3   1911470000     -0.494735  False  \n",
       "2018/7/5   2953420000      0.862080   True  \n",
       "2018/7/6   2554780000      0.848128   True  \n",
       "2018/7/9   3050040000      0.882299   True  \n",
       "...               ...           ...    ...  \n",
       "2019/6/26  3478130000     -0.123393  False  \n",
       "2019/6/27  3122920000      0.382318   True  \n",
       "2019/6/28  5420700000      0.575745   True  \n",
       "2019/7/1   3513270000      0.767230   True  \n",
       "2019/7/2    832294233     -0.059711  False  \n",
       "\n",
       "[252 rows x 8 columns]"
      ]
     },
     "execution_count": 45,
     "metadata": {},
     "output_type": "execute_result"
    }
   ],
   "source": [
    "df[\"是否上漲\"] = df[\"daily return\"] > 0\n",
    "df"
   ]
  },
  {
   "cell_type": "markdown",
   "metadata": {},
   "source": [
    "# 過濾出所有當日上漲的資料\n",
    "\n",
    "```python\n",
    "df[df[\"是否上漲\"] == True]\n",
    "```\n"
   ]
  },
  {
   "cell_type": "code",
   "execution_count": 46,
   "metadata": {
    "scrolled": true
   },
   "outputs": [
    {
     "data": {
      "text/html": [
       "<div>\n",
       "<style scoped>\n",
       "    .dataframe tbody tr th:only-of-type {\n",
       "        vertical-align: middle;\n",
       "    }\n",
       "\n",
       "    .dataframe tbody tr th {\n",
       "        vertical-align: top;\n",
       "    }\n",
       "\n",
       "    .dataframe thead th {\n",
       "        text-align: right;\n",
       "    }\n",
       "</style>\n",
       "<table border=\"1\" class=\"dataframe\">\n",
       "  <thead>\n",
       "    <tr style=\"text-align: right;\">\n",
       "      <th></th>\n",
       "      <th>Open</th>\n",
       "      <th>High</th>\n",
       "      <th>Low</th>\n",
       "      <th>Close</th>\n",
       "      <th>Adj Close</th>\n",
       "      <th>Volume</th>\n",
       "      <th>daily return</th>\n",
       "      <th>是否上漲</th>\n",
       "    </tr>\n",
       "    <tr>\n",
       "      <th>Date</th>\n",
       "      <th></th>\n",
       "      <th></th>\n",
       "      <th></th>\n",
       "      <th></th>\n",
       "      <th></th>\n",
       "      <th></th>\n",
       "      <th></th>\n",
       "      <th></th>\n",
       "    </tr>\n",
       "  </thead>\n",
       "  <tbody>\n",
       "    <tr>\n",
       "      <td>2018/7/5</td>\n",
       "      <td>2724.189941</td>\n",
       "      <td>2737.830078</td>\n",
       "      <td>2716.020020</td>\n",
       "      <td>2736.610107</td>\n",
       "      <td>2736.610107</td>\n",
       "      <td>2953420000</td>\n",
       "      <td>0.862080</td>\n",
       "      <td>True</td>\n",
       "    </tr>\n",
       "    <tr>\n",
       "      <td>2018/7/6</td>\n",
       "      <td>2737.679932</td>\n",
       "      <td>2764.409912</td>\n",
       "      <td>2733.520020</td>\n",
       "      <td>2759.820068</td>\n",
       "      <td>2759.820068</td>\n",
       "      <td>2554780000</td>\n",
       "      <td>0.848128</td>\n",
       "      <td>True</td>\n",
       "    </tr>\n",
       "    <tr>\n",
       "      <td>2018/7/9</td>\n",
       "      <td>2775.620117</td>\n",
       "      <td>2784.649902</td>\n",
       "      <td>2770.729980</td>\n",
       "      <td>2784.169922</td>\n",
       "      <td>2784.169922</td>\n",
       "      <td>3050040000</td>\n",
       "      <td>0.882299</td>\n",
       "      <td>True</td>\n",
       "    </tr>\n",
       "    <tr>\n",
       "      <td>2018/7/10</td>\n",
       "      <td>2788.560059</td>\n",
       "      <td>2795.580078</td>\n",
       "      <td>2786.239990</td>\n",
       "      <td>2793.840088</td>\n",
       "      <td>2793.840088</td>\n",
       "      <td>3063850000</td>\n",
       "      <td>0.347327</td>\n",
       "      <td>True</td>\n",
       "    </tr>\n",
       "    <tr>\n",
       "      <td>2018/7/12</td>\n",
       "      <td>2783.139893</td>\n",
       "      <td>2799.219971</td>\n",
       "      <td>2781.530029</td>\n",
       "      <td>2798.290039</td>\n",
       "      <td>2798.290039</td>\n",
       "      <td>2821690000</td>\n",
       "      <td>0.874904</td>\n",
       "      <td>True</td>\n",
       "    </tr>\n",
       "    <tr>\n",
       "      <td>...</td>\n",
       "      <td>...</td>\n",
       "      <td>...</td>\n",
       "      <td>...</td>\n",
       "      <td>...</td>\n",
       "      <td>...</td>\n",
       "      <td>...</td>\n",
       "      <td>...</td>\n",
       "      <td>...</td>\n",
       "    </tr>\n",
       "    <tr>\n",
       "      <td>2019/6/19</td>\n",
       "      <td>2920.550049</td>\n",
       "      <td>2931.739990</td>\n",
       "      <td>2911.429932</td>\n",
       "      <td>2926.459961</td>\n",
       "      <td>2926.459961</td>\n",
       "      <td>3287890000</td>\n",
       "      <td>0.298516</td>\n",
       "      <td>True</td>\n",
       "    </tr>\n",
       "    <tr>\n",
       "      <td>2019/6/20</td>\n",
       "      <td>2949.600098</td>\n",
       "      <td>2958.060059</td>\n",
       "      <td>2931.500000</td>\n",
       "      <td>2954.179932</td>\n",
       "      <td>2954.179932</td>\n",
       "      <td>3905940000</td>\n",
       "      <td>0.947219</td>\n",
       "      <td>True</td>\n",
       "    </tr>\n",
       "    <tr>\n",
       "      <td>2019/6/27</td>\n",
       "      <td>2919.659912</td>\n",
       "      <td>2929.300049</td>\n",
       "      <td>2918.570068</td>\n",
       "      <td>2924.919922</td>\n",
       "      <td>2924.919922</td>\n",
       "      <td>3122920000</td>\n",
       "      <td>0.382318</td>\n",
       "      <td>True</td>\n",
       "    </tr>\n",
       "    <tr>\n",
       "      <td>2019/6/28</td>\n",
       "      <td>2932.939941</td>\n",
       "      <td>2943.979980</td>\n",
       "      <td>2929.050049</td>\n",
       "      <td>2941.760010</td>\n",
       "      <td>2941.760010</td>\n",
       "      <td>5420700000</td>\n",
       "      <td>0.575745</td>\n",
       "      <td>True</td>\n",
       "    </tr>\n",
       "    <tr>\n",
       "      <td>2019/7/1</td>\n",
       "      <td>2971.409912</td>\n",
       "      <td>2977.929932</td>\n",
       "      <td>2952.219971</td>\n",
       "      <td>2964.330078</td>\n",
       "      <td>2964.330078</td>\n",
       "      <td>3513270000</td>\n",
       "      <td>0.767230</td>\n",
       "      <td>True</td>\n",
       "    </tr>\n",
       "  </tbody>\n",
       "</table>\n",
       "<p>134 rows × 8 columns</p>\n",
       "</div>"
      ],
      "text/plain": [
       "                  Open         High          Low        Close    Adj Close  \\\n",
       "Date                                                                         \n",
       "2018/7/5   2724.189941  2737.830078  2716.020020  2736.610107  2736.610107   \n",
       "2018/7/6   2737.679932  2764.409912  2733.520020  2759.820068  2759.820068   \n",
       "2018/7/9   2775.620117  2784.649902  2770.729980  2784.169922  2784.169922   \n",
       "2018/7/10  2788.560059  2795.580078  2786.239990  2793.840088  2793.840088   \n",
       "2018/7/12  2783.139893  2799.219971  2781.530029  2798.290039  2798.290039   \n",
       "...                ...          ...          ...          ...          ...   \n",
       "2019/6/19  2920.550049  2931.739990  2911.429932  2926.459961  2926.459961   \n",
       "2019/6/20  2949.600098  2958.060059  2931.500000  2954.179932  2954.179932   \n",
       "2019/6/27  2919.659912  2929.300049  2918.570068  2924.919922  2924.919922   \n",
       "2019/6/28  2932.939941  2943.979980  2929.050049  2941.760010  2941.760010   \n",
       "2019/7/1   2971.409912  2977.929932  2952.219971  2964.330078  2964.330078   \n",
       "\n",
       "               Volume  daily return  是否上漲  \n",
       "Date                                       \n",
       "2018/7/5   2953420000      0.862080  True  \n",
       "2018/7/6   2554780000      0.848128  True  \n",
       "2018/7/9   3050040000      0.882299  True  \n",
       "2018/7/10  3063850000      0.347327  True  \n",
       "2018/7/12  2821690000      0.874904  True  \n",
       "...               ...           ...   ...  \n",
       "2019/6/19  3287890000      0.298516  True  \n",
       "2019/6/20  3905940000      0.947219  True  \n",
       "2019/6/27  3122920000      0.382318  True  \n",
       "2019/6/28  5420700000      0.575745  True  \n",
       "2019/7/1   3513270000      0.767230  True  \n",
       "\n",
       "[134 rows x 8 columns]"
      ]
     },
     "execution_count": 46,
     "metadata": {},
     "output_type": "execute_result"
    }
   ],
   "source": [
    "df[df[\"是否上漲\"] == True]"
   ]
  },
  {
   "cell_type": "markdown",
   "metadata": {},
   "source": [
    "# 寫入 Excel\n",
    "\n",
    "```python\n",
    "result_df = df[df[\"是否上漲\"] == True]\n",
    "\n",
    "result_df.to_excel(\"stock_report.xlsx\")\n",
    "```\n",
    "\n",
    "補充：[官網教學](https://pandas.pydata.org/pandas-docs/stable/reference/api/pandas.DataFrame.to_excel.html)\n",
    "\n",
    "```python\n",
    "result_df.to_excel(r\"指定儲存 stock_report.xlsx 的路徑\", sheet_name=\"工作表名稱\")\n",
    "```"
   ]
  },
  {
   "cell_type": "code",
   "execution_count": 47,
   "metadata": {},
   "outputs": [],
   "source": [
    "result_df = df[df[\"是否上漲\"] == True]\n",
    "result_df.to_excel(\"stock_report.xlsx\")"
   ]
  },
  {
   "cell_type": "markdown",
   "metadata": {},
   "source": [
    "# 寫入 Excel (xlwings 做法)\n",
    "\n",
    "將 DataFrame 的資料輸入至 Excel，其實還有另一種做法，那就是透過 xlwings:\n",
    "\n",
    "想象一下，將 DataFrame 這個虛擬工作表與欲寫入的 Excel 工作表位置的左上角對應起來：\n",
    "\n",
    "```python\n",
    "import xlwings as xw\n",
    "# 產生新工作簿\n",
    "wb = xw.Book()\n",
    "# 選擇工作表1\n",
    "sheet = wb.sheets[0]\n",
    "# 將 DataFrame 寫入以 A1 為起點 (左上角) 的範圍\n",
    "sheet.range(\"A1\").value = result_df\n",
    "# 設定工作表名稱\n",
    "sheet.name = \"S&P 500 分析報告\"\n",
    "# 儲存檔案\n",
    "wb.save(\"stock_report_xw.xlsx\")\n",
    "```"
   ]
  },
  {
   "cell_type": "code",
   "execution_count": 48,
   "metadata": {},
   "outputs": [],
   "source": [
    "import xlwings as xw\n",
    "# 產生新工作簿\n",
    "wb = xw.Book()"
   ]
  },
  {
   "cell_type": "code",
   "execution_count": 49,
   "metadata": {},
   "outputs": [],
   "source": [
    "# 選擇工作表1\n",
    "sheet = wb.sheets[0]\n",
    "# 將 DataFrame 寫入以 A1 為起點 (左上角) 的範圍\n",
    "sheet.range(\"A1\").value = result_df\n",
    "# 設定工作表名稱\n",
    "sheet.name = \"S&P 500 分析報告\"\n",
    "# 儲存檔案\n",
    "wb.save(\"stock_report_xw.xlsx\")"
   ]
  },
  {
   "cell_type": "markdown",
   "metadata": {},
   "source": [
    "### or, xlwings has a view() function that will open a NEW excel page"
   ]
  },
  {
   "cell_type": "code",
   "execution_count": 50,
   "metadata": {},
   "outputs": [],
   "source": [
    "xw.view(result_df)"
   ]
  },
  {
   "cell_type": "markdown",
   "metadata": {},
   "source": [
    "# pandas vs xlwings 輸出\n",
    "\n",
    "xlwings 的好處在於：\n",
    "1. 可以自由指定寫入的位置\n",
    "2. 可以將 DataFrame 輸出至一個已經存在的工作簿\n",
    "3. 即時顯示的功能，方便使用者查看資料"
   ]
  },
  {
   "cell_type": "markdown",
   "metadata": {},
   "source": [
    "# rolling() 滾動視窗\n",
    "\n",
    "代表從第三個 row 開始，把每一個 row 以及前兩筆資料選起來做運算：\n",
    "\n",
    "```python\n",
    "ser.rolling(3) \n",
    "```\n",
    "\n",
    "從 Excel 的角度來理解：\n",
    "\n",
    "![](https://drive.google.com/uc?export=download&id=1Dy2ikKKZkGfLKUlImVT1npcbXNhWN7zo)\n",
    "\n",
    "但是，在選起來之後，必須針對懸起來的資料做一些運算：\n",
    "\n",
    "```python\n",
    "ser.rolling(3).sum()\n",
    "```\n",
    "\n",
    "代表把每三筆資料加起來的意思，從 Excel 的角度來理解：\n",
    "\n",
    "![](https://drive.google.com/uc?export=download&id=15waPZ_036b4mrkaq1RJuI2pgq037enAN)"
   ]
  },
  {
   "cell_type": "code",
   "execution_count": null,
   "metadata": {
    "scrolled": true
   },
   "outputs": [],
   "source": []
  },
  {
   "cell_type": "markdown",
   "metadata": {},
   "source": [
    "# 計算 3 日移動平均\n",
    "\n",
    "以下可以將選起來的每三筆資料的加總除以 3\n",
    "\n",
    "```python\n",
    "df[\"Adj Close\"].rolling(3).sum() / 3\n",
    "```\n",
    "\n",
    "另外也可以使用 mean() 方法，直接將選擇到的每三筆資料的平均值算出來\n",
    "\n",
    "```python\n",
    "df[\"Adj Close\"].rolling(3).mean()\n",
    "```"
   ]
  },
  {
   "cell_type": "code",
   "execution_count": 51,
   "metadata": {
    "scrolled": true
   },
   "outputs": [
    {
     "data": {
      "text/plain": [
       "Date\n",
       "2018/7/2             NaN\n",
       "2018/7/3             NaN\n",
       "2018/7/5     2725.513346\n",
       "2018/7/6     2736.550049\n",
       "2018/7/9     2760.200032\n",
       "                ...     \n",
       "2019/6/26    2925.503337\n",
       "2019/6/27    2918.693278\n",
       "2019/6/28    2926.819987\n",
       "2019/7/1     2943.670003\n",
       "2019/7/2     2956.216716\n",
       "Name: Adj Close, Length: 252, dtype: float64"
      ]
     },
     "execution_count": 51,
     "metadata": {},
     "output_type": "execute_result"
    }
   ],
   "source": [
    "df[\"Adj Close\"].rolling(3).mean()"
   ]
  },
  {
   "cell_type": "markdown",
   "metadata": {},
   "source": [
    "# 將三日移動平均寫入 DataFrame\n",
    "\n",
    "```python\n",
    "df[\"sma3d\"] = df[\"Adj Close\"].rolling(3).sum() / 3\n",
    "df\n",
    "```"
   ]
  },
  {
   "cell_type": "code",
   "execution_count": null,
   "metadata": {
    "scrolled": true
   },
   "outputs": [],
   "source": []
  },
  {
   "cell_type": "markdown",
   "metadata": {},
   "source": [
    "## apply() 應用\n",
    "\n",
    "將一段運算過程**應用**到每一個 row 的資料\n",
    "\n",
    "以我們目前的 DataFrame 爲例，我們可以利用 **apply()** 計算出三日移動平均\n",
    "\n",
    "1. 先思考一下三日移動平均的算法，將運算過程寫成函數：\n",
    "\n",
    "```python\n",
    "def sma_3d(prices):\n",
    "    return sum(prices) / 3\n",
    "```\n",
    "\n",
    "2. 接下來將其轉換成 lambda 函數：\n",
    "\n",
    "```python\n",
    "lambda prices : sum(prices) / 3\n",
    "```\n",
    "\n",
    "3. 接下來我們就可以將其與 apply() 串接起來使用：\n",
    "\n",
    "```python\n",
    "df[\"Adj Close\"].rolling(3).apply(lambda prices : sum(prices) / 3)\n",
    "```\n",
    "\n",
    "以上代表從第三個 row 開始，把每一個 row 以及前兩筆資料選起來，放入 apply() 内的 lambda 函數做運算\n",
    "\n",
    "**apply()** 的好處是在於給予使用者更大的自由度，無論是多複雜的運算，只要能夠被封裝進函數，就能夠透過 apply() 做運算，語法上也相對簡潔  "
   ]
  },
  {
   "cell_type": "code",
   "execution_count": 52,
   "metadata": {
    "scrolled": true
   },
   "outputs": [],
   "source": [
    "def sma_3d(prices):\n",
    "    return sum(prices) / 3"
   ]
  },
  {
   "cell_type": "code",
   "execution_count": 53,
   "metadata": {},
   "outputs": [
    {
     "data": {
      "text/plain": [
       "<function __main__.<lambda>(prices)>"
      ]
     },
     "execution_count": 53,
     "metadata": {},
     "output_type": "execute_result"
    }
   ],
   "source": [
    "lambda prices : sum(prices) / 3"
   ]
  },
  {
   "cell_type": "code",
   "execution_count": 55,
   "metadata": {},
   "outputs": [
    {
     "data": {
      "text/plain": [
       "Date\n",
       "2018/7/2             NaN\n",
       "2018/7/3             NaN\n",
       "2018/7/5     2725.513346\n",
       "2018/7/6     2736.550049\n",
       "2018/7/9     2760.200032\n",
       "                ...     \n",
       "2019/6/26    2925.503337\n",
       "2019/6/27    2918.693278\n",
       "2019/6/28    2926.819987\n",
       "2019/7/1     2943.670003\n",
       "2019/7/2     2956.216716\n",
       "Name: Adj Close, Length: 252, dtype: float64"
      ]
     },
     "execution_count": 55,
     "metadata": {},
     "output_type": "execute_result"
    }
   ],
   "source": [
    "df[\"Adj Close\"].rolling(3).apply(lambda prices : sum(prices) / 3, raw=True)"
   ]
  },
  {
   "cell_type": "markdown",
   "metadata": {},
   "source": [
    "## 作業：計算 5 日加權移動平均\n",
    "\n",
    "```python\n",
    "import numpy as np\n",
    "\n",
    "w5d = np.arange(1, 6)\n",
    "\n",
    "ser1.rolling(5).apply(lambda _________ : _________ / _________, raw=True)\n",
    "```"
   ]
  },
  {
   "cell_type": "code",
   "execution_count": 60,
   "metadata": {
    "scrolled": true
   },
   "outputs": [
    {
     "data": {
      "text/plain": [
       "Date\n",
       "2018/7/2             NaN\n",
       "2018/7/3             NaN\n",
       "2018/7/5             NaN\n",
       "2018/7/6             NaN\n",
       "2018/7/9     2754.874007\n",
       "                ...     \n",
       "2019/6/26    2928.637988\n",
       "2019/6/27    2924.867969\n",
       "2019/6/28    2928.661979\n",
       "2019/7/1     2940.559342\n",
       "2019/7/2     2950.601367\n",
       "Name: Adj Close, Length: 252, dtype: float64"
      ]
     },
     "execution_count": 60,
     "metadata": {},
     "output_type": "execute_result"
    }
   ],
   "source": [
    "import numpy as np\n",
    "\n",
    "w5d = np.arange(1, 6)\n",
    "ser = df[\"Adj Close\"]\n",
    "ser.rolling(5).apply(lambda prices : sum(prices * w5d) / sum(w5d), raw=True) # 計算5日加權平均:每5筆資料計算一個值 > 權重乘積和/權重"
   ]
  },
  {
   "cell_type": "code",
   "execution_count": null,
   "metadata": {},
   "outputs": [],
   "source": []
  }
 ],
 "metadata": {
  "kernelspec": {
   "display_name": "Python 3",
   "language": "python",
   "name": "python3"
  },
  "language_info": {
   "codemirror_mode": {
    "name": "ipython",
    "version": 3
   },
   "file_extension": ".py",
   "mimetype": "text/x-python",
   "name": "python",
   "nbconvert_exporter": "python",
   "pygments_lexer": "ipython3",
   "version": "3.7.4"
  }
 },
 "nbformat": 4,
 "nbformat_minor": 2
}
