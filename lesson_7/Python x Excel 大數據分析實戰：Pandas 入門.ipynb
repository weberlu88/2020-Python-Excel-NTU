{
 "cells": [
  {
   "cell_type": "markdown",
   "metadata": {},
   "source": [
    "# 資料科學套件\n",
    "\n",
    "\n",
    "# Pandas 簡介\n",
    "\n",
    "提供靈活直觀的資料結構來處理關聯數據和有標籤的數據\n",
    "\n",
    "---\n",
    "# Pandas 提供的資料結構\n",
    "\n",
    "| 名稱 | 描述 |\n",
    "|:--:|:------:|\n",
    "| Series | 可以建立索引的一維陣列       |\n",
    "| DataFrame | 有列索引與欄標籤的二維資料集 |\n",
    "| Panel | 有資料集索引、列索引與欄標籤的三維資料集 |\n",
    "\n",
    "---\n",
    "# 使用 Pandas\n",
    "\n",
    "首先我們用 `import` 引入 pandas，一般慣例上會將它重新命名成 pd: \n",
    "\n",
    "```python\n",
    "import pandas as pd\n",
    "```\n"
   ]
  },
  {
   "cell_type": "code",
   "execution_count": null,
   "metadata": {},
   "outputs": [],
   "source": [
    "import pandas as pd"
   ]
  },
  {
   "cell_type": "markdown",
   "metadata": {},
   "source": [
    "# Series（序列）\n",
    "\n",
    "簡單來說，是一個封裝多筆、一維資料的容器\n",
    "\n",
    "建立一個 series：\n",
    "\n",
    "```python\n",
    "ser = pd.Series([1,2,3,4,5])\n",
    "ser\n",
    "```"
   ]
  },
  {
   "cell_type": "code",
   "execution_count": null,
   "metadata": {},
   "outputs": [],
   "source": []
  },
  {
   "cell_type": "markdown",
   "metadata": {},
   "source": [
    "跑出結果了！發現有兩列數字（columns）\n",
    "\n",
    "- 第一條columns顯示0～4，為index\n",
    "- 第二條就是每個index所對應到的值\n",
    "\n",
    "到此，Series 看起來和 List 很像，只不過是以縱向的形式呈現，但是我們再來看看不一樣的地方"
   ]
  },
  {
   "cell_type": "code",
   "execution_count": null,
   "metadata": {},
   "outputs": [],
   "source": []
  },
  {
   "cell_type": "markdown",
   "metadata": {},
   "source": [
    "# 建立一個 Series\n",
    "\n",
    "將一個裝滿字串的 List 指定給 index 參數：\n",
    "\n",
    "```python\n",
    "ser1 = pd.Series([1,2,3,4,5], index=['a', 'b', 'c', 'd', 'e'])\n",
    "ser1\n",
    "```"
   ]
  },
  {
   "cell_type": "code",
   "execution_count": null,
   "metadata": {},
   "outputs": [],
   "source": []
  },
  {
   "cell_type": "markdown",
   "metadata": {},
   "source": [
    "接下來我們就發現，Series 的每一筆資料的索引(index)都可以被指定一個獨特的標籤"
   ]
  },
  {
   "cell_type": "markdown",
   "metadata": {},
   "source": [
    "# Series\n",
    "\n",
    "\n",
    "其實一個 Series 是由 **標籤 (Index)** 與 **值(Values)** 組成，所以剛才的 series 若從 Excel 的角度來看，可以理解成：\n",
    "\n",
    "![](https://drive.google.com/uc?export=download&id=1G9waSQfNJ3UMrwzYBIUcfbjc6gA_b_fi)\n"
   ]
  },
  {
   "cell_type": "code",
   "execution_count": null,
   "metadata": {},
   "outputs": [],
   "source": []
  },
  {
   "cell_type": "markdown",
   "metadata": {},
   "source": [
    "# 建立 Series\n",
    "Series 的值都是被存在一個**numpy array**中\n",
    "\n",
    "```python\n",
    "ser1.values\n",
    "# array([1, 2, 3, 4, 5], dtype=int64)\n",
    "```"
   ]
  },
  {
   "cell_type": "code",
   "execution_count": null,
   "metadata": {},
   "outputs": [],
   "source": []
  },
  {
   "cell_type": "markdown",
   "metadata": {},
   "source": [
    "# Series\n",
    "Series 的標籤都是被存在一個**numpy Index**物件中\n",
    "\n",
    "```python\n",
    "ser1.index\n",
    "# Index(['a', 'b', 'c', 'd', 'e'], dtype='object')\n",
    "```"
   ]
  },
  {
   "cell_type": "code",
   "execution_count": null,
   "metadata": {},
   "outputs": [],
   "source": []
  },
  {
   "cell_type": "markdown",
   "metadata": {},
   "source": [
    "# 讀取序列内的資料\n",
    "\n",
    "可以使用 iloc 方法：\n",
    "\n",
    "```python\n",
    "ser1.iloc[0]\n",
    "```\n"
   ]
  },
  {
   "cell_type": "code",
   "execution_count": null,
   "metadata": {},
   "outputs": [],
   "source": []
  },
  {
   "cell_type": "markdown",
   "metadata": {},
   "source": [
    "# 切片序列内的資料\n",
    "\n",
    "如同 List，Series 也支援的切片的功能：\n",
    "\n",
    "```python\n",
    "ser.iloc[索引值起點：索引值結束點]\n",
    "```\n",
    "\n",
    "與串列的切片方式一樣\n",
    "\n",
    "\n",
    "\n",
    "請輸入：\n",
    "\n",
    "```python\n",
    "ser1.iloc[0:3]\n",
    "```"
   ]
  },
  {
   "cell_type": "code",
   "execution_count": null,
   "metadata": {},
   "outputs": [],
   "source": []
  },
  {
   "cell_type": "markdown",
   "metadata": {},
   "source": [
    "# 另一種讀取序列資料的方式\n",
    "\n",
    "loc 方法：\n",
    "\n",
    "```python\n",
    "ser1.loc[\"a\"]\n",
    "```"
   ]
  },
  {
   "cell_type": "code",
   "execution_count": null,
   "metadata": {},
   "outputs": [],
   "source": []
  },
  {
   "cell_type": "markdown",
   "metadata": {},
   "source": [
    "# 另一種切片序列資料的方式\n",
    "\n",
    "loc 方法：\n",
    "\n",
    "```python\n",
    "ser1.loc[\"a\":\"c\"]\n",
    "```"
   ]
  },
  {
   "cell_type": "code",
   "execution_count": null,
   "metadata": {},
   "outputs": [],
   "source": []
  },
  {
   "cell_type": "markdown",
   "metadata": {},
   "source": [
    "# .loc vs .iloc\n",
    "\n",
    "- .loc 是透過標籤查找\n",
    "\n",
    "- .iloc 是透過索引值查找"
   ]
  },
  {
   "cell_type": "code",
   "execution_count": null,
   "metadata": {},
   "outputs": [],
   "source": []
  },
  {
   "cell_type": "markdown",
   "metadata": {},
   "source": [
    "# 提取 Series 内的資料\n",
    "\n",
    "提取多筆**不連續**的資料，可以透過指定多個標籤，並將標籤放入 List 内：\n",
    "```python\n",
    "ser1.loc[['a', 'c', 'e']]\n",
    "```"
   ]
  },
  {
   "cell_type": "code",
   "execution_count": null,
   "metadata": {},
   "outputs": [],
   "source": []
  },
  {
   "cell_type": "markdown",
   "metadata": {},
   "source": [
    "# 提取 Series 内的資料\n",
    "\n",
    "提取多筆不連續的資料也可以透過指定多筆數字的**索引值((\n",
    "\n",
    "```python\n",
    "ser1.iloc[[0, 2, 4]]\n",
    "```"
   ]
  },
  {
   "cell_type": "code",
   "execution_count": null,
   "metadata": {},
   "outputs": [],
   "source": []
  },
  {
   "cell_type": "markdown",
   "metadata": {},
   "source": [
    "# Series 一些常用的功能\n",
    "\n",
    "加總：\n",
    "\n",
    "```python\n",
    "ser1.sum()\n",
    "```\n",
    "最大：\n",
    "```python\n",
    "ser1.max()\n",
    "```\n",
    "最小：\n",
    "```python\n",
    "ser1.min()\n",
    "```\n",
    "平均：\n",
    "```python\n",
    "ser1.mean()\n",
    "```\n",
    "標準差：\n",
    "\n",
    "```python\n",
    "ser1.std()\n",
    "```"
   ]
  },
  {
   "cell_type": "code",
   "execution_count": null,
   "metadata": {},
   "outputs": [],
   "source": []
  },
  {
   "cell_type": "markdown",
   "metadata": {},
   "source": [
    "# cumsum() 纍加\n",
    "\n",
    "名稱是英文 cumulative summation 的縮寫，代表將資料由上而下的纍加：\n",
    "\n",
    "```python\n",
    "ser1.cumsum()\n",
    "```\n",
    "\n",
    "官方文件：[連結](https://pandas.pydata.org/pandas-docs/stable/reference/api/pandas.DataFrame.cumsum.html)"
   ]
  },
  {
   "cell_type": "code",
   "execution_count": null,
   "metadata": {},
   "outputs": [],
   "source": []
  },
  {
   "cell_type": "markdown",
   "metadata": {},
   "source": [
    "# cumprod() 纍乘\n",
    "\n",
    "名稱是英文 cumulative product 的縮寫，代表將資料由上而下的纍乘：\n",
    "\n",
    "```python\n",
    "ser1.cumprod()\n",
    "```"
   ]
  },
  {
   "cell_type": "code",
   "execution_count": null,
   "metadata": {},
   "outputs": [],
   "source": []
  },
  {
   "cell_type": "markdown",
   "metadata": {},
   "source": [
    "# Series 更新現有的值\n",
    "```python\n",
    "ser1.loc['a'] = 8\n",
    "ser1\n",
    "```"
   ]
  },
  {
   "cell_type": "code",
   "execution_count": null,
   "metadata": {},
   "outputs": [],
   "source": []
  },
  {
   "cell_type": "markdown",
   "metadata": {},
   "source": [
    "# Series 更新多筆值\n",
    "```python\n",
    "ser1.loc[\"b\":\"d\"] = [9, 10, 11]\n",
    "ser1\n",
    "```\n",
    "\n",
    "需要注意的是，和用索引值切片不一樣的是，用 key 切片**會包含結束點自己 (也就是 key 所對應的值)**"
   ]
  },
  {
   "cell_type": "code",
   "execution_count": null,
   "metadata": {},
   "outputs": [],
   "source": []
  },
  {
   "cell_type": "markdown",
   "metadata": {},
   "source": [
    "# 刪除 Series 内的資料\n",
    "\n",
    "```python\n",
    "ser1.drop(labels='a')\n",
    "```"
   ]
  },
  {
   "cell_type": "code",
   "execution_count": null,
   "metadata": {},
   "outputs": [],
   "source": []
  },
  {
   "cell_type": "markdown",
   "metadata": {},
   "source": [
    "# 刪除多筆 Series 内的資料\n",
    "\n",
    "```python\n",
    "ser1.drop(labels=['b', 'c', 'd'])\n",
    "```\n"
   ]
  },
  {
   "cell_type": "code",
   "execution_count": null,
   "metadata": {},
   "outputs": [],
   "source": []
  },
  {
   "cell_type": "markdown",
   "metadata": {},
   "source": [
    "# 透過 dict 宣告 Series\n",
    "\n",
    "```python\n",
    "# series 每一個 index 都會對映到一個 value \n",
    "data = {\n",
    "    'a': 1,\n",
    "    'b': 3,\n",
    "    'c': 5,\n",
    "    'd': 7,\n",
    "    'e': 9\n",
    "}\n",
    "\n",
    "pd.Series(data)\n",
    "```"
   ]
  },
  {
   "cell_type": "code",
   "execution_count": null,
   "metadata": {},
   "outputs": [],
   "source": []
  },
  {
   "cell_type": "markdown",
   "metadata": {},
   "source": [
    "# 小結\n",
    "\n",
    "- Series 適合處理一維的資料\n",
    "- Series 的 index 可以被指定**獨特的標籤（這點與 Dictionary 十分類似）**\n",
    "- Series 可以被看作是一個**有序的字典 (dict)**\n"
   ]
  },
  {
   "cell_type": "code",
   "execution_count": null,
   "metadata": {},
   "outputs": [],
   "source": []
  },
  {
   "cell_type": "markdown",
   "metadata": {},
   "source": [
    "# 與 Numpy 的整合\n",
    "\n",
    "```python\n",
    "import numpy as np\n",
    "\n",
    "pd.Series(np.arange(5))\n",
    "```"
   ]
  },
  {
   "cell_type": "code",
   "execution_count": null,
   "metadata": {},
   "outputs": [],
   "source": [
    "import numpy as np"
   ]
  },
  {
   "cell_type": "markdown",
   "metadata": {},
   "source": [
    "# 與 Numpy 的整合\n",
    "\n",
    "```python\n",
    "even_num = np.arange(2, 11, 2)\n",
    "\n",
    "pd.Series(even_num)\n",
    "```"
   ]
  },
  {
   "cell_type": "code",
   "execution_count": null,
   "metadata": {},
   "outputs": [],
   "source": []
  },
  {
   "cell_type": "markdown",
   "metadata": {},
   "source": [
    "# 產生亂數 Series\n",
    "\n",
    "```python\n",
    "import numpy as np\n",
    "rand_array = np.random.rand(10)\n",
    "pd.Series(rand_array)\n",
    "```\n",
    "或是\n",
    "```python\n",
    "pd.Series(np.random.rand(5))\n",
    "```"
   ]
  },
  {
   "cell_type": "code",
   "execution_count": null,
   "metadata": {
    "scrolled": true
   },
   "outputs": [],
   "source": []
  },
  {
   "cell_type": "markdown",
   "metadata": {},
   "source": [
    "# head(), tail(), take()\n",
    "\n",
    "```python\n",
    "# 用 head 查詢前五筆資料\n",
    "ser2.head()\n",
    "\n",
    "# 用 tail 查詢後三筆資料\n",
    "ser2.tail(3)\n",
    "\n",
    "# 用 take 指定查詢索引值為 2, 4, 0 的資料\n",
    "ser2.take([1, 6, 5])\n",
    "```\n"
   ]
  },
  {
   "cell_type": "code",
   "execution_count": null,
   "metadata": {},
   "outputs": [],
   "source": []
  },
  {
   "cell_type": "markdown",
   "metadata": {},
   "source": [
    "# Series.isin\n",
    "\n",
    "檢查輸入的資料是否在 series 裡面\n",
    "```python\n",
    "ser2.isin([3, 5])\n",
    "```"
   ]
  },
  {
   "cell_type": "code",
   "execution_count": null,
   "metadata": {},
   "outputs": [],
   "source": []
  },
  {
   "cell_type": "markdown",
   "metadata": {},
   "source": [
    "# Series 的逐元運算\n",
    "\n",
    "語法上與 Numpy 的逐元素運算一樣\n",
    "\n",
    "```python\n",
    "ser2 * 2\n",
    "```"
   ]
  },
  {
   "cell_type": "code",
   "execution_count": null,
   "metadata": {},
   "outputs": [],
   "source": []
  },
  {
   "cell_type": "markdown",
   "metadata": {},
   "source": [
    "# Series 的逐元運算\n",
    "\n",
    "讓每一筆資料都去和 3 做比較\n",
    "\n",
    "```python\n",
    "ser2 > 3\n",
    "```\n",
    "\n",
    "注意比較式的逐元素運算會產生一個 Boolean 的 Series"
   ]
  },
  {
   "cell_type": "code",
   "execution_count": null,
   "metadata": {},
   "outputs": [],
   "source": []
  },
  {
   "cell_type": "markdown",
   "metadata": {},
   "source": [
    "# Series 的逐元運算\n",
    "\n",
    "若希望 Series 能夠有類似 filter() 函數的過濾功能，需要將剛才產生的 Boolean Series 套回到原本的 Series\n",
    "\n",
    "```python\n",
    "ser2[ser2 > 3]\n",
    "```\n",
    "\n",
    "可以想象成把**比較結果為 True 的資料切片出來**的概念"
   ]
  },
  {
   "cell_type": "code",
   "execution_count": null,
   "metadata": {},
   "outputs": [],
   "source": []
  },
  {
   "cell_type": "markdown",
   "metadata": {},
   "source": [
    "# 隨堂練習：\n",
    "\n",
    "以下是每一位復仇者聯盟成員的名稱與年齡：\n",
    "\n",
    "```python\n",
    "avengers = {\n",
    "    \"ironman\": 46,\n",
    "    \"captainamerica\": 99,\n",
    "    \"blackwidow\": 37,\n",
    "    \"thor\": 430,\n",
    "    \"hulk\": 42,\n",
    "    \"spiderman\": 15,\n",
    "    \"blackpanther\": 39\n",
    "}\n",
    "\n",
    "ser_age = pd.Series(avengers, index = avengers.keys())\n",
    "```\n",
    "\n",
    "請計算所有復仇者在五年前的歲數"
   ]
  },
  {
   "cell_type": "code",
   "execution_count": null,
   "metadata": {},
   "outputs": [],
   "source": []
  },
  {
   "cell_type": "markdown",
   "metadata": {},
   "source": [
    "# DataFrame（資料框架）\n",
    "- 表格型資料結構 (可以想像成是一個**虛擬的 Excel 試算表**)\n",
    "- 實際上是由多個 Series 組合起來的資料結構\n",
    "- 適用於封裝/處理二維的資料\n",
    "\n",
    "```python\n",
    "import pandas as pd\n",
    "```\n",
    "\n",
    "# 來建立一個 DataFrame\n",
    "\n",
    "```python\n",
    "avengers = {\n",
    "    \"name\": [\"ironman\",\"captainamerica\",\"blackwidow\",\"thor\",\"hulk\",\"spiderman\", \"blackpanther\"],\n",
    "    \"age\": [48, 100, 33, 430, 48, 15, 39],\n",
    "    \"superpower\": [False, True, False, True, True, True, False]\n",
    "}\n",
    "\n",
    "df = pd.DataFrame(avengers)\n",
    "print(type(df))\n",
    "print(df.info)\n",
    "```"
   ]
  },
  {
   "cell_type": "code",
   "execution_count": null,
   "metadata": {},
   "outputs": [],
   "source": []
  },
  {
   "cell_type": "markdown",
   "metadata": {},
   "source": [
    "# describe()\n",
    "計算 \n",
    "```python\n",
    "df.describe()\n",
    "```\n"
   ]
  },
  {
   "cell_type": "code",
   "execution_count": null,
   "metadata": {},
   "outputs": [],
   "source": []
  },
  {
   "cell_type": "markdown",
   "metadata": {},
   "source": [
    "# DataFrame\n",
    "\n",
    "```python\n",
    "df = pd.DataFrame(avengers, columns = [\"name\", \"age\", \"superpower\"]) # 指定欄標籤排序\n",
    "```"
   ]
  },
  {
   "cell_type": "code",
   "execution_count": null,
   "metadata": {},
   "outputs": [],
   "source": []
  },
  {
   "cell_type": "markdown",
   "metadata": {},
   "source": [
    "# head(), tail()\n",
    "```python\n",
    "# 找出最前面的5筆資料\n",
    "df.head()\n",
    "\n",
    "# 找出最前面的3筆資料\n",
    "df.head(3)\n",
    "\n",
    "# 找出最後面的5筆資料\n",
    "df.tail()\n",
    "\n",
    "# 找出最後面的3筆資料\n",
    "df.tail(3)\n",
    "```"
   ]
  },
  {
   "cell_type": "code",
   "execution_count": null,
   "metadata": {},
   "outputs": [],
   "source": []
  },
  {
   "cell_type": "markdown",
   "metadata": {},
   "source": [
    "# 新增一欄資料\n",
    "\n",
    "```python\n",
    "# 可以用現有欄的資料算出\n",
    "df['age_2_yr_ago'] = df['age'] - 2\n",
    "```"
   ]
  },
  {
   "cell_type": "code",
   "execution_count": null,
   "metadata": {},
   "outputs": [],
   "source": []
  },
  {
   "cell_type": "markdown",
   "metadata": {},
   "source": [
    "# 新增一欄資料\n",
    "\n",
    "```python\n",
    "# 直接用 List 指定\n",
    "df['weapon'] = [\"armor\", \"shield\", \"taser\", \"hammer\", \"himself\", \"web\", \"claws\"]\n",
    "```"
   ]
  },
  {
   "cell_type": "code",
   "execution_count": null,
   "metadata": {},
   "outputs": [],
   "source": []
  },
  {
   "cell_type": "markdown",
   "metadata": {},
   "source": [
    "# 若要把其中一欄的資料讀取出來\n",
    "\n",
    "```python\n",
    "df['age']\n",
    "```\n",
    "或是\n",
    "```python\n",
    "df.age\n",
    "```\n"
   ]
  },
  {
   "cell_type": "code",
   "execution_count": null,
   "metadata": {},
   "outputs": [],
   "source": []
  },
  {
   "cell_type": "markdown",
   "metadata": {},
   "source": [
    "# 若我想用條件選擇出一些資料\n",
    "選出年齡低於 50 的復仇者\n",
    "\n",
    "```python\n",
    "# 產生出一個由布林值構成的 series\n",
    "age_filter = df['age'] < 50\n",
    "print(age_filter)\n",
    "# 再將該 series 套回到 DataFrame\n",
    "df[age_filter]\n",
    "```"
   ]
  },
  {
   "cell_type": "code",
   "execution_count": null,
   "metadata": {},
   "outputs": [],
   "source": []
  },
  {
   "cell_type": "markdown",
   "metadata": {},
   "source": [
    "# 若我想用條件選擇出一些資料\n",
    "可以把 code 簡化成:\n",
    "\n",
    "```python\n",
    "df[df['age'] > 50]\n",
    "```"
   ]
  },
  {
   "cell_type": "code",
   "execution_count": null,
   "metadata": {},
   "outputs": [],
   "source": []
  },
  {
   "cell_type": "markdown",
   "metadata": {},
   "source": [
    "# 選擇資料\n",
    "\n",
    "```python\n",
    "age_filter = df['age'] < 50\n",
    "young_avengers_df = df[age_filter]\n",
    "super_filter = young_avengers_df['superpower'] == True\n",
    "young_avengers_df[super_filter]\n",
    "```"
   ]
  },
  {
   "cell_type": "code",
   "execution_count": null,
   "metadata": {},
   "outputs": [],
   "source": []
  },
  {
   "cell_type": "markdown",
   "metadata": {},
   "source": [
    "# 另一種寫法...\n",
    "\n",
    "| 邏輯運算 | Pandas 語法 | \n",
    "|:--:|:------:|\n",
    "| and | &     |\n",
    "| or | |      |\n",
    "| not | ~     |\n",
    "\n",
    "\n",
    "所以我們可以用 & 符號結合上面兩者的搜尋結果：\n",
    "```python \n",
    "(df['age'] <= 50) & (df['superpower'] == False)\n",
    "```\n",
    "\n",
    "最後就可以搜尋出符合兩個條件的結果了：\n",
    "```python\n",
    "df[(df['age'] <= 50) & (df['superpower'] == False)]\n",
    "```"
   ]
  },
  {
   "cell_type": "code",
   "execution_count": null,
   "metadata": {},
   "outputs": [],
   "source": []
  },
  {
   "cell_type": "markdown",
   "metadata": {},
   "source": [
    "# Pandas 實戰專題：判斷股價漲跌\n",
    "\n",
    "利用 DataFrame 判斷漲跌：\n",
    "\n",
    "1. 計算出 S&P 500 歷史資料的報酬率\n",
    "2. 畫出走勢圖\n",
    "3. 判斷是否為上漲\n",
    "4. 最後把當天是上漲的股價資料過濾出來\n",
    "5. 匯出成 Excel 檔案\n",
    "\n",
    "---\n",
    "# 範例 CSV 檔\n",
    "\n",
    "[範例 CSV 檔](https://www.dropbox.com/s/by2hfjhm07kkhbj/s%26p500.csv?dl=1)\n",
    "\n",
    "---\n",
    "# 將工作表的資料提取出來，存入 Dataframe\n",
    "\n",
    "```python\n",
    "import pandas as pd\n",
    "\n",
    "df = pd.read_csv(r\"你的 s&p500.csv 檔案路徑\")\n",
    "df\n",
    "```\n",
    "\n",
    "補充：[官網教學](https://pandas.pydata.org/pandas-docs/stable/reference/api/pandas.read_excel.html)\n"
   ]
  },
  {
   "cell_type": "code",
   "execution_count": null,
   "metadata": {
    "scrolled": true
   },
   "outputs": [],
   "source": []
  },
  {
   "cell_type": "markdown",
   "metadata": {},
   "source": [
    "# 改變 DataFrame 的 row index\n",
    "\n",
    "```python\n",
    "# 以 csv 第一欄的 Date 作爲索引\n",
    "df = pd.read_csv(r\"你的 s&p500.csv 檔案路徑\", index_col=\"Date\", parse_dates=True)\n",
    "df\n",
    "```"
   ]
  },
  {
   "cell_type": "code",
   "execution_count": null,
   "metadata": {},
   "outputs": [],
   "source": []
  },
  {
   "cell_type": "markdown",
   "metadata": {},
   "source": [
    "# 繪製走勢圖功能\n",
    "\n",
    "讀取收盤價\n",
    "\n",
    "```python\n",
    "# 讀取 Adj Close 這一欄，回傳一個 Series\n",
    "df[\"Adj Close\"]\n",
    "```"
   ]
  },
  {
   "cell_type": "code",
   "execution_count": null,
   "metadata": {
    "scrolled": true
   },
   "outputs": [],
   "source": []
  },
  {
   "cell_type": "markdown",
   "metadata": {},
   "source": [
    "# 畫出走勢圖\n",
    "\n",
    "```python\n",
    "# 從 Dataframe 截取收盤價，畫出走勢圖 \n",
    "plt = df[\"Adj Close\"].plot()\n",
    "plt.set_xlabel(\"Time\")\n",
    "plt.set_ylabel(\"Price\")\n",
    "plt.set_title(\"S&P 500 Closing Prices\")\n",
    "```"
   ]
  },
  {
   "cell_type": "code",
   "execution_count": null,
   "metadata": {},
   "outputs": [],
   "source": []
  },
  {
   "cell_type": "markdown",
   "metadata": {},
   "source": [
    "# 計算報酬率\n",
    "**pct_change()** 函數會幫你計算每一個 row 之間數值的差距，並以百分比的形式呈現出來：\n",
    "\n",
    "```python\n",
    "df[\"Adj Close\"].pct_change(1) * 100\n",
    "```\n",
    "\n",
    "補充：[官網教學](https://pandas.pydata.org/pandas-docs/version/0.23.4/generated/pandas.DataFrame.pct_change.html)"
   ]
  },
  {
   "cell_type": "code",
   "execution_count": null,
   "metadata": {
    "scrolled": true
   },
   "outputs": [],
   "source": []
  },
  {
   "cell_type": "markdown",
   "metadata": {},
   "source": [
    "# 將結果寫入 DataFrame\n",
    "\n",
    "```python\n",
    "df[\"daily return\"] = df[\"Adj Close\"].pct_change(1) * 100\n",
    "```\n"
   ]
  },
  {
   "cell_type": "code",
   "execution_count": null,
   "metadata": {
    "scrolled": true
   },
   "outputs": [],
   "source": []
  },
  {
   "cell_type": "markdown",
   "metadata": {},
   "source": [
    "# 找出所有當日上漲的資料\n",
    "\n",
    "建立表頭為 \"是否上漲\" 的一欄（沒錯！表頭可以用中文指定）\n",
    "\n",
    "```python\n",
    "df[\"是否上漲\"] = df[\"daily return\"] > 0\n",
    "df\n",
    "```"
   ]
  },
  {
   "cell_type": "code",
   "execution_count": null,
   "metadata": {
    "scrolled": true
   },
   "outputs": [],
   "source": []
  },
  {
   "cell_type": "markdown",
   "metadata": {},
   "source": [
    "# 過濾出所有當日上漲的資料\n",
    "\n",
    "```python\n",
    "df[df[\"是否上漲\"] == True]\n",
    "```\n"
   ]
  },
  {
   "cell_type": "code",
   "execution_count": null,
   "metadata": {
    "scrolled": true
   },
   "outputs": [],
   "source": []
  },
  {
   "cell_type": "markdown",
   "metadata": {},
   "source": [
    "# 寫入 Excel\n",
    "\n",
    "```python\n",
    "result_df = df[df[\"是否上漲\"] == True]\n",
    "\n",
    "result_df.to_excel(\"stock_report.xlsx\")\n",
    "```\n",
    "\n",
    "補充：[官網教學](https://pandas.pydata.org/pandas-docs/stable/reference/api/pandas.DataFrame.to_excel.html)\n",
    "\n",
    "```python\n",
    "result_df.to_excel(r\"指定儲存 stock_report.xlsx 的路徑\", sheet_name=\"工作表名稱\")\n",
    "```"
   ]
  },
  {
   "cell_type": "code",
   "execution_count": null,
   "metadata": {},
   "outputs": [],
   "source": []
  },
  {
   "cell_type": "markdown",
   "metadata": {},
   "source": [
    "# 寫入 Excel (xlwings 做法)\n",
    "\n",
    "將 DataFrame 的資料輸入至 Excel，其實還有另一種做法，那就是透過 xlwings:\n",
    "\n",
    "想象一下，將 DataFrame 這個虛擬工作表與欲寫入的 Excel 工作表位置的左上角對應起來：\n",
    "\n",
    "```python\n",
    "import xlwings as xw\n",
    "# 產生新工作簿\n",
    "wb = xw.Book()\n",
    "# 選擇工作表1\n",
    "sheet = wb.sheets[0]\n",
    "# 將 DataFrame 寫入以 A1 為起點 (左上角) 的範圍\n",
    "sheet.range(\"A1\").value = result_df\n",
    "# 設定工作表名稱\n",
    "sheet.name = \"S&P 500 分析報告\"\n",
    "# 儲存檔案\n",
    "wb.save(\"stock_report_xw.xlsx\")\n",
    "```"
   ]
  },
  {
   "cell_type": "code",
   "execution_count": null,
   "metadata": {},
   "outputs": [],
   "source": []
  },
  {
   "cell_type": "markdown",
   "metadata": {},
   "source": [
    "# pandas vs xlwings 輸出\n",
    "\n",
    "xlwings 的好處在於：\n",
    "1. 可以自由指定寫入的位置\n",
    "2. 可以將 DataFrame 輸出至一個已經存在的工作簿\n",
    "3. 即時顯示的功能，方便使用者查看資料"
   ]
  },
  {
   "cell_type": "markdown",
   "metadata": {},
   "source": [
    "# rolling() 滾動視窗\n",
    "\n",
    "代表從第三個 row 開始，把每一個 row 以及前兩筆資料選起來做運算：\n",
    "\n",
    "```python\n",
    "ser.rolling(3) \n",
    "```\n",
    "\n",
    "從 Excel 的角度來理解：\n",
    "\n",
    "![](https://drive.google.com/uc?export=download&id=1Dy2ikKKZkGfLKUlImVT1npcbXNhWN7zo)\n",
    "\n",
    "但是，在選起來之後，必須針對懸起來的資料做一些運算：\n",
    "\n",
    "```python\n",
    "ser.rolling(3).sum()\n",
    "```\n",
    "\n",
    "代表把每三筆資料加起來的意思，從 Excel 的角度來理解：\n",
    "\n",
    "![](https://drive.google.com/uc?export=download&id=15waPZ_036b4mrkaq1RJuI2pgq037enAN)"
   ]
  },
  {
   "cell_type": "code",
   "execution_count": null,
   "metadata": {
    "scrolled": true
   },
   "outputs": [],
   "source": []
  },
  {
   "cell_type": "markdown",
   "metadata": {},
   "source": [
    "# 計算 3 日移動平均\n",
    "\n",
    "以下可以將選起來的每三筆資料的加總除以 3\n",
    "\n",
    "```python\n",
    "df[\"Adj Close\"].rolling(3).sum() / 3\n",
    "```\n",
    "\n",
    "另外也可以使用 mean() 方法，直接將選擇到的每三筆資料的平均值算出來\n",
    "\n",
    "```python\n",
    "df[\"Adj Close\"].rolling(3).mean()\n",
    "```"
   ]
  },
  {
   "cell_type": "code",
   "execution_count": null,
   "metadata": {
    "scrolled": true
   },
   "outputs": [],
   "source": []
  },
  {
   "cell_type": "markdown",
   "metadata": {},
   "source": [
    "# 將三日移動平均寫入 DataFrame\n",
    "\n",
    "```python\n",
    "df[\"sma3d\"] = df[\"Adj Close\"].rolling(3).sum() / 3\n",
    "df\n",
    "```"
   ]
  },
  {
   "cell_type": "code",
   "execution_count": null,
   "metadata": {
    "scrolled": true
   },
   "outputs": [],
   "source": []
  },
  {
   "cell_type": "markdown",
   "metadata": {},
   "source": [
    "## apply() 應用\n",
    "\n",
    "將一段運算過程**應用**到每一個 row 的資料\n",
    "\n",
    "以我們目前的 DataFrame 爲例，我們可以利用 **apply()** 計算出三日移動平均\n",
    "\n",
    "1. 先思考一下三日移動平均的算法，將運算過程寫成函數：\n",
    "\n",
    "```python\n",
    "def sma_3d(prices):\n",
    "    return sum(prices) / 3\n",
    "```\n",
    "\n",
    "2. 接下來將其轉換成 lambda 函數：\n",
    "\n",
    "```python\n",
    "lambda prices : sum(prices) / 3\n",
    "```\n",
    "\n",
    "3. 接下來我們就可以將其與 apply() 串接起來使用：\n",
    "\n",
    "```python\n",
    "df[\"Adj Close\"].rolling(3).apply(lambda prices : sum(prices) / 3)\n",
    "```\n",
    "\n",
    "以上代表從第三個 row 開始，把每一個 row 以及前兩筆資料選起來，放入 apply() 内的 lambda 函數做運算\n",
    "\n",
    "**apply()** 的好處是在於給予使用者更大的自由度，無論是多複雜的運算，只要能夠被封裝進函數，就能夠透過 apply() 做運算，語法上也相對簡潔  "
   ]
  },
  {
   "cell_type": "code",
   "execution_count": null,
   "metadata": {
    "scrolled": true
   },
   "outputs": [],
   "source": []
  },
  {
   "cell_type": "markdown",
   "metadata": {},
   "source": [
    "## 作業：計算 5 日加權移動平均\n",
    "\n",
    "```python\n",
    "import numpy as np\n",
    "\n",
    "w5d = np.arange(1, 6)\n",
    "\n",
    "ser1.rolling(5).apply(lambda _________ : _________ / _________, raw=True)\n",
    "```"
   ]
  },
  {
   "cell_type": "code",
   "execution_count": null,
   "metadata": {
    "scrolled": true
   },
   "outputs": [],
   "source": []
  }
 ],
 "metadata": {
  "kernelspec": {
   "display_name": "Python 3",
   "language": "python",
   "name": "python3"
  },
  "language_info": {
   "codemirror_mode": {
    "name": "ipython",
    "version": 3
   },
   "file_extension": ".py",
   "mimetype": "text/x-python",
   "name": "python",
   "nbconvert_exporter": "python",
   "pygments_lexer": "ipython3",
   "version": "3.7.3"
  }
 },
 "nbformat": 4,
 "nbformat_minor": 2
}
