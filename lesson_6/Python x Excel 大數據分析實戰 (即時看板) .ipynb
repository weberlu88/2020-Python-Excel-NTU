{
 "cells": [
  {
   "cell_type": "markdown",
   "metadata": {},
   "source": [
    "# 台股及時看板\n",
    "\n",
    "最後我們就發揮我們在過去所學，利用 **Excel、Python**、以及股價 **fugle Web API** 來打造一個及台股即時看板： \n",
    "\n",
    "完成品影片：https://youtu.be/Gd_bQTRUrzQ\n",
    "\n",
    "[![IMAGE ALT TEXT HERE](https://img.youtube.com/vi/Gd_bQTRUrzQ/0.jpg)](https://www.youtube.com/watch?v=Gd_bQTRUrzQ)\n",
    "\n",
    "\n",
    "## 目標\n",
    "\n",
    "該即時看板應該具備以下功能：\n",
    "\n",
    "1. 顯示即時股價\n",
    "2. 顯示即時股價的走勢圖\n",
    "3. 允許使用者選擇不同的股票\n",
    "4. 能夠判斷交易條件並且即時通知使用者的功能\n"
   ]
  },
  {
   "cell_type": "code",
   "execution_count": null,
   "metadata": {},
   "outputs": [],
   "source": [
    "import xlwings as xw\n",
    "\n",
    "wb = xw.Book(r\"dashboard.xlsx\")\n",
    "wb"
   ]
  },
  {
   "cell_type": "markdown",
   "metadata": {},
   "source": [
    "## 1. 顯示即時的股價\n",
    "\n",
    "fugle 即時股價 API 教學請參考：https://developer.fugle.tw/realtime/document\n",
    "\n",
    "![](https://drive.google.com/uc?export=download&id=161WgYDildws9AJMNaT8Oha0VdJXmYUy_)"
   ]
  },
  {
   "cell_type": "code",
   "execution_count": null,
   "metadata": {
    "scrolled": true
   },
   "outputs": [],
   "source": [
    "# 將 portfolio 工作表存入 port_sheet\n",
    "watch_list = wb.sheets[\"觀察清單\"]\n",
    "watch_list"
   ]
  },
  {
   "cell_type": "code",
   "execution_count": null,
   "metadata": {},
   "outputs": [],
   "source": [
    "# 截取玉山個股的基本資訊\n",
    "import requests\n",
    "\n",
    "payload = {\n",
    "    \"symbolId\": \"2884\",\n",
    "    \"apiToken\": \"demo\"\n",
    "}\n",
    "\n",
    "res = requests.get(\"https://api.fugle.tw/realtime/v0/intraday/meta\", params=payload)\n",
    "res.json()"
   ]
  },
  {
   "cell_type": "markdown",
   "metadata": {},
   "source": [
    "# 但是我們需要把截取到的資料寫入到工作表内\n",
    "\n",
    "回顧一下第一課的教材，若要一次將多筆資料寫入到一個工作表的範圍内，我們可以先將所有資料都封裝到一個串列内\n",
    "\n",
    "我們可以先觀察需要寫入的範圍的大小：\n",
    "\n",
    "![](https://drive.google.com/uc?export=download&id=14V9m9pqMuAbcTfkdKWuuCSTSRku5IFRF)\n",
    "\n",
    "**B2:I2** 是一個 1 x 8 大小的範圍\n",
    "\n",
    "在這樣的狀況下，我們必須透過 Python 把資料變成以下格式：\n",
    "\n",
    "```python\n",
    "['玉山金', 27.15, 27.25, 27.15, 27.25, 27.05]\n",
    "```\n",
    "\n",
    "開高低收的資料都不難取得，但是股票中文簡稱和昨日收盤價呢？\n",
    "\n",
    "這時我們就可以把 `fulge api` 的 `meta` 拿出來使用 "
   ]
  },
  {
   "cell_type": "code",
   "execution_count": null,
   "metadata": {},
   "outputs": [],
   "source": [
    "import requests\n",
    "\n",
    "payload = {\n",
    "    \"symbolId\": \"2884\",\n",
    "    \"apiToken\": \"demo\"\n",
    "}\n",
    "\n",
    "res = requests.get(\"https://api.fugle.tw/realtime/v0/intraday/meta\", params=payload)\n",
    "\n",
    "json_data = res.json()\n",
    "data = json_data[\"data\"][\"meta\"]\n",
    "\n",
    "data[\"nameZhTw\"]"
   ]
  },
  {
   "cell_type": "markdown",
   "metadata": {},
   "source": [
    "# 改寫一下我們之前打造的 fugle_stock_crawler\n",
    "\n",
    "```python\n",
    "def fugle_stock_crawler(stock_id, api_token):\n",
    "    payload = {\n",
    "        \"symbolId\": stock_id,\n",
    "        \"apiToken\": api_token\n",
    "    }\n",
    "\n",
    "    res = requests.get(\"https://api.fugle.tw/realtime/v0/intraday/quote\", params=payload)\n",
    "    json_data = res.json()\n",
    "\n",
    "    res1 = requests.get(\"https://api.fugle.tw/realtime/v0/intraday/meta\", params=payload)\n",
    "    json_data1 = res1.json()\n",
    "\n",
    "    return {\n",
    "        \"open\": json_data[\"data\"][\"quote\"][\"priceOpen\"][\"price\"],\n",
    "        \"high\": json_data[\"data\"][\"quote\"][\"priceHigh\"][\"price\"],\n",
    "        \"low\": json_data[\"data\"][\"quote\"][\"priceLow\"][\"price\"],\n",
    "        \"close\": json_data[\"data\"][\"quote\"][\"trade\"][\"price\"],\n",
    "        \"lastClose\": json_data1[\"data\"][\"meta\"][\"priceReference\"],\n",
    "        \"name\": json_data1[\"data\"][\"meta\"][\"nameZhTw\"]\n",
    "    }\n",
    "```"
   ]
  },
  {
   "cell_type": "code",
   "execution_count": null,
   "metadata": {},
   "outputs": [],
   "source": [
    "def fugle_stock_crawler(stock_id, api_token):\n",
    "    payload = {\n",
    "        \"symbolId\": stock_id,\n",
    "        \"apiToken\": api_token\n",
    "    }\n",
    "\n",
    "    res = requests.get(\"https://api.fugle.tw/realtime/v0/intraday/quote\", params=payload)\n",
    "    json_data = res.json()\n",
    "\n",
    "    res1 = requests.get(\"https://api.fugle.tw/realtime/v0/intraday/meta\", params=payload)\n",
    "    json_data1 = res1.json()\n",
    "\n",
    "    return {\n",
    "        \"open\": json_data[\"data\"][\"quote\"][\"priceOpen\"][\"price\"],\n",
    "        \"high\": json_data[\"data\"][\"quote\"][\"priceHigh\"][\"price\"],\n",
    "        \"low\": json_data[\"data\"][\"quote\"][\"priceLow\"][\"price\"],\n",
    "        \"close\": json_data[\"data\"][\"quote\"][\"trade\"][\"price\"],\n",
    "        \"lastClose\": json_data1[\"data\"][\"meta\"][\"priceReference\"],\n",
    "        \"name\": json_data1[\"data\"][\"meta\"][\"nameZhTw\"]\n",
    "    }"
   ]
  },
  {
   "cell_type": "code",
   "execution_count": null,
   "metadata": {},
   "outputs": [],
   "source": [
    "fugle_stock_crawler(\"2884\", \"demo\")"
   ]
  },
  {
   "cell_type": "markdown",
   "metadata": {},
   "source": [
    "# 將我們剛才處理資料的流程封裝到函數内\n",
    "\n",
    "一旦在修改同行碼之後，我們的程式就可以截取多支不同的股票資訊了"
   ]
  },
  {
   "cell_type": "code",
   "execution_count": null,
   "metadata": {},
   "outputs": [],
   "source": [
    "api_token = watch_list.range(\"L1\").value\n",
    "stock_id = \"2884\"\n",
    "\n",
    "print(api_token)\n",
    "fugle_stock_crawler(stock_id, api_token)"
   ]
  },
  {
   "cell_type": "code",
   "execution_count": null,
   "metadata": {},
   "outputs": [],
   "source": [
    "api_token = watch_list.range(\"L1\").value\n",
    "stock_id = \"2884\"\n",
    "\n",
    "data = fugle_stock_crawler(stock_id, api_token)\n",
    "\n",
    "\n",
    "[\n",
    "    data[\"name\"],\n",
    "    data[\"open\"],\n",
    "    data[\"high\"],\n",
    "    data[\"low\"],\n",
    "    data[\"close\"],\n",
    "    data[\"lastClose\"]\n",
    "]"
   ]
  },
  {
   "cell_type": "code",
   "execution_count": null,
   "metadata": {},
   "outputs": [],
   "source": [
    "api_token = port_sheet.range(\"L1\").value\n",
    "stock_id = \"2884\"\n",
    "\n",
    "data = fugle_stock_crawler(stock_id, api_token)\n",
    "\n",
    "watch_list.range(\"B2\").value = [data[\"name\"],data[\"open\"],data[\"high\"],data[\"low\"],data[\"close\"],data[\"lastClose\"]]"
   ]
  },
  {
   "cell_type": "markdown",
   "metadata": {},
   "source": [
    "# 我們就可以成功將資料寫入工作表了\n",
    "![](https://drive.google.com/uc?export=download&id=161WgYDildws9AJMNaT8Oha0VdJXmYUy_)\n",
    "\n",
    "最後只需要輸入一個公式，我們就可以將漲跌幅度計算出來：\n",
    "\n",
    "![](https://drive.google.com/uc?export=download&id=18mW3ehmeHvaW44QFWFxyYxR10VecXf6J)"
   ]
  },
  {
   "cell_type": "markdown",
   "metadata": {},
   "source": [
    "# 動態截取使用者輸入的觀察清單\n",
    "\n",
    "若要頻繁的修改程式碼，並不是一個聰明的做法，因爲會增加改錯的風險\n",
    "\n",
    "所以我們就把程式改成：\n",
    "\n",
    "1. 動態截取使用者輸入的股票代號\n",
    "2. 動態截取資料\n",
    "3. 寫入工作表"
   ]
  },
  {
   "cell_type": "code",
   "execution_count": null,
   "metadata": {},
   "outputs": [],
   "source": [
    "last_row = watch_list.range(\"A1\").end(\"down\").row\n",
    "\n",
    "for i in range(2, last_row+1):\n",
    "    stock_id = watch_list.range(f\"A{i}\").value\n",
    "    print(stock_id)"
   ]
  },
  {
   "cell_type": "code",
   "execution_count": null,
   "metadata": {},
   "outputs": [],
   "source": [
    "last_row = watch_list.range(\"A1\").end(\"down\").row\n",
    "\n",
    "for i in range(2, last_row+1):\n",
    "    stock_id = watch_list.range(f\"A{i}\").value\n",
    "    stock_id = str(int(stock_id)) if type(stock_id) == float else str(stock_id)\n",
    "    print(stock_id)"
   ]
  },
  {
   "cell_type": "code",
   "execution_count": null,
   "metadata": {},
   "outputs": [],
   "source": [
    "# 偵測最後一行\n",
    "last_row = watch_list.range(\"A1\").end(\"down\").row\n",
    "\n",
    "# 從第二行到最後一行\n",
    "for i in range(2, last_row+1):\n",
    "    # 截取該行 A 欄的資料\n",
    "    stock_id = watch_list.range(f\"A{i}\").value\n",
    "    stock_id = str(int(stock_id)) if type(stock_id) == float else str(stock_id)\n",
    "    print(stock_id)\n",
    "    # 透過 fugle api 截取該股票資料\n",
    "    data = fugle_stock_crawler(stock_id, api_token)\n",
    "    print(data)"
   ]
  },
  {
   "cell_type": "code",
   "execution_count": null,
   "metadata": {},
   "outputs": [],
   "source": [
    "# 偵測最後一行\n",
    "last_row = watch_list.range(\"A1\").end(\"down\").row\n",
    "\n",
    "# 從第二行到最後一行\n",
    "for i in range(2, last_row+1):\n",
    "    # 截取該行 A 欄的資料\n",
    "    stock_id = watch_list.range(f\"A{i}\").value\n",
    "    stock_id = str(int(stock_id)) if type(stock_id) == float else str(stock_id)\n",
    "    print(stock_id)\n",
    "    data = fugle_stock_crawler(stock_id, api_token)\n",
    "    # 將結果寫入觀察清單的同一行\n",
    "    watch_list.range(f\"B{i}\").value = [data[\"name\"],data[\"open\"],data[\"high\"],data[\"low\"],data[\"close\"],data[\"lastClose\"]]"
   ]
  },
  {
   "cell_type": "markdown",
   "metadata": {},
   "source": [
    "最後我們的觀察清單就會顯示：\n",
    "\n",
    "![](https://drive.google.com/uc?export=download&id=1clkVXuWuj9tOWk8XXCpogJRV7_q8d6Z4)"
   ]
  },
  {
   "cell_type": "markdown",
   "metadata": {},
   "source": [
    "## 2. 具備顯示即時的走勢圖\n",
    "\n",
    "我們接下來要打造一個即時走勢圖的功能\n",
    "\n",
    "用 Python 產生走勢圖的實作方法有很多種，本課程將會使用 Excel 内建的圖表功能來實作走勢圖\n",
    "\n",
    "Excel 圖表的類型衆多，繪製走勢圖我們會使用**開盤-高-低-收盤股價圖**：\n",
    "\n",
    "![](https://www.dropbox.com/s/8q8n9tpzn118fl4/ohlc_chart.PNG?dl=1)\n",
    "\n",
    "繪製圖表前，最麻煩的事情是我們需要一個一個交易日的資料，並且要把資料整理成以下格式：\n",
    "\n",
    "![](https://www.dropbox.com/s/qo2m4phyo7sk9if/real_time_chart_data.PNG?dl=1)\n",
    "\n",
    "此時我們就可以使用 fugle 的 `/intraday/chart` api 來截取需要的資料"
   ]
  },
  {
   "cell_type": "code",
   "execution_count": null,
   "metadata": {},
   "outputs": [],
   "source": [
    "import requests\n",
    "\n",
    "payload = {\n",
    "    \"symbolId\": \"2884\",\n",
    "    \"apiToken\": api_token\n",
    "}\n",
    "\n",
    "res = requests.get(\"https://api.fugle.tw/realtime/v0/intraday/chart\", params=payload)\n",
    "\n",
    "result = res.json()\n",
    "result"
   ]
  },
  {
   "cell_type": "markdown",
   "metadata": {},
   "source": [
    "# 觀察一下回傳的結果\n",
    "\n",
    "```json\n",
    "{\n",
    "  {'2019-06-28T01:01:00.000Z': {'close': 26.3,\n",
    "    'high': 26.3,\n",
    "    'low': 26.3,\n",
    "    'open': 26.3,\n",
    "    'unit': 426,\n",
    "    'volume': 426000},\n",
    "   '2019-06-28T01:02:00.000Z': {'close': 26.3,\n",
    "    'high': 26.3,\n",
    "    'low': 26.3,\n",
    "    'open': 26.3,\n",
    "    'unit': 47,\n",
    "    'volume': 47000}\n",
    "   }\n",
    "}\n",
    "```\n",
    "\n",
    "我們要的資料是被放在 data > chart 内，**每一個交易時段與相對應的開盤-高-低-收盤股價是以 key : value 的形式被封裝在字典内**\n",
    "\n",
    "但是我們需要把這些資料轉成二維陣列，才有可能將其批次的寫入 Excel 工作表：\n",
    "\n",
    "\n",
    "```python\n",
    "[\n",
    "    ['2019-06-28T01:01:00.000Z', '26.3', '26.3', '26.3', '26.3','426', '426000'],\n",
    "    ['2019-06-28T01:02:00.000Z', '26.3', '26.3', '26.3', '26.3', '47', '47000'],\n",
    "    ['2019-06-28T01:03:00.000Z', '26.3', '26.35', '26.3', '26.35', '88', '88000']\n",
    "]\n",
    "```"
   ]
  },
  {
   "cell_type": "code",
   "execution_count": null,
   "metadata": {},
   "outputs": [],
   "source": [
    "# 我們先將所有時段的時間戳讀取成一個串列\n",
    "time_idx = result[\"data\"][\"chart\"].keys()\n",
    "time_idx"
   ]
  },
  {
   "cell_type": "code",
   "execution_count": null,
   "metadata": {},
   "outputs": [],
   "source": [
    "# 將單個時段的\n",
    "price_open = []\n",
    "\n",
    "data = result[\"data\"][\"chart\"]\n",
    "\n",
    "for time in time_idx:\n",
    "    price_open.append(data[time][\"open\"])\n",
    "\n",
    "price_open"
   ]
  },
  {
   "cell_type": "code",
   "execution_count": null,
   "metadata": {},
   "outputs": [],
   "source": [
    "price_open = []\n",
    "price_high = []\n",
    "price_low = []\n",
    "price_close = []\n",
    "unit = []\n",
    "volume = []\n",
    "data = result[\"data\"][\"chart\"]\n",
    "\n",
    "for time in time_idx:\n",
    "    price_open.append(data[time][\"open\"])\n",
    "    price_high.append(data[time][\"high\"])\n",
    "    price_low.append(data[time][\"low\"])\n",
    "    price_close.append(data[time][\"close\"])\n",
    "    unit.append(data[time][\"unit\"])\n",
    "    volume.append(data[time][\"volume\"])\n",
    "    \n",
    "    \n",
    "[price_open,price_high,price_low,price_close,unit,volume]"
   ]
  },
  {
   "cell_type": "code",
   "execution_count": null,
   "metadata": {},
   "outputs": [],
   "source": [
    "# 將 TW884 存入 target_sheet\n",
    "target_sheet = wb.sheets[\"TW2884\"]\n",
    "\n",
    "# 將二維串列的資料指定給 A2 為左上角的範圍\n",
    "target_sheet.range(\"A2\").value = [list(time_idx), price_open,price_high,price_low,price_close,unit,volume]"
   ]
  },
  {
   "cell_type": "markdown",
   "metadata": {},
   "source": [
    "# 但是結果卻出乎我們意料之外\n",
    "\n",
    "![](https://www.dropbox.com/s/kq8f8fa4svvemtg/chart_b4_transpose.PNG?dl=1)\n",
    "\n",
    "原因是我們的二維串列的維度不對，**今天要將資料寫入一個二維的 Excel 工作表範圍，就需要賦值一個維度大小一樣的二維串列**\n",
    "\n",
    "我們現在需要把二維串列做一個**轉置（Transpose）的處理，利用 Numpy 套件可以很快完成**"
   ]
  },
  {
   "cell_type": "code",
   "execution_count": null,
   "metadata": {},
   "outputs": [],
   "source": [
    "import numpy as np\n",
    "\n",
    "arr = np.array([list(time_idx), price_open,price_high,price_low,price_close,unit,volume]) \n",
    "arr.shape"
   ]
  },
  {
   "cell_type": "code",
   "execution_count": null,
   "metadata": {},
   "outputs": [],
   "source": [
    "arr = np.array([list(time_idx), price_open,price_high,price_low,price_close,unit,volume]) \n",
    "arr.T"
   ]
  },
  {
   "cell_type": "code",
   "execution_count": null,
   "metadata": {},
   "outputs": [],
   "source": [
    "target_sheet.range(\"A2\").value = arr.T"
   ]
  },
  {
   "cell_type": "code",
   "execution_count": null,
   "metadata": {},
   "outputs": [],
   "source": [
    "import requests\n",
    "import numpy as np\n",
    "\n",
    "def get_chart_data(stock_id, api_token):\n",
    "    payload = {\n",
    "        \"symbolId\": stock_id,\n",
    "        \"apiToken\": api_token\n",
    "    }\n",
    "\n",
    "    res = requests.get(\"https://api.fugle.tw/realtime/v0/intraday/chart\", params=payload)\n",
    "\n",
    "    result = res.json()\n",
    "\n",
    "    price_open = []\n",
    "    price_high = []\n",
    "    price_low = []\n",
    "    price_close = []\n",
    "    unit = []\n",
    "    volume = []\n",
    "\n",
    "    time_idx = result[\"data\"][\"chart\"].keys()\n",
    "\n",
    "    for time in time_idx:\n",
    "        data = result[\"data\"][\"chart\"]\n",
    "        price_open.append(data[time][\"open\"])\n",
    "        price_high.append(data[time][\"high\"])\n",
    "        price_low.append(data[time][\"low\"])\n",
    "        price_close.append(data[time][\"close\"])\n",
    "        unit.append(data[time][\"unit\"])\n",
    "        volume.append(data[time][\"volume\"])\n",
    "\n",
    "    real_time_data = [list(time_idx), price_open,price_high,price_low,price_close,unit,volume]\n",
    "    stock_data_ary = np.array(real_time_data)\n",
    "    \n",
    "    return stock_data_ary.T"
   ]
  },
  {
   "cell_type": "code",
   "execution_count": null,
   "metadata": {},
   "outputs": [],
   "source": [
    "data = get_chart_data(2884, \"demo\")\n",
    "print(data)\n",
    "print(data.shape)"
   ]
  },
  {
   "cell_type": "code",
   "execution_count": null,
   "metadata": {},
   "outputs": [],
   "source": [
    "# 將 TW2884 存入 target_sheet\n",
    "target_sheet = wb.sheets[\"走勢資料\"]\n",
    "# 將二維串列的資料指定給 A2 為左上角的範圍\n",
    "target_sheet.range(\"A2\").value = get_chart_data(2884, \"demo\")"
   ]
  },
  {
   "cell_type": "markdown",
   "metadata": {},
   "source": [
    "# 用 Python 操作 Excel 圖表"
   ]
  },
  {
   "cell_type": "code",
   "execution_count": null,
   "metadata": {},
   "outputs": [],
   "source": [
    "dashboard = wb.sheets[\"即時看板\"]\n",
    "# 將即時看板内的圖表物件都讀取出來\n",
    "dashboard.charts"
   ]
  },
  {
   "cell_type": "code",
   "execution_count": null,
   "metadata": {},
   "outputs": [],
   "source": [
    "# 選擇即時看板内名爲 chart1 的圖表，存入 chart 變數\n",
    "chart = dashboard.charts[\"chart1\"]\n",
    "chart"
   ]
  },
  {
   "cell_type": "code",
   "execution_count": null,
   "metadata": {},
   "outputs": [],
   "source": [
    "dashboard = wb.sheets[\"即時看板\"]\n",
    "target_sheet = wb.sheets[\"走勢資料\"]\n",
    "\n",
    "chart = dashboard.charts[\"chart1\"]\n",
    "\n",
    "last_cell = target_sheet.range(\"E1\").end(\"down\")\n",
    "# 選擇 走勢資料 上，B2 到 E267 這個範圍，\n",
    "data = target_sheet.range(f\"B2:E{last_cell.row}\")\n",
    "# 將圖表的資料設定成該範圍内的資料\n",
    "chart.set_source_data(data)\n",
    "# 最後將圖表的類別設定成 開盤-高-低-收盤股價圖\n",
    "chart.chart_type = \"stock_ohlc\""
   ]
  },
  {
   "cell_type": "markdown",
   "metadata": {},
   "source": [
    "# 3. 允許使用者選擇不同的股票 "
   ]
  },
  {
   "cell_type": "code",
   "execution_count": null,
   "metadata": {},
   "outputs": [],
   "source": [
    "dashboard = wb.sheets[\"即時看板\"]\n",
    "# 截取使用者選擇的股票代號\n",
    "stock_id = dashboard.range(\"stock1\").value\n",
    "\n",
    "target_sheet = wb.sheets[\"走勢資料\"]\n",
    "\n",
    "# avoid ETF stock number that begins with `0`\n",
    "if type(stock_id) == float:\n",
    "    stock_id = str(int(stock_id))\n",
    "\n",
    "# 清理工作表的舊資料\n",
    "target_sheet.range(\"A2\").expand().clear_contents()\n",
    "# 寫入資料\n",
    "target_sheet.range(\"A2\").value = get_chart_data(stock_id, \"demo\")\n",
    "\n",
    "chart = dashboard.charts[\"chart1\"]\n",
    "last_cell = target_sheet.range(\"E1\").end(\"down\")\n",
    "chart.set_source_data(target_sheet.range(f\"B2:E{last_cell.row}\"))\n",
    "chart.chart_type = \"stock_ohlc\""
   ]
  },
  {
   "cell_type": "code",
   "execution_count": null,
   "metadata": {},
   "outputs": [],
   "source": [
    "import time\n",
    "\n",
    "dashboard = wb.sheets[\"即時看板\"]\n",
    "\n",
    "while True:\n",
    "    # 截取即時看板上的股票代號\n",
    "    stock_id = dashboard.range(\"stock1\").value\n",
    "\n",
    "    # 將被讀取成浮點數的股票代號轉成字串\n",
    "    if type(stock_id) == float:\n",
    "        stock_id = str(int(stock_id))\n",
    "        \n",
    "    target_sheet = wb.sheets[\"走勢資料\"]\n",
    "\n",
    "    # 呼叫函數，將截取到的圖表資料（一個二維陣列）寫入以 A2 為起點的範圍\n",
    "    target_sheet.range(\"A2\").value = get_chart_data(stock_id, \"demo\")\n",
    "\n",
    "    chart = dashboard.charts[\"chart1\"]\n",
    "    last_cell = target_sheet.range(\"E1\").end(\"down\")\n",
    "    chart.set_source_data(target_sheet.range(f\"B2:E{last_cell.row}\"))\n",
    "    chart.chart_type = \"stock_ohlc\"\n",
    "    # 將最後一筆收盤價寫入看板工作表\n",
    "    dashboard.range(\"price1\").value = last_cell.value\n",
    "    \n",
    "    time.sleep(10)"
   ]
  },
  {
   "cell_type": "markdown",
   "metadata": {},
   "source": [
    "\n",
    "# 4. 即時截取使用者在工作表上輸入的到價資訊"
   ]
  },
  {
   "cell_type": "code",
   "execution_count": null,
   "metadata": {},
   "outputs": [],
   "source": [
    "condition = dashboard.range(\"condition1\").value\n",
    "limit = dashboard.range(\"limit1\").value\n",
    "price = dashboard.range(\"price1\").value\n",
    "stock_id = int(dashboard.range(\"stock1\").value)\n",
    "\n",
    "print(condition)\n",
    "print(limit)\n",
    "print(price)\n",
    "print(stock_id)"
   ]
  },
  {
   "cell_type": "code",
   "execution_count": null,
   "metadata": {},
   "outputs": [],
   "source": [
    "# 寫出條件判斷\n",
    "def check_condition(stock_id, price, condition, limit):\n",
    "    msg = \"\"\n",
    "    if condition == \"<\":\n",
    "        if price < limit:\n",
    "             msg += \"{} 的價格低於 {}\\n\".format(stock_id, limit)\n",
    "    elif condition == \">\":\n",
    "        if price > limit:\n",
    "             msg += \"{} 的價格高於 {}\\n\".format(stock_id, limit)\n",
    "    elif condition == \"=\":\n",
    "        if price == limit:\n",
    "             msg += \"{} 的價格等於 {}\\n\".format(stock_id, limit)\n",
    "    \n",
    "    return msg"
   ]
  },
  {
   "cell_type": "code",
   "execution_count": null,
   "metadata": {},
   "outputs": [],
   "source": [
    "condition = dashboard.range(\"condition1\").value\n",
    "limit = dashboard.range(\"limit1\").value\n",
    "price = dashboard.range(\"price1\").value\n",
    "stock_id = dashboard.range(\"stock1\").value\n",
    "\n",
    "check_condition(stock_id, price, condition, limit)"
   ]
  },
  {
   "cell_type": "code",
   "execution_count": null,
   "metadata": {},
   "outputs": [],
   "source": [
    "def line_notify(msg, line_token):\n",
    "    line_url = \"https://notify-api.line.me/api/notify\"\n",
    "    token = line_token\n",
    "  \n",
    "    headers = {\n",
    "            \"Authorization\": \"Bearer \" + token, \n",
    "            \"Content-Type\" : \"application/x-www-form-urlencoded\"\n",
    "        }\n",
    "\n",
    "    payload = {'message': msg}\n",
    "    r = requests.post(line_url, headers = headers, params = payload)\n",
    "    return r"
   ]
  },
  {
   "cell_type": "code",
   "execution_count": null,
   "metadata": {},
   "outputs": [],
   "source": [
    "import time\n",
    "\n",
    "dashboard = wb.sheets[\"即時看板\"]\n",
    "\n",
    "fugle_token = wb.sheets[\"觀察清單\"].range(\"L1\").value\n",
    "line_token = wb.sheets[\"觀察清單\"].range(\"L3\").value\n",
    "\n",
    "while True:\n",
    "    line_report = \"歡樂碼農及時股價看板：\\n\\n\"\n",
    "    # 截取即時看板上的股票代號\n",
    "    stock_id = dashboard.range(\"stock1\").value\n",
    "\n",
    "    # 將被讀取成浮點數的股票代號轉成字串\n",
    "    if type(stock_id) == float:\n",
    "        stock_id = str(int(stock_id))\n",
    "        \n",
    "    target_sheet = wb.sheets[\"走勢資料\"]\n",
    "\n",
    "    # 呼叫函數，將截取到的圖表資料（一個二維陣列）寫入以 A2 為起點的範圍\n",
    "    target_sheet.range(\"A2\").value = get_chart_data(stock_id, fugle_token)\n",
    "    # 選擇即時看板的圖表物件\n",
    "    chart = dashboard.charts[\"chart1\"]\n",
    "    last_cell = target_sheet.range(\"E1\").end(\"down\")\n",
    "    # 將圖表物件的資料來源設定成範圍 B2:GN\n",
    "    chart.set_source_data(target_sheet.range(f\"B2:E{last_cell.row}\"))\n",
    "    # 將圖表類型設定成 ohlc（開盤-高-低-收盤股價圖）\n",
    "    chart.chart_type = \"stock_ohlc\"\n",
    "    # 將最後一筆收盤價寫入看板工作表\n",
    "    dashboard.range(\"price1\").value = last_cell.value\n",
    "    # 讀取觸發 Line 通知的比較條件\n",
    "    condition = dashboard.range(\"condition1\").value\n",
    "    limit = dashboard.range(\"limit1\").value\n",
    "    price = dashboard.range(\"price1\").value\n",
    "    # 檢查是否符合觸發 Line 通知，產生 Line 訊息的字串\n",
    "    line_report += check_condition(stock_id, price, condition, limit)\n",
    "\n",
    "    # 若 Line 訊息的字串與初始化的不符合，意味條件被觸發\n",
    "    if line_report != \"歡樂碼農即時股價看板：\\n\\n\":\n",
    "        # 發送 Line 訊息\n",
    "        line_notify(line_report, line_token)\n",
    "\n",
    "    time.sleep(10)"
   ]
  }
 ],
 "metadata": {
  "kernelspec": {
   "display_name": "Python 3",
   "language": "python",
   "name": "python3"
  },
  "language_info": {
   "codemirror_mode": {
    "name": "ipython",
    "version": 3
   },
   "file_extension": ".py",
   "mimetype": "text/x-python",
   "name": "python",
   "nbconvert_exporter": "python",
   "pygments_lexer": "ipython3",
   "version": "3.7.3"
  }
 },
 "nbformat": 4,
 "nbformat_minor": 2
}
