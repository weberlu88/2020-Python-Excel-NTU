{
 "cells": [
  {
   "cell_type": "markdown",
   "metadata": {},
   "source": [
    "# 通道套利策略：Donchain Channel\n",
    "\n",
    "股票市場的行情是隨機而起，一個價格的震盪到底隱含了趨勢或是雜訊？通道模型適度的解決了這個問題。它利用**過去一段時間内的價格訊息，繪製出上下兩條通道線 (上、下界)，借此設定股價的相對高低界限。**\n",
    "Donchain Channel 流行於上個世紀 70 年代，由著名海龜交易員 Richard Donchain 發明，雖然這個方法在今天已經很難套到巨大的利潤，但是我們依然可以從實作的過程中參考前人的如何把交易系統化的思維方式：\n",
    "\n",
    "Donchain Channel 的規則如下：\n",
    "\n",
    "- 每天取**過去 20 日的最大收盤價為上界**\n",
    "- 每天取**過去 20 日的最小收盤價為下界**\n",
    "- 利用每天的**上界與下界的平均值當作中界**\n",
    "\n",
    "![](https://www.dropbox.com/s/8yx9cadj4ou9a4u/donchain_channel.png?dl=1)\n",
    "\n",
    "Donchain Channel 有兩種策略：\n",
    "\n",
    "策略 A：\n",
    "    1. 若收盤價大於過去 20 日收盤價的最大值，代表不正常上漲，所以就放空股票，直到回到中心點平倉\n",
    "    2. 若收盤價小於過去 20 日收盤價的最小值，代表不正常下跌，所以就做多股票，直到回到中心點平倉\n",
    "\n",
    "策略 B：\n",
    "    1. 若收盤價大於過去 20 日收盤價的最大值，代表目前是上漲趨勢，所以就做多股票，直到股價跌破中心點平倉\n",
    "    2. 若收盤價小於過去 20 日收盤價的最小值，代表不正常下跌趨勢，所以就做空股票，直到股價漲破中心點平倉\n",
    "\n",
    "***筆者碎碎念：大部分網路上的文件都是以策略 B 爲主，不過筆者自己的經驗是，不同策略適用與不同個股，請先將不同策略針對個股進行回測比較結果**\n",
    "\n",
    "***備注：非投資建議，本課程提供的資料及交易策略，只可作為參考用途，學員在投資前，務請運用個人獨立思考做出抉擇，如因此招致任何損失，概與本課程無涉。**\n",
    "\n"
   ]
  },
  {
   "cell_type": "code",
   "execution_count": null,
   "metadata": {
    "scrolled": true
   },
   "outputs": [],
   "source": [
    "import pandas as pd\n",
    "# 這邊我們使用臺積電的歷史資料來做回測\n",
    "df = pd.read_excel(\"2330_歷史資料.xlsx\")\n",
    "df"
   ]
  },
  {
   "cell_type": "markdown",
   "metadata": {},
   "source": [
    "# 先來計算上，下，與中軌\n",
    "\n",
    "Donchain Channel 的上，下，與中軌，分別要取得每一個交易日的前 20 的最大值、最小值、及兩者平均值\n",
    "\n",
    "幸虧兩者透過 `DataFrame` 計算都十分容易：\n",
    "\n",
    "```python\n",
    "# 計算最大值\n",
    "df[\"max20d\"] = df[\"收盤價\"].rolling(20).max()\n",
    "df[\"min20d\"] = _____________________________\n",
    "\n",
    "df[\"mean20d\"] = (df[\"max20d\"] + ___________) / 2\n",
    "```"
   ]
  },
  {
   "cell_type": "code",
   "execution_count": null,
   "metadata": {
    "scrolled": true
   },
   "outputs": [],
   "source": [
    "df[\"max20d\"] = df[\"收盤價\"].rolling(20).max()\n",
    "df"
   ]
  },
  {
   "cell_type": "code",
   "execution_count": null,
   "metadata": {},
   "outputs": [],
   "source": [
    "df[\"min20d\"] = _____________________________\n",
    "\n",
    "df[\"mean20d\"] = (df[\"max20d\"] + ___________) / 2\n",
    "df"
   ]
  },
  {
   "cell_type": "code",
   "execution_count": null,
   "metadata": {
    "scrolled": true
   },
   "outputs": [],
   "source": [
    "# 重新將 DataFrame 的索引值設定成 “日期”\n",
    "df2 = df.set_index(\"日期\")\n",
    "df2"
   ]
  },
  {
   "cell_type": "markdown",
   "metadata": {
    "scrolled": true
   },
   "source": [
    "# 但是...\n",
    "\n",
    "別忘了wang現在這樣做回測，`max20d` 與 `min20d` 都是包含每一天當天的價格，所以即使當天價格是20日最高，也永遠不會發生突破上軌的現象，所以我們應該把每一天的 `max20d` 以及 `min20d` 指定給前一天；從 Excel 的角度理解，就是要把 `max20d`、`min20d`、`mean20d` 等欄往上移動一個 row，透過 `DataFrame` 我們可以用 `.shift()` 方法做到\n",
    "\n",
    "```python\n",
    "df2[\"max20d\"] = df2[\"max20d\"].shift(1)\n",
    "df2[\"min20d\"] = df2[\"min20d\"].shift(1)\n",
    "df2[\"mean20d\"] = df2[\"mean20d\"].shift(1)\n",
    "```"
   ]
  },
  {
   "cell_type": "code",
   "execution_count": null,
   "metadata": {
    "scrolled": true
   },
   "outputs": [],
   "source": [
    "df2[\"max20d\"] = df2[\"max20d\"].shift(1)\n",
    "df2"
   ]
  },
  {
   "cell_type": "code",
   "execution_count": null,
   "metadata": {
    "scrolled": true
   },
   "outputs": [],
   "source": [
    "df2[\"max20d\"] = df2[\"max20d\"].shift(1)\n",
    "df2[\"min20d\"] = df2[\"min20d\"].shift(1)\n",
    "df2[\"mean20d\"] = df2[\"mean20d\"].shift(1)\n",
    "df2"
   ]
  },
  {
   "cell_type": "code",
   "execution_count": null,
   "metadata": {
    "scrolled": true
   },
   "outputs": [],
   "source": [
    "# 把 2018 年的資料切片出來\n",
    "df3 = df2[[\"收盤價\", \"max20d\", \"min20d\", \"mean20d\"]][\"2018-01-02\":\"2018-12-28\"]\n",
    "df3"
   ]
  },
  {
   "cell_type": "markdown",
   "metadata": {},
   "source": [
    "# 針對 DataFrame 寫 For Loop\n",
    "\n",
    "由於 Donchain Channel 的回測過程有些複雜，單靠我們在上一堂課學過的 `.apply()` 也很難將邏輯表達清楚\n",
    "\n",
    "這時我們就需要傳統的 `For Loop` 來迭代 `DataFrame` 的每一個 Row 了，這邊就跟大家介紹 `df.iterrows()`：\n",
    "\n",
    "```python\n",
    "for index, row in df3.iterrows():\n",
    "    print(index)\n",
    "    print(row)\n",
    "    print(row[\"max20d\"])\n",
    "    print(\"========\")\n",
    "```"
   ]
  },
  {
   "cell_type": "code",
   "execution_count": null,
   "metadata": {},
   "outputs": [],
   "source": [
    "for index, row in df3.iterrows():\n",
    "    print(index)\n",
    "    print(row[\"max20d\"])\n",
    "    print(\"========\")"
   ]
  },
  {
   "cell_type": "code",
   "execution_count": null,
   "metadata": {
    "scrolled": true
   },
   "outputs": [],
   "source": [
    "import numpy as np\n",
    "\n",
    "df3[\"交易訊號\"] = \"\"\n",
    "df3[\"損益\"] = np.nan\n",
    "df3"
   ]
  },
  {
   "cell_type": "markdown",
   "metadata": {},
   "source": [
    "# 實作Donchain Channel 回測（策略A）"
   ]
  },
  {
   "cell_type": "code",
   "execution_count": null,
   "metadata": {},
   "outputs": [],
   "source": [
    "# 目前是否已做多或做空的訊號\n",
    "hold_flag = False\n",
    "# 買入股票的訊號\n",
    "long_flag = False\n",
    "# 做空股票的訊號\n",
    "short_flag = False\n",
    "# 記錄總收益\n",
    "balance = 0\n",
    "\n",
    "for index, row in df3.iterrows():\n",
    "    print(index)\n",
    "    print(row)\n",
    "    # 若目前沒有進行交易\n",
    "    if hold_flag == False:\n",
    "        # 價格低於下限\n",
    "        if row[\"收盤價\"] <= row[\"min20d\"]:\n",
    "            # 顯示做多\n",
    "            df3.loc[index, \"交易訊號\"] = \"Long\"\n",
    "            # 計算總收益\n",
    "            balance = balance - (row[\"收盤價\"] * 1000)\n",
    "            # 花費現金購買股票\n",
    "            df3.loc[index, \"損益\"] = balance\n",
    "            # 開啓交易訊號\n",
    "            long_flag = True\n",
    "            hold_flag = True\n",
    "            # 價格高於上限\n",
    "        elif row[\"收盤價\"] >= row[\"max20d\"]:\n",
    "            # 顯示做空\n",
    "            df3.loc[index, \"交易訊號\"] = \"Short\"\n",
    "            # 做空，現金增加\n",
    "            balance = balance + (row[\"收盤價\"] * 1000)\n",
    "            df3.loc[index, \"損益\"] = balance\n",
    "            # 開啓交易訊號\n",
    "            short_flag = True\n",
    "            hold_flag = True\n",
    "        else:\n",
    "            df3.loc[index, \"交易訊號\"] = \"---\"\n",
    "            df3.loc[index, \"損益\"] = balance\n",
    "    # 若目前有進行交易\n",
    "    elif hold_flag == True:\n",
    "       # 若現在是做多，而且價格大於等於平均值，平倉\n",
    "       if long_flag == True and row[\"收盤價\"] >= row[\"mean20d\"]:\n",
    "            df3.loc[index, \"交易訊號\"] = \"Offset\"\n",
    "            # 做多在平倉時，現金增加\n",
    "            balance = balance + row[\"收盤價\"] * 1000\n",
    "            df3.loc[index, \"損益\"] = balance\n",
    "            hold_flag = False\n",
    "            long_flag = False\n",
    "            # 平倉之後，將收益歸零\n",
    "            balance = 0\n",
    "       # 若現在是做空，而且價格小於等於平均值，平倉\n",
    "       elif short_flag == True and row[\"收盤價\"] <= row[\"mean20d\"]:\n",
    "            df3.loc[index, \"交易訊號\"] = \"Offset\"\n",
    "            # 做空在平倉時，現金減少\n",
    "            balance = balance - row[\"收盤價\"] * 1000\n",
    "            df3.loc[index, \"損益\"] = balance\n",
    "            # 平倉之後，將收益歸零\n",
    "            hold_flag = False\n",
    "            short_flag = False\n",
    "            balance = 0\n",
    "       else:\n",
    "            df3.loc[index, \"交易訊號\"] = \"---\"\n",
    "            df3.loc[index, \"損益\"] = balance\n",
    "\n",
    "df3"
   ]
  },
  {
   "cell_type": "markdown",
   "metadata": {},
   "source": [
    "# 計算之後\n",
    "\n",
    "我們需要衡量回測的績效"
   ]
  },
  {
   "cell_type": "code",
   "execution_count": null,
   "metadata": {
    "scrolled": true
   },
   "outputs": [],
   "source": [
    "# 將所有平倉的資料過濾出來\n",
    "result_df = df3[df3[\"交易訊號\"] == \"Offset\"]\n",
    "result_df"
   ]
  },
  {
   "cell_type": "markdown",
   "metadata": {},
   "source": [
    "# 接下來我們來計算獲勝率\n",
    "\n",
    "\n",
    "**獲勝率 = 交易有獲利的次數 / 交易總次數**\n"
   ]
  },
  {
   "cell_type": "code",
   "execution_count": null,
   "metadata": {},
   "outputs": [],
   "source": [
    "# 先過濾出所有賺錢的交易\n",
    "result_df[result_df[\"損益\"] > 0]"
   ]
  },
  {
   "cell_type": "code",
   "execution_count": null,
   "metadata": {},
   "outputs": [],
   "source": [
    "# 計算這些交易的筆數\n",
    "result_df[result_df[\"損益\"] > 0].shape"
   ]
  },
  {
   "cell_type": "code",
   "execution_count": null,
   "metadata": {},
   "outputs": [],
   "source": [
    "# 交易總次數\n",
    "result_df.shape[0]"
   ]
  },
  {
   "cell_type": "code",
   "execution_count": null,
   "metadata": {},
   "outputs": [],
   "source": [
    "# 最後算出我們的獲勝率\n",
    "winrate_A = result_df[result_df[\"損益\"] > 0].shape[0] / result_df.shape[0]\n",
    "winrate_A"
   ]
  },
  {
   "cell_type": "code",
   "execution_count": null,
   "metadata": {
    "scrolled": true
   },
   "outputs": [],
   "source": [
    "# 計算纍積損益\n",
    "result_df[\"損益\"].cumsum()"
   ]
  },
  {
   "cell_type": "code",
   "execution_count": null,
   "metadata": {},
   "outputs": [],
   "source": [
    "result_df[\"纍積損益\"] = result_df[\"損益\"].cumsum()\n",
    "result_df"
   ]
  },
  {
   "cell_type": "code",
   "execution_count": null,
   "metadata": {},
   "outputs": [],
   "source": [
    "profit_A = result_df[\"纍積損益\"][-1]\n",
    "profit_A"
   ]
  },
  {
   "cell_type": "code",
   "execution_count": null,
   "metadata": {
    "scrolled": true
   },
   "outputs": [],
   "source": [
    "df4 = df2[[\"收盤價\", \"max20d\", \"min20d\", \"mean20d\"]][\"2018-01-02\":\"2018-12-28\"]\n",
    "df4"
   ]
  },
  {
   "cell_type": "markdown",
   "metadata": {},
   "source": [
    "# 實作策略 B"
   ]
  },
  {
   "cell_type": "code",
   "execution_count": null,
   "metadata": {},
   "outputs": [],
   "source": [
    "# 目前是否已做多或做空的訊號\n",
    "hold_flag = False\n",
    "# 買入股票的訊號\n",
    "long_flag = False\n",
    "# 做空股票的訊號\n",
    "short_flag = False\n",
    "# 記錄收益\n",
    "balance = 0\n",
    "\n",
    "# number of shares\n",
    "shares = 1000\n",
    "\n",
    "for index, row in df4.iterrows():\n",
    "    print(index)\n",
    "    print(row)\n",
    "    # 若目前沒有進行交易\n",
    "    if hold_flag == False:\n",
    "        # 價格低於下限\n",
    "        if row[\"收盤價\"] <= row[\"min20d\"]:\n",
    "            # 顯示做空\n",
    "            df4.loc[index, \"交易訊號\"] = \"Short\"\n",
    "            # 計算總收益\n",
    "            balance = balance + (row[\"收盤價\"] * shares)\n",
    "            # 花費現金購買股票\n",
    "            df4.loc[index, \"損益\"] = balance\n",
    "            # 開啓交易訊號\n",
    "            short_flag = True\n",
    "            hold_flag = True\n",
    "            # 價格高於上限\n",
    "        elif row[\"收盤價\"] >= row[\"max20d\"]:\n",
    "            # 顯示做多\n",
    "            df4.loc[index, \"交易訊號\"] = \"Long\"\n",
    "            # 做多，現金減少\n",
    "            balance = balance - (row[\"收盤價\"] * shares)\n",
    "            df4.loc[index, \"損益\"] = balance\n",
    "            # 開啓交易訊號\n",
    "            long_flag = True\n",
    "            hold_flag = True\n",
    "        else:\n",
    "            df4.loc[index, \"交易訊號\"] = \"---\"\n",
    "            df4.loc[index, \"損益\"] = balance\n",
    "    # 若目前有進行交易\n",
    "    elif hold_flag == True:\n",
    "       # 若現在是做多，而且價格小於等於平均值，平倉\n",
    "       if long_flag == True and row[\"收盤價\"] <= row[\"mean20d\"]:\n",
    "            df4.loc[index, \"交易訊號\"] = \"Offset\"\n",
    "            # 做多在平倉時，現金增加\n",
    "            balance = balance + row[\"收盤價\"] * shares\n",
    "            df4.loc[index, \"損益\"] = balance\n",
    "            hold_flag = False\n",
    "            long_flag = False\n",
    "            # 平倉之後，將收益歸零\n",
    "            balance = 0\n",
    "       # 若現在是做空，而且價格大於等於平均值，平倉\n",
    "       elif short_flag == True and row[\"收盤價\"] >= row[\"mean20d\"]:\n",
    "            df4.loc[index, \"交易訊號\"] = \"Offset\"\n",
    "            # 做空在平倉時，現金減少\n",
    "            balance = balance - row[\"收盤價\"] * shares\n",
    "            df4.loc[index, \"損益\"] = balance\n",
    "            hold_flag = False\n",
    "            short_flag = False\n",
    "            # 平倉之後，將收益歸零\n",
    "            balance = 0\n",
    "       else:\n",
    "            df4.loc[index, \"交易訊號\"] = \"---\"\n",
    "            df4.loc[index, \"損益\"] = balance\n",
    "    \n",
    "    print(balance)\n",
    "    \n",
    "df4"
   ]
  },
  {
   "cell_type": "code",
   "execution_count": null,
   "metadata": {
    "scrolled": true
   },
   "outputs": [],
   "source": [
    "# 將所有平倉的資料過濾出來\n",
    "df4[df4[\"交易訊號\"] == \"Offset\"]"
   ]
  },
  {
   "cell_type": "code",
   "execution_count": null,
   "metadata": {},
   "outputs": [],
   "source": [
    "# 將所有平倉的資料過濾出來\n",
    "result_df2 = df4[df4[\"交易訊號\"] == \"Offset\"]\n",
    "result_df2"
   ]
  },
  {
   "cell_type": "code",
   "execution_count": null,
   "metadata": {},
   "outputs": [],
   "source": [
    "winrate_B = result_df2[result_df2[\"損益\"] > 0].shape[0] / result_df2.shape[0]\n",
    "winrate_B"
   ]
  },
  {
   "cell_type": "code",
   "execution_count": null,
   "metadata": {},
   "outputs": [],
   "source": [
    "result_df2[\"損益\"].cumsum()"
   ]
  },
  {
   "cell_type": "code",
   "execution_count": null,
   "metadata": {},
   "outputs": [],
   "source": [
    "result_df2[\"纍積損益\"] = result_df2[\"損益\"].cumsum()\n",
    "result_df2"
   ]
  },
  {
   "cell_type": "code",
   "execution_count": null,
   "metadata": {},
   "outputs": [],
   "source": [
    "profit_B = result_df2[\"纍積損益\"][-1]\n",
    "profit_B"
   ]
  },
  {
   "cell_type": "code",
   "execution_count": null,
   "metadata": {},
   "outputs": [],
   "source": [
    "# 將結果輸出至 Excel\n",
    "import xlwings as xw\n",
    "\n",
    "wb = xw.Book()\n",
    "\n",
    "sheet = wb.sheets.add(name=\"Donchain 策略A\")\n",
    "sheet.range(\"A1\").value = result_df\n",
    "sheet.range(\"K1\").value = \"獲勝率\"\n",
    "sheet.range(\"L1\").value = winrate_A\n",
    "sheet.range(\"K2\").value = \"纍計收益\"\n",
    "sheet.range(\"L2\").value = profit_A\n",
    "\n",
    "sheet2 = wb.sheets.add(name=\"Donchain 策略B\")\n",
    "sheet2.range(\"A1\").value = result_df2\n",
    "sheet2.range(\"K1\").value = \"獲勝率\"\n",
    "sheet2.range(\"L1\").value = winrate_B\n",
    "sheet2.range(\"K2\").value = \"纍計收益\"\n",
    "sheet2.range(\"L2\").value = profit_B\n",
    "wb.save(\"2330 Donchian Channel 回測\")"
   ]
  }
 ],
 "metadata": {
  "kernelspec": {
   "display_name": "Python 3",
   "language": "python",
   "name": "python3"
  },
  "language_info": {
   "codemirror_mode": {
    "name": "ipython",
    "version": 3
   },
   "file_extension": ".py",
   "mimetype": "text/x-python",
   "name": "python",
   "nbconvert_exporter": "python",
   "pygments_lexer": "ipython3",
   "version": "3.7.4"
  }
 },
 "nbformat": 4,
 "nbformat_minor": 2
}
