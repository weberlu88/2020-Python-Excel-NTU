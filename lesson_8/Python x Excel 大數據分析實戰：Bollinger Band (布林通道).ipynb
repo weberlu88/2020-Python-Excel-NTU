{
 "cells": [
  {
   "cell_type": "markdown",
   "metadata": {},
   "source": [
    "# 通道套利策略：Bollinger Band\n",
    "\n",
    "**Bollinger Band(布林帶)** 的原理，是假設股票的價格是服從**常態分佈**\n",
    "\n",
    "- 從分配的中心點，也就是平均值，往**兩邊加減兩倍的標準差的範圍，占了所有範圍大約 95% 的比例**\n",
    "- 短期的上漲或下跌，勢必會回復到常態\n",
    "- 給予一段觀察期(通常是20天)，每天用前20日的資料算出平均值與標準差\n",
    "\n",
    "\n",
    "\n",
    "![](https://drive.google.com/uc?export=download&id=1YukQViaMakj_j_5C47QzlUYutE7_AAto)\n",
    "\n",
    "Bollinger Band 的交易策略是：\n",
    "\n",
    "    1. 若收盤價大於過去 20 日收盤價的最大值，代表**不正常上漲**，所以就做多股票，直到股價跌破中心點平倉\n",
    "    2. 若收盤價小於過去 20 日收盤價的最小值，代表**不正常下跌**，所以就做空股票，直到股價漲破中心點平倉\n",
    "\n",
    "***備注：非投資建議，本課程提供的資料及交易策略，只可作為參考用途，學員在投資前，務請運用個人獨立思考做出抉擇，如因此招致任何損失，概與本課程無涉。**\n",
    "\n"
   ]
  },
  {
   "cell_type": "code",
   "execution_count": null,
   "metadata": {
    "scrolled": true
   },
   "outputs": [],
   "source": [
    "import pandas as pd\n",
    "\n",
    "df = pd.read_excel(\"2884_歷史資料.xlsx\")\n",
    "df"
   ]
  },
  {
   "cell_type": "markdown",
   "metadata": {},
   "source": [
    "# 先來計算上，下，與中軌\n"
   ]
  },
  {
   "cell_type": "code",
   "execution_count": null,
   "metadata": {
    "scrolled": true
   },
   "outputs": [],
   "source": [
    "df[\"收盤價\"].rolling(20).std() * 2"
   ]
  },
  {
   "cell_type": "code",
   "execution_count": null,
   "metadata": {
    "scrolled": true
   },
   "outputs": [],
   "source": [
    "df[\"max20d\"] = df[\"收盤價\"] + 2 * df[\"收盤價\"].rolling(20).std()\n",
    "df"
   ]
  },
  {
   "cell_type": "code",
   "execution_count": null,
   "metadata": {
    "scrolled": true
   },
   "outputs": [],
   "source": [
    "df[\"min20d\"] = df[\"收盤價\"] - 2 * df[\"收盤價\"].rolling(20).std()\n",
    "df"
   ]
  },
  {
   "cell_type": "code",
   "execution_count": null,
   "metadata": {
    "scrolled": true
   },
   "outputs": [],
   "source": [
    "df[\"收盤價\"].rolling(20).mean()"
   ]
  },
  {
   "cell_type": "code",
   "execution_count": null,
   "metadata": {
    "scrolled": true
   },
   "outputs": [],
   "source": [
    "df[\"mean20d\"] = df[\"收盤價\"].rolling(20).mean()\n",
    "df"
   ]
  },
  {
   "cell_type": "code",
   "execution_count": null,
   "metadata": {
    "scrolled": true
   },
   "outputs": [],
   "source": [
    "df2 = df.set_index(\"日期\")\n",
    "df2"
   ]
  },
  {
   "cell_type": "code",
   "execution_count": null,
   "metadata": {
    "scrolled": true
   },
   "outputs": [],
   "source": [
    "df2[\"max20d\"] = df2[\"max20d\"].shift(1)\n",
    "df2[\"min20d\"] = df2[\"min20d\"].shift(1)\n",
    "df2[\"mean20d\"] = df2[\"mean20d\"].shift(1)\n",
    "df2"
   ]
  },
  {
   "cell_type": "code",
   "execution_count": null,
   "metadata": {
    "scrolled": true
   },
   "outputs": [],
   "source": [
    "df2[[\"收盤價\", \"max20d\", \"min20d\", \"mean20d\"]]"
   ]
  },
  {
   "cell_type": "code",
   "execution_count": null,
   "metadata": {},
   "outputs": [],
   "source": [
    "df2[[\"收盤價\", \"max20d\", \"min20d\", \"mean20d\"]][\"2017-02-09\":]"
   ]
  },
  {
   "cell_type": "code",
   "execution_count": null,
   "metadata": {
    "scrolled": true
   },
   "outputs": [],
   "source": [
    "df3 = df2[[\"收盤價\", \"max20d\", \"min20d\", \"mean20d\"]][\"2017-02-09\":]\n",
    "df3"
   ]
  },
  {
   "cell_type": "code",
   "execution_count": null,
   "metadata": {},
   "outputs": [],
   "source": [
    "for index, row in df3.iterrows():\n",
    "    #print(index)\n",
    "    print(row[\"max20d\"])"
   ]
  },
  {
   "cell_type": "code",
   "execution_count": null,
   "metadata": {
    "scrolled": true
   },
   "outputs": [],
   "source": [
    "import numpy as np\n",
    "df3[\"交易訊號\"] = \"\"\n",
    "df3[\"損益\"] = np.nan\n",
    "df3"
   ]
  },
  {
   "cell_type": "code",
   "execution_count": null,
   "metadata": {},
   "outputs": [],
   "source": [
    "# 目前是否已做多或做空的訊號\n",
    "hold_flag = False\n",
    "# 買入股票的訊號\n",
    "long_flag = False\n",
    "# 做空股票的訊號\n",
    "short_flag = False\n",
    "# 交易股數\n",
    "shares = 1000\n",
    "# 記錄總收益\n",
    "balance = 0\n",
    "\n",
    "\n",
    "for index, row in df3.iterrows():\n",
    "    print(index)\n",
    "    print(row)\n",
    "    # 若目前沒有進行交易\n",
    "    if hold_flag == False:\n",
    "        # 價格低於下限\n",
    "        if row[\"收盤價\"] <= row[\"min20d\"]:\n",
    "            # 顯示做多\n",
    "            df3.loc[index, \"交易訊號\"] = \"Long\"\n",
    "            # 計算總收益\n",
    "            balance = balance - (row[\"收盤價\"] * shares)\n",
    "            # 花費現金購買股票\n",
    "            df3.loc[index, \"損益\"] = balance\n",
    "            # 開啓交易訊號\n",
    "            long_flag = True\n",
    "            hold_flag = True\n",
    "            # 價格高於上限\n",
    "        elif row[\"收盤價\"] >= row[\"max20d\"]:\n",
    "            # 顯示做空\n",
    "            df3.loc[index, \"交易訊號\"] = \"Short\"\n",
    "            # 做空，現金增加\n",
    "            balance = balance + (row[\"收盤價\"] * shares)\n",
    "            df3.loc[index, \"損益\"] = balance\n",
    "            # 開啓交易訊號\n",
    "            short_flag = True\n",
    "            hold_flag = True\n",
    "        else:\n",
    "            df3.loc[index, \"交易訊號\"] = \"---\"\n",
    "            df3.loc[index, \"損益\"] = balance\n",
    "    # 若目前有進行交易\n",
    "    elif hold_flag == True:\n",
    "       # 若現在是做多，而且價格大於等於平均值，平倉\n",
    "       if long_flag == True and row[\"收盤價\"] >= row[\"mean20d\"]:\n",
    "            df3.loc[index, \"交易訊號\"] = \"Offset\"\n",
    "            # 做多在平倉時，現金增加\n",
    "            balance = balance + row[\"收盤價\"] * shares\n",
    "            df3.loc[index, \"損益\"] = balance\n",
    "            hold_flag = False\n",
    "            long_flag = False\n",
    "            balance = 0\n",
    "       # 若現在是做空，而且價格小於等於平均值，平倉\n",
    "       elif short_flag == True and row[\"收盤價\"] <= row[\"mean20d\"]:\n",
    "            df3.loc[index, \"交易訊號\"] = \"Offset\"\n",
    "            # 做空在平倉時，現金減少\n",
    "            balance = balance - row[\"收盤價\"] * shares\n",
    "            df3.loc[index, \"損益\"] = balance\n",
    "            hold_flag = False\n",
    "            short_flag = False\n",
    "            balance = 0\n",
    "       else:\n",
    "            df3.loc[index, \"交易訊號\"] = \"---\"\n",
    "            df3.loc[index, \"損益\"] = balance\n",
    "    \n",
    "    print(balance)"
   ]
  },
  {
   "cell_type": "code",
   "execution_count": null,
   "metadata": {
    "scrolled": true
   },
   "outputs": [],
   "source": [
    "df3"
   ]
  },
  {
   "cell_type": "code",
   "execution_count": null,
   "metadata": {
    "scrolled": true
   },
   "outputs": [],
   "source": [
    "df3[df3[\"交易訊號\"] == \"Offset\"]"
   ]
  },
  {
   "cell_type": "code",
   "execution_count": null,
   "metadata": {},
   "outputs": [],
   "source": [
    "result_df = df3[df3[\"交易訊號\"] == \"Offset\"]\n",
    "result_df"
   ]
  },
  {
   "cell_type": "code",
   "execution_count": null,
   "metadata": {},
   "outputs": [],
   "source": [
    "win_rate = df3[(df3[\"交易訊號\"] == \"Offset\") & (df3[\"損益\"] > 0)].shape[0] / df3[df3[\"交易訊號\"] == \"Offset\"].shape[0]\n",
    "win_rate"
   ]
  },
  {
   "cell_type": "code",
   "execution_count": null,
   "metadata": {},
   "outputs": [],
   "source": [
    "profit = df3[(df3[\"交易訊號\"] == \"Offset\")][\"損益\"].sum()\n",
    "profit"
   ]
  },
  {
   "cell_type": "code",
   "execution_count": null,
   "metadata": {},
   "outputs": [],
   "source": [
    "df3[\"纍積收益\"] =  df3[df3[\"交易訊號\"] == \"Offset\"][\"損益\"].cumsum()\n",
    "df4 = df3[df3[\"交易訊號\"] == \"Offset\"]\n",
    "df4"
   ]
  },
  {
   "cell_type": "code",
   "execution_count": null,
   "metadata": {},
   "outputs": [],
   "source": [
    "import xlwings as xw\n",
    "\n",
    "wb = xw.Book()\n",
    "\n",
    "sheet = wb.sheets.add(name=\"Bollinger Band 回測結果\")\n",
    "sheet.range(\"A1\").value = df4\n",
    "sheet.range(\"K1\").value = \"獲勝率\"\n",
    "sheet.range(\"L1\").value = win_rate\n",
    "sheet.range(\"K2\").value = \"纍計收益\"\n",
    "sheet.range(\"L2\").value = profit\n",
    "\n",
    "wb.save(\"2884 Bollinger Band 回測\")"
   ]
  }
 ],
 "metadata": {
  "kernelspec": {
   "display_name": "Python 3",
   "language": "python",
   "name": "python3"
  },
  "language_info": {
   "codemirror_mode": {
    "name": "ipython",
    "version": 3
   },
   "file_extension": ".py",
   "mimetype": "text/x-python",
   "name": "python",
   "nbconvert_exporter": "python",
   "pygments_lexer": "ipython3",
   "version": "3.7.4"
  }
 },
 "nbformat": 4,
 "nbformat_minor": 2
}
